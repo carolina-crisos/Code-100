{
  "nbformat": 4,
  "nbformat_minor": 0,
  "metadata": {
    "colab": {
      "provenance": [],
      "authorship_tag": "ABX9TyOYTkjuEFA9yYBNvgBjMc9M",
      "include_colab_link": true
    },
    "kernelspec": {
      "name": "python3",
      "display_name": "Python 3"
    },
    "language_info": {
      "name": "python"
    }
  },
  "cells": [
    {
      "cell_type": "markdown",
      "metadata": {
        "id": "view-in-github",
        "colab_type": "text"
      },
      "source": [
        "<a href=\"https://colab.research.google.com/github/carolina-crisos/Code-100/blob/main/E_072.ipynb\" target=\"_parent\"><img src=\"https://colab.research.google.com/assets/colab-badge.svg\" alt=\"Open In Colab\"/></a>"
      ]
    },
    {
      "cell_type": "markdown",
      "source": [
        "**Generar Números Aleatorios y Verificar que Todos sean Impares**"
      ],
      "metadata": {
        "id": "jiwTm0WvyroW"
      }
    },
    {
      "cell_type": "code",
      "execution_count": null,
      "metadata": {
        "colab": {
          "base_uri": "https://localhost:8080/"
        },
        "id": "uw08cCKdyZ9g",
        "outputId": "55f3ac48-4b0a-4b73-ad65-e479557a4548"
      },
      "outputs": [
        {
          "output_type": "stream",
          "name": "stdout",
          "text": [
            "Ingresa un rango de números x hasta y.\n",
            "\n",
            "Valor para x: 50\n",
            "Valor para y: 100\n",
            "¿Cuántos números necesitas?: 5\n",
            "Números impares generados: [65, 55, 87, 53, 93]\n"
          ]
        }
      ],
      "source": [
        "# Importa la biblioteca 'random' para generar números aleatorios\n",
        "import random\n",
        "\n",
        "# Define una función llamada 'generar_impares'\n",
        "def generar_impares(x, y, n):\n",
        "    # Loop infinito hasta que se generen 'n' números impares distintos en el rango [x, y]\n",
        "    while True:\n",
        "        # Genera una muestra aleatoria de 'n' números en el rango [x, y] (números únicos)\n",
        "        numeros = random.sample(range(x, y+1), n)\n",
        "\n",
        "        # Filtra los números impares de la muestra\n",
        "        impares = [num for num in numeros if num % 2 == 1]\n",
        "\n",
        "        # Verifica si todos los números generados son distintos\n",
        "        if len(set(impares)) == n:\n",
        "            break  # Si es así, rompe el bucle\n",
        "\n",
        "    # Devuelve los primeros 'n' números impares generados\n",
        "    return impares[:n]\n",
        "\n",
        "# Solicita al usuario que ingrese un rango de números\n",
        "print('Ingresa un rango de números x hasta y.')\n",
        "x = int(input('\\nValor para x: '))\n",
        "y = int(input('Valor para y: '))\n",
        "n = int(input('¿Cuántos números necesitas?: '))\n",
        "\n",
        "# Llama a la función 'generar_impares' con los valores ingresados y almacena los resultados\n",
        "impares_generados = generar_impares(x, y, n)\n",
        "\n",
        "# Imprime los números impares generados\n",
        "print('Números impares generados:', impares_generados)\n",
        "\n"
      ]
    }
  ]
}