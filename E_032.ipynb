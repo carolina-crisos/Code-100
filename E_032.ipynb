{
  "nbformat": 4,
  "nbformat_minor": 0,
  "metadata": {
    "colab": {
      "provenance": [],
      "authorship_tag": "ABX9TyOUNphU6ZaaIaUnIizzxw2/",
      "include_colab_link": true
    },
    "kernelspec": {
      "name": "python3",
      "display_name": "Python 3"
    },
    "language_info": {
      "name": "python"
    }
  },
  "cells": [
    {
      "cell_type": "markdown",
      "metadata": {
        "id": "view-in-github",
        "colab_type": "text"
      },
      "source": [
        "<a href=\"https://colab.research.google.com/github/carolina-crisos/Code-100/blob/main/E_032.ipynb\" target=\"_parent\"><img src=\"https://colab.research.google.com/assets/colab-badge.svg\" alt=\"Open In Colab\"/></a>"
      ]
    },
    {
      "cell_type": "markdown",
      "source": [
        "**Validar dos números. Si son iguales o la suma o el valor absoluto son 5**"
      ],
      "metadata": {
        "id": "FLz9O7okH5YC"
      }
    },
    {
      "cell_type": "code",
      "execution_count": null,
      "metadata": {
        "colab": {
          "base_uri": "https://localhost:8080/"
        },
        "id": "EZ5vFW_vHq5P",
        "outputId": "ce13749e-cfed-4cc4-c49a-915f596c1280"
      },
      "outputs": [
        {
          "output_type": "stream",
          "name": "stdout",
          "text": [
            "True\n",
            "False\n",
            "True\n",
            "True\n"
          ]
        }
      ],
      "source": [
        "# Definición de una función\n",
        "def dos_numeros(a, b):\n",
        "    # Verifica tres condiciones:\n",
        "    # 1. Si 'a' es igual a 'b'\n",
        "    # 2. Si la suma de 'a' y 'b' es igual a 5\n",
        "    # 3. Si el valor absoluto de la diferencia entre 'a' y 'b' es igual a 5\n",
        "    if a == b or (a + b) == 5 or abs(a - b) == 5:\n",
        "        # Si al menos una de las condiciones se cumple, devuelve True.\n",
        "        return True\n",
        "    else:\n",
        "        # Si ninguna de las condiciones se cumple, devuelve False.\n",
        "        return False\n",
        "\n",
        "# Pruebas de la función con diferentes conjuntos de números y se imprime el resultado.\n",
        "print(dos_numeros(3, 3))\n",
        "print(dos_numeros(5, 7))\n",
        "print(dos_numeros(16, 11))\n",
        "print(dos_numeros(4, 1))\n"
      ]
    }
  ]
}