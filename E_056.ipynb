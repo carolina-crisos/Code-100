{
  "nbformat": 4,
  "nbformat_minor": 0,
  "metadata": {
    "colab": {
      "provenance": [],
      "authorship_tag": "ABX9TyNv9mGTat/SYqqXu8qpxYt0",
      "include_colab_link": true
    },
    "kernelspec": {
      "name": "python3",
      "display_name": "Python 3"
    },
    "language_info": {
      "name": "python"
    }
  },
  "cells": [
    {
      "cell_type": "markdown",
      "metadata": {
        "id": "view-in-github",
        "colab_type": "text"
      },
      "source": [
        "<a href=\"https://colab.research.google.com/github/carolina-crisos/Code-100/blob/main/E_056.ipynb\" target=\"_parent\"><img src=\"https://colab.research.google.com/assets/colab-badge.svg\" alt=\"Open In Colab\"/></a>"
      ]
    },
    {
      "cell_type": "markdown",
      "source": [
        "**Medir el tiempo de ejecucion de un metodo**\n",
        "\n",
        "**Suma de todos los numeros de un rango**"
      ],
      "metadata": {
        "id": "7TaoV2pnSwI4"
      }
    },
    {
      "cell_type": "code",
      "execution_count": null,
      "metadata": {
        "colab": {
          "base_uri": "https://localhost:8080/"
        },
        "id": "EMu8kb5sP8bA",
        "outputId": "d515d4b4-a20c-4377-b4a6-c195367cd8a7"
      },
      "outputs": [
        {
          "output_type": "stream",
          "name": "stdout",
          "text": [
            "Resultado de suma_rango: 220, Tiempo: 0.005722 ms\n",
            "Resultado de rango: 165, Tiempo: 0.003099 ms\n",
            "\n",
            "La función rango fue más rápida.\n"
          ]
        }
      ],
      "source": [
        "import time\n",
        "\n",
        "# Definición de la función suma_rango\n",
        "def suma_rango(a, b):\n",
        "  # Inicio del cronómetro\n",
        "  t_0 = time.time()\n",
        "\n",
        "  # Crear una lista con todos los números en el rango [a, b]\n",
        "  rango = []\n",
        "  for i in range(a, b + 1):\n",
        "    rango.append(i)\n",
        "\n",
        "  # Calcular la suma de los números en el rango\n",
        "  suma = sum(rango)\n",
        "\n",
        "  # Detener el cronómetro\n",
        "  t_1 = time.time()\n",
        "\n",
        "  # Devolver la suma y el tiempo de ejecución\n",
        "  return suma, t_1 - t_0\n",
        "\n",
        "# Definición de la función rango\n",
        "def rango(c, d):\n",
        "  # Inicio del cronómetro\n",
        "  t_2 = time.time()\n",
        "\n",
        "  # Calcular la suma de los números en el rango [c, d] utilizando un bucle\n",
        "  sum = 0\n",
        "  for j in range(c, d + 1):\n",
        "    sum += j\n",
        "\n",
        "  # Detener el cronómetro\n",
        "  t_3 = time.time()\n",
        "\n",
        "  # Devolver la suma y el tiempo de ejecución\n",
        "  return sum, t_3 - t_2\n",
        "\n",
        "# Llamadas a las funciones e impresión de los resultados\n",
        "suma_resultado, tiempo_suma = suma_rango(15, 25)\n",
        "rango_resultado, tiempo_rango = rango(10, 20)\n",
        "\n",
        "# Imprimir los resultados y comparar los tiempos\n",
        "print(f\"Resultado de suma_rango: {suma_resultado}, Tiempo: {tiempo_suma * 1000:.6f} ms\")\n",
        "print(f\"Resultado de rango: {rango_resultado}, Tiempo: {tiempo_rango * 1000:.6f} ms\")\n",
        "\n",
        "# Comparar los tiempos e imprimir el mensaje correspondiente\n",
        "if tiempo_suma < tiempo_rango:\n",
        "    print(\"\\nLa función suma_rango fue más rápida.\")\n",
        "else:\n",
        "    print(\"\\nLa función rango fue más rápida.\")\n"
      ]
    }
  ]
}