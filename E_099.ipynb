{
  "nbformat": 4,
  "nbformat_minor": 0,
  "metadata": {
    "colab": {
      "provenance": [],
      "authorship_tag": "ABX9TyOql3Kebkbhv5YZ/g/DRXDr",
      "include_colab_link": true
    },
    "kernelspec": {
      "name": "python3",
      "display_name": "Python 3"
    },
    "language_info": {
      "name": "python"
    }
  },
  "cells": [
    {
      "cell_type": "markdown",
      "metadata": {
        "id": "view-in-github",
        "colab_type": "text"
      },
      "source": [
        "<a href=\"https://colab.research.google.com/github/carolina-crisos/Code-100/blob/main/E_099.ipynb\" target=\"_parent\"><img src=\"https://colab.research.google.com/assets/colab-badge.svg\" alt=\"Open In Colab\"/></a>"
      ]
    },
    {
      "cell_type": "markdown",
      "source": [
        "**Detección de rostros**"
      ],
      "metadata": {
        "id": "bQ-e-Jy9qcv0"
      }
    },
    {
      "cell_type": "markdown",
      "source": [
        "**Link para descargar diferentes haarcascade de opencv, para este tipo de proyectos**\n",
        "https://github.com/opencv/opencv/tree/master/data/haarcascades"
      ],
      "metadata": {
        "id": "qRvRuEW2q3PG"
      }
    },
    {
      "cell_type": "markdown",
      "source": [
        "**Para este proyectos utilizo: https://github.com/opencv/opencv/blob/master/data/haarcascades/haarcascade_frontalface_default.xml**\n",
        "\n",
        "**Y se guarda en la misma carpeta que nuestro proyecto o utilizamos su respectiva ruta de ubicación.**"
      ],
      "metadata": {
        "id": "XLKAMvvoriDs"
      }
    },
    {
      "cell_type": "code",
      "source": [
        "import cv2\n",
        "\n",
        "# Cargar el clasificador de rostros preentrenado\n",
        "face_cascade = cv2.CascadeClassifier('haarcascade_frontalface_default.xml')\n",
        "\n",
        "# Inicializar la cámara\n",
        "cam = cv2.VideoCapture(0)\n",
        "\n",
        "while True:\n",
        "  # Leer un fotograma de la cámara\n",
        "  _, img = cam.read()\n",
        "\n",
        "  # Convertir a escala de grises para el clasificador de Haar\n",
        "  gray = cv2.cvtColor(img, cv2.COLOR_BGR2GRAY)\n",
        "\n",
        "  # Detectar rostros en la imagen\n",
        "  faces = face_cascade.detectMultiScale(gray, scaleFactor=1.3, minNeighbors=8, minSize=(30, 30)) # los valores pueden varias segun el video o camara\n",
        "\n",
        "  # Iterar sobre los rostros detectados\n",
        "  for (x, y, w, h) in faces:\n",
        "    # Dibujar rectángulos alrededor de los rostros detectados\n",
        "    cv2.rectangle(img, (x, y), (x+w, y+h), (0, 255, 0), 2)\n",
        "\n",
        "    # Agregar la leyenda 'Rostro' sobre el rectángulo\n",
        "    cv2.putText(img, 'Rostro', (x, y - 10), cv2.FONT_HERSHEY_SIMPLEX, 0.9, (0, 255, 0), 2)\n",
        "\n",
        "  # Mostrar la imagen con los rostros detectados\n",
        "  cv2.imshow('Detección de Rostros', img)\n",
        "\n",
        "  # Salir del bucle si se presiona la tecla 'q'\n",
        "  if cv2.waitKey(1) & 0xFF == ord('q'):\n",
        "    break\n",
        "\n",
        "# Liberar la cámara y cerrar todas las ventanas\n",
        "cam.release()\n",
        "cv2.destroyAllWindows()"
      ],
      "metadata": {
        "id": "kWe8bKeUqgoj"
      },
      "execution_count": null,
      "outputs": []
    }
  ]
}