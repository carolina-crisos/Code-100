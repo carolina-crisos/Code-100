{
  "nbformat": 4,
  "nbformat_minor": 0,
  "metadata": {
    "colab": {
      "provenance": [],
      "authorship_tag": "ABX9TyPKW38qWSBFUKTg0Fs1iIgR",
      "include_colab_link": true
    },
    "kernelspec": {
      "name": "python3",
      "display_name": "Python 3"
    },
    "language_info": {
      "name": "python"
    }
  },
  "cells": [
    {
      "cell_type": "markdown",
      "metadata": {
        "id": "view-in-github",
        "colab_type": "text"
      },
      "source": [
        "<a href=\"https://colab.research.google.com/github/carolina-crisos/Code-100/blob/main/E_015.ipynb\" target=\"_parent\"><img src=\"https://colab.research.google.com/assets/colab-badge.svg\" alt=\"Open In Colab\"/></a>"
      ]
    },
    {
      "cell_type": "markdown",
      "source": [
        "**Comprobar si una cadena de caracteres termina con la extensión .py**"
      ],
      "metadata": {
        "id": "KCgxF_2RE6OU"
      }
    },
    {
      "cell_type": "code",
      "execution_count": null,
      "metadata": {
        "id": "3u1Ek9gzE3ma",
        "colab": {
          "base_uri": "https://localhost:8080/"
        },
        "outputId": "c699dbd7-c956-4a84-d696-25e73c63f582"
      },
      "outputs": [
        {
          "output_type": "stream",
          "name": "stdout",
          "text": [
            "documento.py es un archivo Python.\n",
            "\n",
            "PRUEBA.PY es un archivo Python.\n",
            "\n",
            "archivo.pdf es un archivo de otro tipo.\n"
          ]
        }
      ],
      "source": [
        "def comprobacion(archivo):\n",
        "    # Dividimos el nombre del archivo en una lista, usando el punto como separador\n",
        "    lista_archivo = archivo.split('.')\n",
        "    # Obtenemos la extensión desde su indice en la lista\n",
        "    extension = lista_archivo[1]\n",
        "\n",
        "    # Verificamos si la extensión coincide con 'py'\n",
        "    if extension.lower() == 'py':\n",
        "        print(f'{archivo} es un archivo Python.')\n",
        "    else:\n",
        "        print(f'{archivo} es un archivo de otro tipo.')\n",
        "\n",
        "\n",
        "# Llamamos a la función con diferentes nombres de archivo\n",
        "comprobacion(\"documento.py\")\n",
        "print()\n",
        "comprobacion(\"MAYUSCULAS.PY\")\n",
        "print()\n",
        "comprobacion(\"archivo.pdf\")\n"
      ]
    }
  ]
}