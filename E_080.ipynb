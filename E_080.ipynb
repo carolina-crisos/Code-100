{
  "nbformat": 4,
  "nbformat_minor": 0,
  "metadata": {
    "colab": {
      "provenance": [],
      "authorship_tag": "ABX9TyMcVX5I41YC+CDAOxcPCAhx",
      "include_colab_link": true
    },
    "kernelspec": {
      "name": "python3",
      "display_name": "Python 3"
    },
    "language_info": {
      "name": "python"
    }
  },
  "cells": [
    {
      "cell_type": "markdown",
      "metadata": {
        "id": "view-in-github",
        "colab_type": "text"
      },
      "source": [
        "<a href=\"https://colab.research.google.com/github/carolina-crisos/Code-100/blob/main/E_080.ipynb\" target=\"_parent\"><img src=\"https://colab.research.google.com/assets/colab-badge.svg\" alt=\"Open In Colab\"/></a>"
      ]
    },
    {
      "cell_type": "markdown",
      "source": [
        "**Automatizar Envío de Mensajes de WhatsApp**"
      ],
      "metadata": {
        "id": "yBc7_XwkAEL1"
      }
    },
    {
      "cell_type": "code",
      "execution_count": null,
      "metadata": {
        "id": "yvjSr6gV-9o5"
      },
      "outputs": [],
      "source": [
        "# Ejecuta en editor de código local\n",
        "\n",
        "# Importa la biblioteca pywhatkit, la nombro como pw\n",
        "import pywhatkit as pw\n",
        "\n",
        "# Número de contacto al que se enviará el mensaje (debe incluir el código de país)\n",
        "contact = '+52**********'\n",
        "\n",
        "# Mensaje que se enviará\n",
        "message = 'Test'\n",
        "\n",
        "# Llama a la función sendwhatmsg de pywhatkit para enviar el mensaje\n",
        "# Los parámetros son: número de contacto, mensaje, hora, minuto, segundo, cerrar ventana\n",
        "\"\"\"\n",
        "20: La hora en formato de 24 horas (en este caso, 20:22:32). Ajusta estos valores según tus necesidades.\n",
        "22: El minuto en el que se enviará el mensaje.\n",
        "32: El segundo en el que se enviará el mensaje. Nota: preferente mayor o igual a 30.\n",
        "True: Indica que la ventana del navegador debe cerrarse después de enviar el mensaje.\n",
        "\"\"\"\n",
        "pw.sendwhatmsg(contact, message, 20, 22, 32, True)\n"
      ]
    }
  ]
}