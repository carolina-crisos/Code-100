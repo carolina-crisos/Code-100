{
  "nbformat": 4,
  "nbformat_minor": 0,
  "metadata": {
    "colab": {
      "provenance": [],
      "authorship_tag": "ABX9TyMwTeXC2KDWUuwzzdW/Dujw",
      "include_colab_link": true
    },
    "kernelspec": {
      "name": "python3",
      "display_name": "Python 3"
    },
    "language_info": {
      "name": "python"
    }
  },
  "cells": [
    {
      "cell_type": "markdown",
      "metadata": {
        "id": "view-in-github",
        "colab_type": "text"
      },
      "source": [
        "<a href=\"https://colab.research.google.com/github/carolina-crisos/Code-100/blob/main/E_095.ipynb\" target=\"_parent\"><img src=\"https://colab.research.google.com/assets/colab-badge.svg\" alt=\"Open In Colab\"/></a>"
      ]
    },
    {
      "cell_type": "markdown",
      "source": [
        "**Programa que simula un interruptor**"
      ],
      "metadata": {
        "id": "6qpiAvOgKhJy"
      }
    },
    {
      "cell_type": "code",
      "execution_count": null,
      "metadata": {
        "colab": {
          "base_uri": "https://localhost:8080/"
        },
        "id": "2_UOir-6GGeR",
        "outputId": "ac2b630f-671a-46e8-d969-384391d8ce36"
      },
      "outputs": [
        {
          "output_type": "stream",
          "name": "stdout",
          "text": [
            "Estás en una habitación, puedes encender/apagar la luz.\n",
            "\n",
            "1) Presionar el interruptor\n",
            "2) Salir\n",
            "Selecciona una opción: 1\n",
            "\n",
            "☀️ Encendida.\n",
            "\n",
            "1) Presionar el interruptor\n",
            "2) Salir\n",
            "Selecciona una opción: 1\n",
            "\n",
            "🌑 Apagada.\n",
            "\n",
            "1) Presionar el interruptor\n",
            "2) Salir\n",
            "Selecciona una opción: a\n",
            "Opción no válida. Por favor, selecciona 1 o 2.\n",
            "\n",
            "1) Presionar el interruptor\n",
            "2) Salir\n",
            "Selecciona una opción: 5\n",
            "Opción no válida. Por favor, selecciona 1 o 2.\n",
            "\n",
            "1) Presionar el interruptor\n",
            "2) Salir\n",
            "Selecciona una opción: 1\n",
            "\n",
            "☀️ Encendida.\n",
            "\n",
            "1) Presionar el interruptor\n",
            "2) Salir\n",
            "Selecciona una opción: 1\n",
            "\n",
            "🌑 Apagada.\n",
            "\n",
            "1) Presionar el interruptor\n",
            "2) Salir\n",
            "Selecciona una opción: 2\n",
            "\n",
            "Saliendo del programa. ¡Hasta luego!\n"
          ]
        }
      ],
      "source": [
        "# Clase Luz que representa una luz que puede estar encendida o apagada\n",
        "class Luz:\n",
        "  def __init__(self):\n",
        "    self.encendida = False\n",
        "\n",
        "  def encender(self):\n",
        "    self.encendida = True\n",
        "    print(\"\\n☀️ Encendida.\")\n",
        "\n",
        "  def apagar(self):\n",
        "    self.encendida = False\n",
        "    print(\"\\n🌑 Apagada.\")\n",
        "\n",
        "# Clase Interruptor que controla el estado de la luz\n",
        "class Interruptor:\n",
        "  def __init__(self, luz):\n",
        "    self.luz = luz\n",
        "\n",
        "  # Cambia el estado de la luz (encendida o apagada) al presionar el interruptor\n",
        "  def presionar(self):\n",
        "    if self.luz.encendida:\n",
        "      self.luz.apagar()\n",
        "    else:\n",
        "      self.luz.encender()\n",
        "\n",
        "# Función principal del programa\n",
        "def main():\n",
        "  # Creamos una instancia de la clase Luz y una instancia de la clase Interruptor\n",
        "  la_luz = Luz()\n",
        "  el_interruptor = Interruptor(la_luz)\n",
        "  print(\"Estás en una habitación, puedes encender/apagar la luz.\")\n",
        "\n",
        "  while True:\n",
        "    # Menú de opciones para el usuario\n",
        "    print(\"\\n1) Presionar el interruptor\")\n",
        "    print(\"2) Salir\")\n",
        "\n",
        "    opcion = input(\"Selecciona una opción: \")\n",
        "\n",
        "    if opcion == \"1\":\n",
        "      el_interruptor.presionar()\n",
        "    elif opcion == \"2\":\n",
        "      print(\"\\nSaliendo del programa. ¡Hasta luego!\")\n",
        "      break\n",
        "    else:\n",
        "      print(\"Opción no válida. Por favor, selecciona 1 o 2.\")\n",
        "\n",
        "# Verificar si el script se ejecuta como programa principal\n",
        "if __name__ == \"__main__\":\n",
        "  main()\n",
        "\n"
      ]
    }
  ]
}