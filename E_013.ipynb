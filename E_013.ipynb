{
  "nbformat": 4,
  "nbformat_minor": 0,
  "metadata": {
    "colab": {
      "provenance": [],
      "authorship_tag": "ABX9TyNh7TILlTgQTV12SlEW4xGw",
      "include_colab_link": true
    },
    "kernelspec": {
      "name": "python3",
      "display_name": "Python 3"
    },
    "language_info": {
      "name": "python"
    }
  },
  "cells": [
    {
      "cell_type": "markdown",
      "metadata": {
        "id": "view-in-github",
        "colab_type": "text"
      },
      "source": [
        "<a href=\"https://colab.research.google.com/github/carolina-crisos/Code-100/blob/main/E_013.ipynb\" target=\"_parent\"><img src=\"https://colab.research.google.com/assets/colab-badge.svg\" alt=\"Open In Colab\"/></a>"
      ]
    },
    {
      "cell_type": "markdown",
      "source": [
        "**Calcular el volumen de un esfera a partir del radio dado**"
      ],
      "metadata": {
        "id": "LGrqGQIYu5V_"
      }
    },
    {
      "cell_type": "code",
      "execution_count": null,
      "metadata": {
        "id": "I8SrG7MjkxDu",
        "outputId": "c29bfb8f-b8ef-48a3-999a-eed2ccbff614",
        "colab": {
          "base_uri": "https://localhost:8080/"
        }
      },
      "outputs": [
        {
          "output_type": "stream",
          "name": "stdout",
          "text": [
            "Ingresa el radio de la esfera: 5\n",
            "Radio dado: 5.0. El volumen de la esfera es: 523.5987755982989\n"
          ]
        }
      ],
      "source": [
        "# Formula:  V = 4/3 π r³\n",
        "# Modulo que permite trabajar con pi\n",
        "from math import pi\n",
        "\n",
        "radio = float(input(\"Ingresa el radio de la esfera: \"))\n",
        "\n",
        "volumen = 4/3 * pi * radio**3\n",
        "\n",
        "print(f'Radio dado: {radio}. El volumen de la esfera es: {volumen}')"
      ]
    }
  ]
}