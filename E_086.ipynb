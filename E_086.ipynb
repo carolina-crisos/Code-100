{
  "nbformat": 4,
  "nbformat_minor": 0,
  "metadata": {
    "colab": {
      "provenance": [],
      "authorship_tag": "ABX9TyPeKrER+zSviKmUZOXIwNyS",
      "include_colab_link": true
    },
    "kernelspec": {
      "name": "python3",
      "display_name": "Python 3"
    },
    "language_info": {
      "name": "python"
    }
  },
  "cells": [
    {
      "cell_type": "markdown",
      "metadata": {
        "id": "view-in-github",
        "colab_type": "text"
      },
      "source": [
        "<a href=\"https://colab.research.google.com/github/carolina-crisos/Code-100/blob/main/E_086.ipynb\" target=\"_parent\"><img src=\"https://colab.research.google.com/assets/colab-badge.svg\" alt=\"Open In Colab\"/></a>"
      ]
    },
    {
      "cell_type": "markdown",
      "source": [
        "**Crear un Código Qr**"
      ],
      "metadata": {
        "id": "cNzCGFIgWLLT"
      }
    },
    {
      "cell_type": "code",
      "execution_count": null,
      "metadata": {
        "id": "VWgO3d89TsvY",
        "colab": {
          "base_uri": "https://localhost:8080/"
        },
        "outputId": "092a6284-f2cb-4ca5-baa9-451e6c7a7c24"
      },
      "outputs": [
        {
          "output_type": "stream",
          "name": "stdout",
          "text": [
            "Requirement already satisfied: qrcode[pil] in /usr/local/lib/python3.10/dist-packages (7.4.2)\n",
            "Requirement already satisfied: typing-extensions in /usr/local/lib/python3.10/dist-packages (from qrcode[pil]) (4.5.0)\n",
            "Requirement already satisfied: pypng in /usr/local/lib/python3.10/dist-packages (from qrcode[pil]) (0.20220715.0)\n",
            "Requirement already satisfied: pillow>=9.1.0 in /usr/local/lib/python3.10/dist-packages (from qrcode[pil]) (9.4.0)\n"
          ]
        }
      ],
      "source": [
        "# Instalar la biblioteca qrcode con el soporte de Pillow (PIL)\n",
        "!pip install qrcode[pil]\n",
        "\n",
        "# Importar la biblioteca qrcode\n",
        "import qrcode\n",
        "\n",
        "# Definir el enlace que se codificará en el QR\n",
        "enlace = 'https://www.instagram.com/mktmagica/'\n",
        "\n",
        "# Crear un objeto QRCode con parámetros de versión, el tamaño de la caja y el borde\n",
        "qr = qrcode.QRCode(version=1, box_size=12, border=3)\n",
        "\n",
        "# Añadir los datos al código QR\n",
        "qr.add_data(enlace)\n",
        "\n",
        "# Generar el código QR y el argumento para ajustar automáticamente el tamaño si es necesario.\n",
        "qr.make(fit=True)\n",
        "\n",
        "# Crear una imagen del código QR con colores personalizados\n",
        "img = qr.make_image(fill='black', back_color='white')\n",
        "\n",
        "# Guardar la imagen como 'qrinstagram.png'\n",
        "img.save('marketera_magica.png')\n"
      ]
    }
  ]
}