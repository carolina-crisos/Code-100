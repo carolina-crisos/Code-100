{
  "nbformat": 4,
  "nbformat_minor": 0,
  "metadata": {
    "colab": {
      "provenance": [],
      "authorship_tag": "ABX9TyMqOCybFxTNqjtX07PlX8u/",
      "include_colab_link": true
    },
    "kernelspec": {
      "name": "python3",
      "display_name": "Python 3"
    },
    "language_info": {
      "name": "python"
    }
  },
  "cells": [
    {
      "cell_type": "markdown",
      "metadata": {
        "id": "view-in-github",
        "colab_type": "text"
      },
      "source": [
        "<a href=\"https://colab.research.google.com/github/carolina-crisos/Code-100/blob/main/E_012.ipynb\" target=\"_parent\"><img src=\"https://colab.research.google.com/assets/colab-badge.svg\" alt=\"Open In Colab\"/></a>"
      ]
    },
    {
      "cell_type": "markdown",
      "source": [
        "**Calcular la diferencia en dias desde 'hoy' a una fecha dada.**"
      ],
      "metadata": {
        "id": "9OJNhfuErMFs"
      }
    },
    {
      "cell_type": "code",
      "execution_count": null,
      "metadata": {
        "colab": {
          "base_uri": "https://localhost:8080/"
        },
        "id": "Rd-cLMwgrJZh",
        "outputId": "c928520f-50a8-4d32-804d-a2b689187d61"
      },
      "outputs": [
        {
          "output_type": "stream",
          "name": "stdout",
          "text": [
            "Ingresa el dia: 1\n",
            "Ingresa el mes: 1\n",
            "Ingresa el año: 2024\n",
            "Faltan 93 días.\n"
          ]
        }
      ],
      "source": [
        "# Importamos el modulo para trabajar con fechas\n",
        "from datetime import datetime, date\n",
        "\n",
        "# Pedimos al usuario los datos de dd/mm/aaaa\n",
        "dia = int(input('Ingresa el dia: '))\n",
        "mes = int(input('Ingresa el mes: '))\n",
        "anio = int(input('Ingresa el año: '))\n",
        "\n",
        "# Asignamos lo ingresado a una variable con formato date()\n",
        "fecha = date(anio, mes, dia)\n",
        "\n",
        "# Creamos variable que almacena la fecha actual del sistema\n",
        "hoy = datetime.now()\n",
        "\n",
        "# Asignamos el calculo a otra variable\n",
        "diferencia = fecha - hoy.date()\n",
        "\n",
        "# Utilizamos .days para imprimir solo la cantidad de dias\n",
        "print(f'Faltan {diferencia.days} días.')"
      ]
    }
  ]
}