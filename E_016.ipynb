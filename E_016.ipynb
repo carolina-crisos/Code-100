{
  "nbformat": 4,
  "nbformat_minor": 0,
  "metadata": {
    "colab": {
      "provenance": [],
      "authorship_tag": "ABX9TyOuv9KplFm2T1ZucV70N6Zu",
      "include_colab_link": true
    },
    "kernelspec": {
      "name": "python3",
      "display_name": "Python 3"
    },
    "language_info": {
      "name": "python"
    }
  },
  "cells": [
    {
      "cell_type": "markdown",
      "metadata": {
        "id": "view-in-github",
        "colab_type": "text"
      },
      "source": [
        "<a href=\"https://colab.research.google.com/github/carolina-crisos/Code-100/blob/main/E_016.ipynb\" target=\"_parent\"><img src=\"https://colab.research.google.com/assets/colab-badge.svg\" alt=\"Open In Colab\"/></a>"
      ]
    },
    {
      "cell_type": "markdown",
      "source": [
        "**Crear una función para determinar si un número es cercano a 1000 o 2000**"
      ],
      "metadata": {
        "id": "lmNcZkk_z-v5"
      }
    },
    {
      "cell_type": "code",
      "execution_count": null,
      "metadata": {
        "colab": {
          "base_uri": "https://localhost:8080/"
        },
        "id": "HznqBsuvz7Kp",
        "outputId": "b2680440-a0c3-411c-abf6-929a7498a784"
      },
      "outputs": [
        {
          "output_type": "stream",
          "name": "stdout",
          "text": [
            "El numero es 1,000\n",
            "950 es cercano a 1,000\n",
            "El numero 200 es lejano de 1,000 y 2,000\n",
            "-------------------------------------------\n",
            "El numero es 2,000\n",
            "1950 es cercano a 2,000\n",
            "El numero 3200 es lejano de 1,000 y 2,000\n"
          ]
        }
      ],
      "source": [
        "def cercania(n):\n",
        "    \"\"\"\n",
        "    Comprueba si un numero es cercano a 1000 o 2000\n",
        "    \"\"\"\n",
        "    evaluacion_1000 = (abs(1000 - n) < 100)\n",
        "    evaluacion_2000 = (abs(2000 - n) < 100)\n",
        "\n",
        "    if evaluacion_1000 is True:\n",
        "        if n != 1000:\n",
        "            print(f'{n} es cercano a 1,000')\n",
        "        else:\n",
        "            print(\"El numero es 1,000\")\n",
        "    elif evaluacion_2000 is True:\n",
        "        if n != 2000:\n",
        "            print(f'{n} es cercano a 2,000')\n",
        "        else:\n",
        "            print(\"El numero es 2,000\")\n",
        "    else:\n",
        "        print(f'El numero {n} es lejano de 1,000 y 2,000')\n",
        "\n",
        "cercania(1000)\n",
        "cercania(950)\n",
        "cercania(200)\n",
        "print(\"-\" * 43)\n",
        "cercania(2000)\n",
        "cercania(1950)\n",
        "cercania(3200)\n"
      ]
    }
  ]
}