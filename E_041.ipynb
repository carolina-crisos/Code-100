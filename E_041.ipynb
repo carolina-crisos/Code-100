{
  "nbformat": 4,
  "nbformat_minor": 0,
  "metadata": {
    "colab": {
      "provenance": [],
      "authorship_tag": "ABX9TyMQcakWWDiLjnPbmNzluHUF",
      "include_colab_link": true
    },
    "kernelspec": {
      "name": "python3",
      "display_name": "Python 3"
    },
    "language_info": {
      "name": "python"
    }
  },
  "cells": [
    {
      "cell_type": "markdown",
      "metadata": {
        "id": "view-in-github",
        "colab_type": "text"
      },
      "source": [
        "<a href=\"https://colab.research.google.com/github/carolina-crisos/Code-100/blob/main/E_041.ipynb\" target=\"_parent\"><img src=\"https://colab.research.google.com/assets/colab-badge.svg\" alt=\"Open In Colab\"/></a>"
      ]
    },
    {
      "cell_type": "markdown",
      "source": [
        "Crea las funciones capaces de transformar colores HEX a RGB y viceversa\n",
        "\n",
        "Ejemplos:\n",
        "\n",
        "RGB a HEX: r: 0, g: 0, b: 0 -> #000000\n",
        "HEX a RGB: hex: #000000 -> (r: 0, g: 0, b: 0)"
      ],
      "metadata": {
        "id": "si5cuaYupjcG"
      }
    },
    {
      "cell_type": "code",
      "execution_count": null,
      "metadata": {
        "id": "IttCEX_ZpcqC"
      },
      "outputs": [],
      "source": [
        "# Lista para convertir valores a hexadecimales\n",
        "sistema_hexa = ['0', '1', '2', '3', '4', '5', '6', '7', '8', '9', 'A', 'B', 'C', 'D', 'E', 'F']\n",
        "\n",
        "# Base para la conversión hexadecimal\n",
        "h = 16\n",
        "\n",
        "def rgb_a_hex(r, g, b):\n",
        "  \"\"\"\n",
        "  Función que convierte valores RGB a HEX.\n",
        "  \"\"\"\n",
        "  # Lista para almacenar la conversión\n",
        "  hex = []\n",
        "  for componente in (r, g, b):\n",
        "    # Divide el valor por 16 para obtener el primer dígito hexadecimal\n",
        "    primer_digito = componente // h\n",
        "    # Obtiene el residuo para obtener el segundo dígito hexadecimal\n",
        "    segundo_digito = componente % h\n",
        "    # Agrega los dígitos hexadecimales a la lista hex\n",
        "    hex.extend([sistema_hexa[primer_digito], sistema_hexa[segundo_digito]])\n",
        "\n",
        "  # Convierte la lista de dígitos hexadecimales en una cadena y la imprime con formato\n",
        "  print('#' + ''.join(hex))\n",
        "\n",
        "\n",
        "# Llama a la función con los valores RGB\n",
        "rgb_a_hex(130, 180, 20)\n",
        "rgb_a_hex(255, 87, 51)\n",
        "rgb_a_hex(240, 51, 255)"
      ]
    }
  ]
}