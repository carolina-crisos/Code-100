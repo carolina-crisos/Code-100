{
  "nbformat": 4,
  "nbformat_minor": 0,
  "metadata": {
    "colab": {
      "provenance": [],
      "authorship_tag": "ABX9TyM9LQlBJG44B7P75Mkpz+j9",
      "include_colab_link": true
    },
    "kernelspec": {
      "name": "python3",
      "display_name": "Python 3"
    },
    "language_info": {
      "name": "python"
    }
  },
  "cells": [
    {
      "cell_type": "markdown",
      "metadata": {
        "id": "view-in-github",
        "colab_type": "text"
      },
      "source": [
        "<a href=\"https://colab.research.google.com/github/carolina-crisos/Code-100/blob/main/E_067.ipynb\" target=\"_parent\"><img src=\"https://colab.research.google.com/assets/colab-badge.svg\" alt=\"Open In Colab\"/></a>"
      ]
    },
    {
      "cell_type": "markdown",
      "source": [
        "**Crear una Función para Calcular la Desviación Estándar**"
      ],
      "metadata": {
        "id": "8xfF70Fp5GRW"
      }
    },
    {
      "cell_type": "code",
      "execution_count": null,
      "metadata": {
        "colab": {
          "base_uri": "https://localhost:8080/"
        },
        "id": "5sH411KV4iAp",
        "outputId": "799c170d-b56a-4b31-bc28-b6e47f525ac6"
      },
      "outputs": [
        {
          "output_type": "stream",
          "name": "stdout",
          "text": [
            "3.225\n"
          ]
        }
      ],
      "source": [
        "# Importa la biblioteca NumPy con el alias 'np'\n",
        "import numpy as np\n",
        "\n",
        "# Datos proporcionados como una lista\n",
        "datos = [10, 12, 13, 16, 9, 8, 12, 8, 6, 16]\n",
        "\n",
        "# Definición de la función para calcular la desviación estándar\n",
        "def desviacion_estandar(datos):\n",
        "  # Calcula la media utilizando la función mean de NumPy\n",
        "  media = np.mean(datos)\n",
        "\n",
        "  # Inicializa una lista para almacenar los cuadrados de las distancias a la media\n",
        "  cuadrado_distancia = []\n",
        "\n",
        "  # Inicializa una variable para la suma de los cuadrados de las distancias\n",
        "  suma_cuadrados = 0\n",
        "\n",
        "  # Itera sobre los datos para calcular las distancias y los cuadrados de las distancias\n",
        "  for i in range(len(datos)):\n",
        "    distancia = datos[i] - media\n",
        "    cuadrado_distancia.append(distancia ** 2)\n",
        "    suma_cuadrados += distancia ** 2\n",
        "\n",
        "  # Calcula la varianza dividiendo la suma de los cuadrados de las distancias por el número de datos\n",
        "  num_datos = suma_cuadrados / len(datos)\n",
        "\n",
        "  # Devuelve la desviación estándar redondeada utilizando la raíz cuadrada de la varianza\n",
        "  return round(np.sqrt(num_datos), 3)\n",
        "\n",
        "# Llama a la función e imprime la desviación estándar de los datos proporcionados\n",
        "print(desviacion_estandar(datos))"
      ]
    }
  ]
}