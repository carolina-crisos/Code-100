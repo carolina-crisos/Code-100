{
  "nbformat": 4,
  "nbformat_minor": 0,
  "metadata": {
    "colab": {
      "provenance": [],
      "authorship_tag": "ABX9TyMaTq0u5nOnyTVJyj83kp71",
      "include_colab_link": true
    },
    "kernelspec": {
      "name": "python3",
      "display_name": "Python 3"
    },
    "language_info": {
      "name": "python"
    }
  },
  "cells": [
    {
      "cell_type": "markdown",
      "metadata": {
        "id": "view-in-github",
        "colab_type": "text"
      },
      "source": [
        "<a href=\"https://colab.research.google.com/github/carolina-crisos/Code-100/blob/main/E_010.ipynb\" target=\"_parent\"><img src=\"https://colab.research.google.com/assets/colab-badge.svg\" alt=\"Open In Colab\"/></a>"
      ]
    },
    {
      "cell_type": "markdown",
      "source": [
        "**Imprimir un calendario para un año y mes especifico**"
      ],
      "metadata": {
        "id": "3TPBHh6w2S7T"
      }
    },
    {
      "cell_type": "code",
      "execution_count": null,
      "metadata": {
        "colab": {
          "base_uri": "https://localhost:8080/"
        },
        "id": "ui1um_QM2JtD",
        "outputId": "dfb1d275-bb3a-4510-e381-0c6c1329f69c"
      },
      "outputs": [
        {
          "output_type": "stream",
          "name": "stdout",
          "text": [
            "Ingresa el año: 1999\n",
            "Ingresa el mes (numero): 10\n",
            "    October 1999\n",
            "Mo Tu We Th Fr Sa Su\n",
            "             1  2  3\n",
            " 4  5  6  7  8  9 10\n",
            "11 12 13 14 15 16 17\n",
            "18 19 20 21 22 23 24\n",
            "25 26 27 28 29 30 31\n",
            "\n"
          ]
        }
      ],
      "source": [
        "# Modulo que provee la funcion que permite realizar este ejercicio\n",
        "import calendar\n",
        "\n",
        "anio = int(input(\"Ingresa el año: \"))\n",
        "mes = int(input(\"Ingresa el mes (numero): \"))\n",
        "\n",
        "# Invocamos la funcion month() del modulo calendar\n",
        "print(calendar.month(anio,mes))"
      ]
    }
  ]
}