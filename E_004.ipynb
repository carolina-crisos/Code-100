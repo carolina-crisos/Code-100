{
  "nbformat": 4,
  "nbformat_minor": 0,
  "metadata": {
    "colab": {
      "provenance": [],
      "authorship_tag": "ABX9TyMzNMhE078XcxMahfu03VpM",
      "include_colab_link": true
    },
    "kernelspec": {
      "name": "python3",
      "display_name": "Python 3"
    },
    "language_info": {
      "name": "python"
    }
  },
  "cells": [
    {
      "cell_type": "markdown",
      "metadata": {
        "id": "view-in-github",
        "colab_type": "text"
      },
      "source": [
        "<a href=\"https://colab.research.google.com/github/carolina-crisos/Code-100/blob/main/E_004.ipynb\" target=\"_parent\"><img src=\"https://colab.research.google.com/assets/colab-badge.svg\" alt=\"Open In Colab\"/></a>"
      ]
    },
    {
      "cell_type": "markdown",
      "source": [
        "**Obtener un conjunto de numeros separados por comas e integrarlos a una lista.**"
      ],
      "metadata": {
        "id": "4bVo2r0TECP0"
      }
    },
    {
      "cell_type": "code",
      "execution_count": null,
      "metadata": {
        "id": "3ZTanfgVDreS"
      },
      "outputs": [],
      "source": [
        "# Pedimos al usuario ingresar los numeros\n",
        "\n",
        "num = input(\"Ingresa un conjunto de numeros, separados por comas (sin espacios): \")\n",
        "\n",
        "# Utilizamos la funcion split que divide el texto en funcion de un str o caracter especificado\n",
        "conjunto = num.split(',')\n",
        "\n",
        "\n",
        "# Mostramos en pantalla el conjunto\n",
        "print(conjunto)\n",
        "print(type(conjunto)) # Rectificamos que la variable conjunto almacena una lista\n",
        "\n",
        "\n",
        "#Nota: los numeros ingresados se mantienen de tipo string, por lo cual no podemos realizar operaciones aritmeticas con ellos."
      ]
    }
  ]
}