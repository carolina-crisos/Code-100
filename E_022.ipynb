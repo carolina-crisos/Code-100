{
  "nbformat": 4,
  "nbformat_minor": 0,
  "metadata": {
    "colab": {
      "provenance": [],
      "authorship_tag": "ABX9TyPit/ZpCzLgePGD0XYSk12b",
      "include_colab_link": true
    },
    "kernelspec": {
      "name": "python3",
      "display_name": "Python 3"
    },
    "language_info": {
      "name": "python"
    }
  },
  "cells": [
    {
      "cell_type": "markdown",
      "metadata": {
        "id": "view-in-github",
        "colab_type": "text"
      },
      "source": [
        "<a href=\"https://colab.research.google.com/github/carolina-crisos/Code-100/blob/main/E_022.ipynb\" target=\"_parent\"><img src=\"https://colab.research.google.com/assets/colab-badge.svg\" alt=\"Open In Colab\"/></a>"
      ]
    },
    {
      "cell_type": "markdown",
      "source": [
        "**Simular el funcionamiento del operador incorporado in**"
      ],
      "metadata": {
        "id": "GneucLk-JFBK"
      }
    },
    {
      "cell_type": "code",
      "execution_count": null,
      "metadata": {
        "colab": {
          "base_uri": "https://localhost:8080/"
        },
        "id": "CHr1eDRWI-wL",
        "outputId": "c2b8e822-1869-4e6c-ec85-52896a46a42e"
      },
      "outputs": [
        {
          "output_type": "stream",
          "name": "stdout",
          "text": [
            "True\n",
            "----------\n",
            "True\n",
            "False\n"
          ]
        }
      ],
      "source": [
        "print(5 in [2, 4, 5, 7, 9])\n",
        "\n",
        "# Imprimimos una línea divisoria para separar\n",
        "print(\"-\" * 10)\n",
        "\n",
        "# Definimos una función que verifica si un elemento está en una lista dada\n",
        "def pertenece_a(lista, elemento):\n",
        "\n",
        "    # Iterar a través de la lista\n",
        "    for i in lista:\n",
        "\n",
        "        # Comprobamos si el elemento actual es igual al elemento que estamos buscando\n",
        "        if elemento == i:\n",
        "\n",
        "            # Si encontramos el elemento, devolver True y salir de la función\n",
        "            return True\n",
        "\n",
        "    # Si hemos recorrido toda la lista y no hemos encontrado el elemento, devolver False\n",
        "    return False\n",
        "\n",
        "# Llamamos a la función con diferente elemento y mostramos los resultados\n",
        "print(pertenece_a([2, 4, 5, 7, 9], 5))\n",
        "print(pertenece_a([2, 4, 5, 7, 9], 1))\n"
      ]
    }
  ]
}