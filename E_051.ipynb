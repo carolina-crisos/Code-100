{
  "nbformat": 4,
  "nbformat_minor": 0,
  "metadata": {
    "colab": {
      "provenance": [],
      "authorship_tag": "ABX9TyM1XZR8FQ228/bxIcoxgm+D",
      "include_colab_link": true
    },
    "kernelspec": {
      "name": "python3",
      "display_name": "Python 3"
    },
    "language_info": {
      "name": "python"
    }
  },
  "cells": [
    {
      "cell_type": "markdown",
      "metadata": {
        "id": "view-in-github",
        "colab_type": "text"
      },
      "source": [
        "<a href=\"https://colab.research.google.com/github/carolina-crisos/Code-100/blob/main/E_051.ipynb\" target=\"_parent\"><img src=\"https://colab.research.google.com/assets/colab-badge.svg\" alt=\"Open In Colab\"/></a>"
      ]
    },
    {
      "cell_type": "markdown",
      "source": [
        "Crear una función contar_vocales(), que reciba una palabra y cuente cuantas letras \"a\" tiene, cuantas letras \"e\" tiene y así hasta completar todas las vocales.\n",
        "Se puede hacer que el usuario sea quien elija la palabra."
      ],
      "metadata": {
        "id": "Hr90SLJn4TqR"
      }
    },
    {
      "cell_type": "code",
      "source": [
        "# Solicitamos al usuario que ingrese una frase y convertirla a minúsculas\n",
        "txt = input('Ingresa una frase: ').lower()\n",
        "# Definimos las vocales que se van a contar\n",
        "vocales = 'aeiouáéíó'\n",
        "\n",
        "# Imprime la frase original\n",
        "print(f\"La frase '{txt}' tiene:\")\n",
        "\n",
        "# Iterar a través de cada vocal\n",
        "for j in vocales:\n",
        "    # Inicializar el contador para la vocal actual\n",
        "    contador = 0\n",
        "    # Iterar a través de cada caracter en la frase\n",
        "    for i in txt:\n",
        "        # Verificamos si el caracter actual es igual a la vocal actual\n",
        "        if i == j:\n",
        "            contador += 1  # Incrementar el contador si se encuentra una vocal\n",
        "\n",
        "    # Si se encontraron ocurrencias de la vocal actual, imprimimos el resultado\n",
        "    if contador != 0:\n",
        "        print(\"%d '%s'\" % (contador, j))\n"
      ],
      "metadata": {
        "colab": {
          "base_uri": "https://localhost:8080/"
        },
        "id": "Q8jOUt9R--q3",
        "outputId": "c705fa5e-1e12-4323-fd38-2eeec176211d"
      },
      "execution_count": null,
      "outputs": [
        {
          "output_type": "stream",
          "name": "stdout",
          "text": [
            "Ingresa una frase: Pero decime dónde estás, 'toy en 5\n",
            "La frase 'pero decime dónde estás, 'toy en 5' tiene:\n",
            "6 'e'\n",
            "1 'i'\n",
            "2 'o'\n",
            "1 'á'\n",
            "1 'ó'\n"
          ]
        }
      ]
    }
  ]
}