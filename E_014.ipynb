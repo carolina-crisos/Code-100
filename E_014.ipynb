{
  "nbformat": 4,
  "nbformat_minor": 0,
  "metadata": {
    "colab": {
      "provenance": [],
      "authorship_tag": "ABX9TyPx5vpMKK8cd2QkQAal5j/k",
      "include_colab_link": true
    },
    "kernelspec": {
      "name": "python3",
      "display_name": "Python 3"
    },
    "language_info": {
      "name": "python"
    }
  },
  "cells": [
    {
      "cell_type": "markdown",
      "metadata": {
        "id": "view-in-github",
        "colab_type": "text"
      },
      "source": [
        "<a href=\"https://colab.research.google.com/github/carolina-crisos/Code-100/blob/main/E_014.ipynb\" target=\"_parent\"><img src=\"https://colab.research.google.com/assets/colab-badge.svg\" alt=\"Open In Colab\"/></a>"
      ]
    },
    {
      "cell_type": "markdown",
      "source": [
        "**Crear una función para evaluar un número y realizar una operación**"
      ],
      "metadata": {
        "id": "uidXuGxow9V0"
      }
    },
    {
      "cell_type": "code",
      "execution_count": null,
      "metadata": {
        "colab": {
          "base_uri": "https://localhost:8080/"
        },
        "id": "SH4nZa56w0nV",
        "outputId": "67f2cb4b-9593-4364-c7ea-c06c060a4efa"
      },
      "outputs": [
        {
          "output_type": "stream",
          "name": "stdout",
          "text": [
            "9\n",
            "5.0\n"
          ]
        }
      ],
      "source": [
        "# Construimos como trabajara la funcion\n",
        "\n",
        "# f(n): si n es negativo, que se multiplique por si mismo; si n es positivo, que se divida entre 2\n",
        "\n",
        "def multiplicacion(n):\n",
        "  \"\"\"\n",
        "  Realiza una operacion.\n",
        "  Dependiendo de dos condiciones o reglas.\n",
        "  \"\"\"\n",
        "  if n < 0:\n",
        "    return n * n\n",
        "  else:\n",
        "    return n / 2\n",
        "\n",
        "print(multiplicacion(-3))\n",
        "print(multiplicacion(10))"
      ]
    }
  ]
}