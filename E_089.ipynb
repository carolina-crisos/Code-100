{
  "nbformat": 4,
  "nbformat_minor": 0,
  "metadata": {
    "colab": {
      "provenance": [],
      "authorship_tag": "ABX9TyPoLgiuwZJLc+Eg105sorR+",
      "include_colab_link": true
    },
    "kernelspec": {
      "name": "python3",
      "display_name": "Python 3"
    },
    "language_info": {
      "name": "python"
    }
  },
  "cells": [
    {
      "cell_type": "markdown",
      "metadata": {
        "id": "view-in-github",
        "colab_type": "text"
      },
      "source": [
        "<a href=\"https://colab.research.google.com/github/carolina-crisos/Code-100/blob/main/E_089.ipynb\" target=\"_parent\"><img src=\"https://colab.research.google.com/assets/colab-badge.svg\" alt=\"Open In Colab\"/></a>"
      ]
    },
    {
      "cell_type": "markdown",
      "source": [
        "**Traducir textos de un idioma a otro**"
      ],
      "metadata": {
        "id": "3CFpHuIYBzvN"
      }
    },
    {
      "cell_type": "code",
      "execution_count": null,
      "metadata": {
        "colab": {
          "base_uri": "https://localhost:8080/"
        },
        "id": "EkEv_73IBxPl",
        "outputId": "fec80041-493f-4b80-feb1-6f299f1b1412"
      },
      "outputs": [
        {
          "output_type": "stream",
          "name": "stdout",
          "text": [
            "Requirement already satisfied: googletrans==4.0.0-rc1 in /usr/local/lib/python3.10/dist-packages (4.0.0rc1)\n",
            "Requirement already satisfied: httpx==0.13.3 in /usr/local/lib/python3.10/dist-packages (from googletrans==4.0.0-rc1) (0.13.3)\n",
            "Requirement already satisfied: certifi in /usr/local/lib/python3.10/dist-packages (from httpx==0.13.3->googletrans==4.0.0-rc1) (2023.11.17)\n",
            "Requirement already satisfied: hstspreload in /usr/local/lib/python3.10/dist-packages (from httpx==0.13.3->googletrans==4.0.0-rc1) (2023.1.1)\n",
            "Requirement already satisfied: sniffio in /usr/local/lib/python3.10/dist-packages (from httpx==0.13.3->googletrans==4.0.0-rc1) (1.3.0)\n",
            "Requirement already satisfied: chardet==3.* in /usr/local/lib/python3.10/dist-packages (from httpx==0.13.3->googletrans==4.0.0-rc1) (3.0.4)\n",
            "Requirement already satisfied: idna==2.* in /usr/local/lib/python3.10/dist-packages (from httpx==0.13.3->googletrans==4.0.0-rc1) (2.10)\n",
            "Requirement already satisfied: rfc3986<2,>=1.3 in /usr/local/lib/python3.10/dist-packages (from httpx==0.13.3->googletrans==4.0.0-rc1) (1.5.0)\n",
            "Requirement already satisfied: httpcore==0.9.* in /usr/local/lib/python3.10/dist-packages (from httpx==0.13.3->googletrans==4.0.0-rc1) (0.9.1)\n",
            "Requirement already satisfied: h11<0.10,>=0.8 in /usr/local/lib/python3.10/dist-packages (from httpcore==0.9.*->httpx==0.13.3->googletrans==4.0.0-rc1) (0.9.0)\n",
            "Requirement already satisfied: h2==3.* in /usr/local/lib/python3.10/dist-packages (from httpcore==0.9.*->httpx==0.13.3->googletrans==4.0.0-rc1) (3.2.0)\n",
            "Requirement already satisfied: hyperframe<6,>=5.2.0 in /usr/local/lib/python3.10/dist-packages (from h2==3.*->httpcore==0.9.*->httpx==0.13.3->googletrans==4.0.0-rc1) (5.2.0)\n",
            "Requirement already satisfied: hpack<4,>=3.0 in /usr/local/lib/python3.10/dist-packages (from h2==3.*->httpcore==0.9.*->httpx==0.13.3->googletrans==4.0.0-rc1) (3.0.0)\n",
            "Ingresa el texto en español que deseas traducir: Hola, bienvenidos!\n",
            "\n",
            "Texto original (español): Hola, bienvenidos!\n",
            "Texto traducido (inglés): Hello welcome!\n"
          ]
        }
      ],
      "source": [
        "# Instala la versión específica de la librería Googletrans\n",
        "!pip install googletrans==4.0.0-rc1\n",
        "\n",
        "# Importa la clase Translator de la librería googletrans\n",
        "from googletrans import Translator\n",
        "\n",
        "# Función para traducir de español a inglés\n",
        "def traducir_es_a_en(texto):\n",
        "  # Crea una instancia del Translator\n",
        "  translator = Translator()\n",
        "\n",
        "  # Utiliza el método translate para realizar la traducción\n",
        "  traduccion = translator.translate(texto, src='es', dest='en')\n",
        "\n",
        "  # Retorna el texto traducido\n",
        "  return traduccion.text\n",
        "\n",
        "# Función principal\n",
        "def main():\n",
        "  # Solicita al usuario que ingrese el texto en español\n",
        "  texto_a_traducir = input(\"Ingresa el texto en español que deseas traducir: \")\n",
        "\n",
        "  # Llama a la función de traducción y obtiene el resultado\n",
        "  texto_traducido = traducir_es_a_en(texto_a_traducir)\n",
        "\n",
        "  # Imprime los resultados\n",
        "  print(f\"\\nTexto original (español): {texto_a_traducir}\")\n",
        "  print(f\"Texto traducido (inglés): {texto_traducido}\")\n",
        "\n",
        "# Llama a la función principal si el script se ejecuta directamente\n",
        "if __name__ == \"__main__\":\n",
        "  main()\n",
        "\n",
        "\n",
        "\n"
      ]
    }
  ]
}