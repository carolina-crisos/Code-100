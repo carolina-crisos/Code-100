{
  "nbformat": 4,
  "nbformat_minor": 0,
  "metadata": {
    "colab": {
      "provenance": [],
      "authorship_tag": "ABX9TyN22vscoS5ExvI7DrPoVV8w",
      "include_colab_link": true
    },
    "kernelspec": {
      "name": "python3",
      "display_name": "Python 3"
    },
    "language_info": {
      "name": "python"
    }
  },
  "cells": [
    {
      "cell_type": "markdown",
      "metadata": {
        "id": "view-in-github",
        "colab_type": "text"
      },
      "source": [
        "<a href=\"https://colab.research.google.com/github/carolina-crisos/Code-100/blob/main/E_036.ipynb\" target=\"_parent\"><img src=\"https://colab.research.google.com/assets/colab-badge.svg\" alt=\"Open In Colab\"/></a>"
      ]
    },
    {
      "cell_type": "markdown",
      "source": [
        "Escribe un programa que, dado un número, compruebe y muestre si es primo, fibonacci y par.\n",
        "\n",
        "Ejemplos:\n",
        "- Con el número 2, nos dirá: \"2 es primo, fibonacci y es par\"\n",
        "- Con el número 7, nos dirá: \"7 es primo, no es fibonacci y es impar\"\n"
      ],
      "metadata": {
        "id": "-ba2Q15UrOK3"
      }
    },
    {
      "cell_type": "code",
      "execution_count": null,
      "metadata": {
        "colab": {
          "base_uri": "https://localhost:8080/"
        },
        "id": "S5-erBHHrJAR",
        "outputId": "ba1e6f99-c6a2-4dd9-d952-370a36c64fe2"
      },
      "outputs": [
        {
          "output_type": "stream",
          "name": "stdout",
          "text": [
            "Programa que comprueba si un número es primo, fibonacci y par.\n",
            "Ingrese un número: 3\n",
            "3 es primo, es fibonacci y es impar.\n"
          ]
        }
      ],
      "source": [
        "print('Programa que comprueba si un número es primo, fibonacci y par.')\n",
        "\n",
        "# Función para verificar si un número es primo\n",
        "def es_primo(n):\n",
        "    if n <= 1:\n",
        "        return False\n",
        "    # Itera desde 2 hasta la raíz cuadrada de n para verificar si n tiene algún divisor\n",
        "    for i in range(2, int(n**0.5) + 1):\n",
        "        if n % i == 0:  # Si n es divisible por i, no es primo\n",
        "            return False\n",
        "    return True  # Si no se encontraron divisores, n es primo\n",
        "\n",
        "# Función para verificar si un número está en la secuencia de Fibonacci\n",
        "def es_fibonacci(n):\n",
        "    a, b = 0, 1\n",
        "    while a < n:\n",
        "        a, b = b, a + b  # Calcula los números de Fibonacci\n",
        "    return a == n  # Si a es igual a n, n está en la secuencia de Fibonacci\n",
        "\n",
        "# Función para verificar si un número es par\n",
        "def es_par(n):\n",
        "    return n % 2 == 0  # Devuelve True si n es divisible por 2 (es par), False en caso contrario\n",
        "\n",
        "# Solicitamos al usuario\n",
        "numero = int(input('Ingrese un número: '))\n",
        "\n",
        "# Verifica si el número es primo y asigna un mensaje\n",
        "if es_primo(numero):\n",
        "    primo_str = \"es primo\"\n",
        "else:\n",
        "    primo_str = \"no es primo\"\n",
        "\n",
        "# Verifica si el número está en la secuencia de Fibonacci y asigna un mensaje\n",
        "if es_fibonacci(numero):\n",
        "    fib_str = \"es fibonacci\"\n",
        "else:\n",
        "    fib_str = \"no es fibonacci\"\n",
        "\n",
        "# Verifica si el número es par y asigna un mensaje\n",
        "if es_par(numero):\n",
        "    par_str = \"es par\"\n",
        "else:\n",
        "    par_str = \"es impar\"\n",
        "\n",
        "# Crea un mensaje con los resultados obtenidos y lo imprime\n",
        "resultado = f\"{numero} {primo_str}, {fib_str} y {par_str}.\"\n",
        "print(resultado)\n",
        "\n",
        "\n"
      ]
    }
  ]
}