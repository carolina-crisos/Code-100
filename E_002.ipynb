{
  "nbformat": 4,
  "nbformat_minor": 0,
  "metadata": {
    "colab": {
      "provenance": [],
      "authorship_tag": "ABX9TyNCVNyiTiy/+kH/WpDysAPt",
      "include_colab_link": true
    },
    "kernelspec": {
      "name": "python3",
      "display_name": "Python 3"
    },
    "language_info": {
      "name": "python"
    }
  },
  "cells": [
    {
      "cell_type": "markdown",
      "metadata": {
        "id": "view-in-github",
        "colab_type": "text"
      },
      "source": [
        "<a href=\"https://colab.research.google.com/github/carolina-crisos/Code-100/blob/main/E_002.ipynb\" target=\"_parent\"><img src=\"https://colab.research.google.com/assets/colab-badge.svg\" alt=\"Open In Colab\"/></a>"
      ]
    },
    {
      "cell_type": "markdown",
      "source": [
        "**Solicitar el valor de radio de un circulo para calcular su area.**"
      ],
      "metadata": {
        "id": "_llhRcPF_Nkd"
      }
    },
    {
      "cell_type": "code",
      "execution_count": null,
      "metadata": {
        "id": "DORFhYk1_LmL"
      },
      "outputs": [],
      "source": [
        "# Utilizamos modulo para poder trabajar con el valor de pi\n",
        "from math import pi\n",
        "\n",
        "# Le pedimos al usuario el valor de radio\n",
        "radio = float(input(\"Ingresa el valor de radio del circulo: \")) # Convertimos la variable a flotante para trabajarlo en operacion aritmetica\n",
        "\n",
        "# Realizamos el calculo de area\n",
        "area = round(pi * (radio ** 2),2) # Utilizamos round para redondear a 2 decimales despues del punto\n",
        "\n",
        "# Mostramos el valor de area\n",
        "print(f'Valor de area en el circulo: {area}')\n"
      ]
    }
  ]
}