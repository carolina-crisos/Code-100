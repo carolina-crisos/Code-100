{
  "nbformat": 4,
  "nbformat_minor": 0,
  "metadata": {
    "colab": {
      "provenance": [],
      "authorship_tag": "ABX9TyMSBdxJWlgz5JiZxt5xlGCe",
      "include_colab_link": true
    },
    "kernelspec": {
      "name": "python3",
      "display_name": "Python 3"
    },
    "language_info": {
      "name": "python"
    }
  },
  "cells": [
    {
      "cell_type": "markdown",
      "metadata": {
        "id": "view-in-github",
        "colab_type": "text"
      },
      "source": [
        "<a href=\"https://colab.research.google.com/github/carolina-crisos/Code-100/blob/main/E_049.ipynb\" target=\"_parent\"><img src=\"https://colab.research.google.com/assets/colab-badge.svg\" alt=\"Open In Colab\"/></a>"
      ]
    },
    {
      "cell_type": "markdown",
      "source": [
        "**Escribir una función mas_larga() que tome una lista de palabras y devuelva la mas larga.**"
      ],
      "metadata": {
        "id": "rawTgajq37wU"
      }
    },
    {
      "cell_type": "code",
      "source": [
        "def mas_larga(texto):\n",
        "    # Dividir el texto en palabras\n",
        "    texto = texto.split()\n",
        "\n",
        "    # Calcular la longitud de cada palabra en la lista\n",
        "    longitud_palabra = [len(i) for i in texto]\n",
        "\n",
        "    # Encontrar la longitud máxima y su índice correspondiente\n",
        "    mayor = max(longitud_palabra)\n",
        "    indice_mayor = longitud_palabra.index(mayor)\n",
        "\n",
        "    # Devolver la palabra más larga\n",
        "    return texto[indice_mayor]\n",
        "\n",
        "# Ejemplo de uso con una cadena de texto\n",
        "mas_larga(\"Manejando un corvette del 78'\")"
      ],
      "metadata": {
        "id": "m8dX6EykASTO",
        "outputId": "c15a7c53-656f-4b7c-ad4b-9c7c50f9a35c",
        "colab": {
          "base_uri": "https://localhost:8080/",
          "height": 36
        }
      },
      "execution_count": null,
      "outputs": [
        {
          "output_type": "execute_result",
          "data": {
            "text/plain": [
              "'Manejando'"
            ],
            "application/vnd.google.colaboratory.intrinsic+json": {
              "type": "string"
            }
          },
          "metadata": {},
          "execution_count": 25
        }
      ]
    }
  ]
}