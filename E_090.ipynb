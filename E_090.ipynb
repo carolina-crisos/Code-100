{
  "nbformat": 4,
  "nbformat_minor": 0,
  "metadata": {
    "colab": {
      "provenance": [],
      "authorship_tag": "ABX9TyP0AQ3QeAI97aFl4VmNFVl0",
      "include_colab_link": true
    },
    "kernelspec": {
      "name": "python3",
      "display_name": "Python 3"
    },
    "language_info": {
      "name": "python"
    }
  },
  "cells": [
    {
      "cell_type": "markdown",
      "metadata": {
        "id": "view-in-github",
        "colab_type": "text"
      },
      "source": [
        "<a href=\"https://colab.research.google.com/github/carolina-crisos/Code-100/blob/main/E_090.ipynb\" target=\"_parent\"><img src=\"https://colab.research.google.com/assets/colab-badge.svg\" alt=\"Open In Colab\"/></a>"
      ]
    },
    {
      "cell_type": "markdown",
      "source": [
        "**Corrector de palabras**"
      ],
      "metadata": {
        "id": "tDDEKr5sKFQy"
      }
    },
    {
      "cell_type": "code",
      "execution_count": null,
      "metadata": {
        "colab": {
          "base_uri": "https://localhost:8080/"
        },
        "id": "_XaEnXagKCkv",
        "outputId": "ea2cb11d-0cbe-4e1a-b8ef-1215d8ffc762"
      },
      "outputs": [
        {
          "output_type": "stream",
          "name": "stdout",
          "text": [
            "Requirement already satisfied: autocorrect in /usr/local/lib/python3.10/dist-packages (2.6.1)\n",
            "Ingresa una palabra: correjir\n",
            "Palabra original: correjir\n",
            "Palabra corregida: corregir\n"
          ]
        }
      ],
      "source": [
        "# Instala la librería Autocorrect\n",
        "!pip install autocorrect\n",
        "\n",
        "# Importa la clase Speller de la librería autocorrect\n",
        "from autocorrect import Speller\n",
        "\n",
        "# Función para corregir ortografía\n",
        "def corrector_ortografico(palabra):\n",
        "  # Crea una instancia del corrector (Speller) para el idioma español\n",
        "  spell = Speller(lang='es')\n",
        "\n",
        "  # Utiliza el corrector para obtener una sugerencia de corrección\n",
        "  sugerencia = spell(palabra)\n",
        "\n",
        "  # Retorna la sugerencia de corrección\n",
        "  return sugerencia\n",
        "\n",
        "# Función principal\n",
        "if __name__ == \"__main__\":\n",
        "  # Solicita al usuario que ingrese una palabra\n",
        "  palabra_ingresada = input(\"Ingresa una palabra: \")\n",
        "\n",
        "  # Llama a la función de corrección y obtiene el resultado\n",
        "  palabra_corregida = corrector_ortografico(palabra_ingresada)\n",
        "\n",
        "  # Imprime la palabra original y la palabra corregida\n",
        "  print(f\"Palabra original: {palabra_ingresada}\")\n",
        "  print(f\"Palabra corregida: {palabra_corregida}\")\n",
        "\n",
        "\n"
      ]
    }
  ]
}