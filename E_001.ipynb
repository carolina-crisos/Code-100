{
  "nbformat": 4,
  "nbformat_minor": 0,
  "metadata": {
    "colab": {
      "provenance": [],
      "authorship_tag": "ABX9TyNTd+8/FNyfN55kdDHHwQny",
      "include_colab_link": true
    },
    "kernelspec": {
      "name": "python3",
      "display_name": "Python 3"
    },
    "language_info": {
      "name": "python"
    }
  },
  "cells": [
    {
      "cell_type": "markdown",
      "metadata": {
        "id": "view-in-github",
        "colab_type": "text"
      },
      "source": [
        "<a href=\"https://colab.research.google.com/github/carolina-crisos/Code-100/blob/main/E_001.ipynb\" target=\"_parent\"><img src=\"https://colab.research.google.com/assets/colab-badge.svg\" alt=\"Open In Colab\"/></a>"
      ]
    },
    {
      "cell_type": "markdown",
      "source": [
        "**Obtener la fecha y hora actual en el sistema.**"
      ],
      "metadata": {
        "id": "aFt_MYO98Xx0"
      }
    },
    {
      "cell_type": "code",
      "execution_count": 7,
      "metadata": {
        "colab": {
          "base_uri": "https://localhost:8080/"
        },
        "id": "wmkPjNpC4PBn",
        "outputId": "bb746291-7d64-4197-b111-bd6c5420d0cd"
      },
      "outputs": [
        {
          "output_type": "stream",
          "name": "stdout",
          "text": [
            "2023-09-28 04:04:33.364134\n",
            "28/09/2023 04:04:33\n"
          ]
        }
      ],
      "source": [
        "# Modulo que nos permite trabajar con fechas y horas\n",
        "import datetime as dt # Nombramos el modulo como dt\n",
        "\n",
        "# Asignamos el objeto a una variable\n",
        "ahora = dt.datetime.now()\n",
        "\n",
        "# Mostramos en pantalla el valor la variable\n",
        "print(ahora)\n",
        "\n",
        "# Vamos a darle formato a la impresion\n",
        "print(ahora.strftime('%d/%m/%Y %H:%M:%S'))"
      ]
    }
  ]
}