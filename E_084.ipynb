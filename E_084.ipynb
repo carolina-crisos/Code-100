{
  "nbformat": 4,
  "nbformat_minor": 0,
  "metadata": {
    "colab": {
      "provenance": [],
      "authorship_tag": "ABX9TyORaVHavuNvZesnpkJVMkL4",
      "include_colab_link": true
    },
    "kernelspec": {
      "name": "python3",
      "display_name": "Python 3"
    },
    "language_info": {
      "name": "python"
    }
  },
  "cells": [
    {
      "cell_type": "markdown",
      "metadata": {
        "id": "view-in-github",
        "colab_type": "text"
      },
      "source": [
        "<a href=\"https://colab.research.google.com/github/carolina-crisos/Code-100/blob/main/E_084.ipynb\" target=\"_parent\"><img src=\"https://colab.research.google.com/assets/colab-badge.svg\" alt=\"Open In Colab\"/></a>"
      ]
    },
    {
      "cell_type": "markdown",
      "source": [
        "**Juego de palabras**"
      ],
      "metadata": {
        "id": "j90r6CLMOeht"
      }
    },
    {
      "cell_type": "code",
      "execution_count": null,
      "metadata": {
        "id": "79yReFXzOax8",
        "colab": {
          "base_uri": "https://localhost:8080/"
        },
        "outputId": "7d790c6c-a75c-404f-92f5-599213badd87"
      },
      "outputs": [
        {
          "output_type": "stream",
          "name": "stdout",
          "text": [
            "_ _ _ _ _ _ _ _ _ _ _\n",
            "Ingresa una letra a adivinar: t\n",
            "_ _ _ _ _ t _ _ _ _ _\n",
            "Ingresa una letra a adivinar: e\n",
            "Letra incorrecta. Intentos restantes: 4\n",
            "Ingresa una letra a adivinar: a\n",
            "_ _ _ _ _ t a _ _ _ a\n",
            "Ingresa una letra a adivinar: i\n",
            "Letra incorrecta. Intentos restantes: 3\n",
            "Ingresa una letra a adivinar: o\n",
            "_ o _ _ _ t a _ o _ a\n",
            "Ingresa una letra a adivinar: p\n",
            "_ o _ p _ t a _ o _ a\n",
            "Ingresa una letra a adivinar: c\n",
            "c o _ p _ t a _ o _ a\n",
            "Ingresa una letra a adivinar: m\n",
            "c o m p _ t a _ o _ a\n",
            "Ingresa una letra a adivinar: d\n",
            "c o m p _ t a d o _ a\n",
            "Ingresa una letra a adivinar: r\n",
            "c o m p _ t a d o r a\n",
            "Ingresa una letra a adivinar: u\n",
            "c o m p u t a d o r a\n",
            "¡Felicidades! Has adivinado la palabra.\n"
          ]
        }
      ],
      "source": [
        "import random\n",
        "\n",
        "# Lista de palabras para el juego\n",
        "palabras = [\n",
        "    \"python\",\n",
        "    \"programacion\",\n",
        "    \"desarrollo\",\n",
        "    \"computadora\",\n",
        "    \"aventura\",\n",
        "    \"ciencia\",\n",
        "    \"tecnologia\",\n",
        "    \"innovacion\",\n",
        "    \"elefante\",\n",
        "    \"mariposa\"\n",
        "]\n",
        "\n",
        "# Selecciona una palabra aleatoria de la lista\n",
        "palabra_aleatoria = random.choice(palabras)\n",
        "\n",
        "# Inicializa el progreso, mostrando guiones bajos en lugar de letras\n",
        "progreso = ['_'] * len(palabra_aleatoria)\n",
        "\n",
        "# Imprime el progreso actual ocultando las letras\n",
        "print(' '.join(progreso))\n",
        "\n",
        "# Número de intentos permitidos\n",
        "intentos = 5\n",
        "\n",
        "# Bucle principal del juego\n",
        "while intentos > 0:\n",
        "    jugador = input('Ingresa una letra a adivinar: ').lower()\n",
        "\n",
        "    # Verifica si la letra del jugador está en la palabra\n",
        "    if jugador in palabra_aleatoria:\n",
        "        # Actualiza el progreso revelando la letra correcta\n",
        "        for i in range(len(palabra_aleatoria)):\n",
        "            if palabra_aleatoria[i] == jugador:\n",
        "                progreso[i] = jugador\n",
        "\n",
        "        # Imprime el progreso actualizado\n",
        "        print(' '.join(progreso))\n",
        "\n",
        "        # Verifica si todas las letras han sido adivinadas\n",
        "        if '_' not in progreso:\n",
        "            print('¡Felicidades! Has adivinado la palabra.')\n",
        "            break\n",
        "    else:\n",
        "        # Reduce el número de intentos si la letra no está en la palabra\n",
        "        intentos -= 1\n",
        "        print(f'Letra incorrecta. Intentos restantes: {intentos}')\n",
        "\n",
        "# Comprueba si el jugador ha agotado sus intentos sin adivinar la palabra\n",
        "if '_' in progreso:\n",
        "    print(f'Lo siento, has agotado tus intentos. La palabra era: {palabra_aleatoria}')\n",
        "\n"
      ]
    }
  ]
}