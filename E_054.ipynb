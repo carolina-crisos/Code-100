{
  "nbformat": 4,
  "nbformat_minor": 0,
  "metadata": {
    "colab": {
      "provenance": [],
      "authorship_tag": "ABX9TyP15Gek13QzbS/XOIGyn+sM",
      "include_colab_link": true
    },
    "kernelspec": {
      "name": "python3",
      "display_name": "Python 3"
    },
    "language_info": {
      "name": "python"
    }
  },
  "cells": [
    {
      "cell_type": "markdown",
      "metadata": {
        "id": "view-in-github",
        "colab_type": "text"
      },
      "source": [
        "<a href=\"https://colab.research.google.com/github/carolina-crisos/Code-100/blob/main/E_054.ipynb\" target=\"_parent\"><img src=\"https://colab.research.google.com/assets/colab-badge.svg\" alt=\"Open In Colab\"/></a>"
      ]
    },
    {
      "cell_type": "markdown",
      "source": [
        "**Dados un cierto número se segundos expresarlos como días, horas, minutos y segundos.**"
      ],
      "metadata": {
        "id": "kOBmp3b-yqtM"
      }
    },
    {
      "cell_type": "code",
      "execution_count": null,
      "metadata": {
        "id": "Sjo-FAsBkvD8",
        "colab": {
          "base_uri": "https://localhost:8080/"
        },
        "outputId": "65a27d9f-b955-4de2-ef74-2c573c848b49"
      },
      "outputs": [
        {
          "output_type": "stream",
          "name": "stdout",
          "text": [
            "Ingresa la cantidad de segundos: 2500\n",
            "0h:41m:40s\n",
            "¿Deseas ingresar otra cantidad? (s/n):s\n",
            "Ingresa la cantidad de segundos: 457890\n",
            "5d:7h:11m:30s\n",
            "¿Deseas ingresar otra cantidad? (s/n):n\n",
            "Fin del programa.\n"
          ]
        }
      ],
      "source": [
        "# Bucle principal que permite al usuario realizar múltiples cálculos.\n",
        "while True:\n",
        "  # Solicitamos al usuario la cantidad a convertir.\n",
        "  segundos = int(input('Ingresa la cantidad de segundos: '))\n",
        "\n",
        "  # Calculamos la cantidad de días, horas, minutos y segundos.\n",
        "  dias = segundos // (24 * 60 * 60)\n",
        "  segundos = segundos % (24 * 60 * 60)\n",
        "  horas = segundos // (60 * 60)\n",
        "  segundos = segundos % (60 * 60)\n",
        "  minutos = segundos // 60\n",
        "  segundos = segundos % 60\n",
        "\n",
        "  # Muestra el resultado en formato.\n",
        "  if dias != 0:\n",
        "    print(f'{dias}d:', end=\"\")\n",
        "  print(f'{horas}h:{minutos}m:{segundos}s')\n",
        "\n",
        "  # Pregunta si desea realizar otra conversión.\n",
        "  ciclo = input('¿Deseas ingresar otra cantidad? (s/n):').lower()\n",
        "\n",
        "  # Si la respuesta no es 's', salir del bucle y finalizar el programa.\n",
        "  if ciclo != 's':\n",
        "    print('Fin del programa.')\n",
        "    break\n",
        "  # Si la respuesta es 's', continuar con la siguiente iteración del bucle.\n",
        "  else:\n",
        "    continue"
      ]
    }
  ]
}