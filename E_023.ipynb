{
  "nbformat": 4,
  "nbformat_minor": 0,
  "metadata": {
    "colab": {
      "provenance": [],
      "authorship_tag": "ABX9TyOddmMnz0deYgPA2gaVwVk/",
      "include_colab_link": true
    },
    "kernelspec": {
      "name": "python3",
      "display_name": "Python 3"
    },
    "language_info": {
      "name": "python"
    }
  },
  "cells": [
    {
      "cell_type": "markdown",
      "metadata": {
        "id": "view-in-github",
        "colab_type": "text"
      },
      "source": [
        "<a href=\"https://colab.research.google.com/github/carolina-crisos/Code-100/blob/main/E_023.ipynb\" target=\"_parent\"><img src=\"https://colab.research.google.com/assets/colab-badge.svg\" alt=\"Open In Colab\"/></a>"
      ]
    },
    {
      "cell_type": "markdown",
      "source": [
        "**Crear un histograma a partir de una lista de enteros**"
      ],
      "metadata": {
        "id": "bLJEES-zLn3W"
      }
    },
    {
      "cell_type": "code",
      "execution_count": null,
      "metadata": {
        "colab": {
          "base_uri": "https://localhost:8080/"
        },
        "id": "jN0GQkTxLiWk",
        "outputId": "49de67b2-2f89-4e05-aa60-a51ba6ce4d9b"
      },
      "outputs": [
        {
          "output_type": "stream",
          "name": "stdout",
          "text": [
            "*\n",
            "*****\n",
            "***\n",
            "*********\n",
            "\n",
            "*******\n",
            "******\n",
            "********\n",
            "***\n"
          ]
        }
      ],
      "source": [
        "def histograma(datos):\n",
        "\n",
        "    # Itera a través de cada número en la lista 'datos'\n",
        "    for i in datos:\n",
        "\n",
        "        # Imprimimos '*' repetido en 'i' veces, creando así una barra en el histograma\n",
        "        print(\"*\" * i)\n",
        "\n",
        "# Llamamos a la función y muestra el histograma correspondiente.\n",
        "histograma([1, 5, 3, 9])\n",
        "\n",
        "# Imprimimos una línea en blanco para separar los dos histogramas\n",
        "print()\n",
        "\n",
        "# Llamamos con datos distintos para mostrar un segundo histograma.\n",
        "histograma([7, 6, 8, 3])\n"
      ]
    }
  ]
}