{
  "nbformat": 4,
  "nbformat_minor": 0,
  "metadata": {
    "colab": {
      "provenance": [],
      "authorship_tag": "ABX9TyNJ/I6PStel6yZ+zmbLK8Zk",
      "include_colab_link": true
    },
    "kernelspec": {
      "name": "python3",
      "display_name": "Python 3"
    },
    "language_info": {
      "name": "python"
    }
  },
  "cells": [
    {
      "cell_type": "markdown",
      "metadata": {
        "id": "view-in-github",
        "colab_type": "text"
      },
      "source": [
        "<a href=\"https://colab.research.google.com/github/carolina-crisos/Code-100/blob/main/E_063.ipynb\" target=\"_parent\"><img src=\"https://colab.research.google.com/assets/colab-badge.svg\" alt=\"Open In Colab\"/></a>"
      ]
    },
    {
      "cell_type": "markdown",
      "source": [
        "**Problema: Dígitos Únicos**\n",
        "\n",
        "**Escribe una función en Python llamada tiene_digitos_unicos que tome un número entero positivo como entrada y determine si todos sus dígitos son únicos.**"
      ],
      "metadata": {
        "id": "nzRq_Pbd1FAH"
      }
    },
    {
      "cell_type": "code",
      "source": [
        "def digitos_unicos(numero):\n",
        "    # Iteramos sobre cada dígito del número convertido a cadena.\n",
        "    for n in str(numero):\n",
        "        # Verificamos si el dígito actual se repite más de una vez en el número.\n",
        "        if str(numero).count(n) > 1:\n",
        "            # Si encontramos un dígito repetido más de una vez, el número no tiene dígitos únicos.\n",
        "            return False\n",
        "    # Si no encontramos dígitos repetidos más de una vez, el número tiene dígitos únicos.\n",
        "    return True\n",
        "\n",
        "# Ejemplo de uso de la función\n",
        "print(digitos_unicos(123))  # Devuelve True, ya que todos los dígitos son únicos.\n",
        "print(digitos_unicos(551))\n",
        "print(digitos_unicos(166))\n",
        "print(digitos_unicos(154))"
      ],
      "metadata": {
        "id": "G2ma7CxITTtW",
        "colab": {
          "base_uri": "https://localhost:8080/"
        },
        "outputId": "5805cd44-7213-46e1-c846-5421763f0b60"
      },
      "execution_count": null,
      "outputs": [
        {
          "output_type": "stream",
          "name": "stdout",
          "text": [
            "True\n",
            "False\n",
            "False\n",
            "True\n"
          ]
        }
      ]
    },
    {
      "cell_type": "code",
      "execution_count": null,
      "metadata": {
        "colab": {
          "base_uri": "https://localhost:8080/"
        },
        "id": "aPL9Q1fI0L6C",
        "outputId": "243ea68c-12e1-4791-bece-1493bad38959"
      },
      "outputs": [
        {
          "output_type": "stream",
          "name": "stdout",
          "text": [
            "False\n",
            "False\n",
            "True\n",
            "True\n",
            "False\n"
          ]
        }
      ],
      "source": [
        "def digitos_unicos2(numero):\n",
        "    # Convertimos el número a cadena y luego a un conjunto de caracteres (dígitos únicos).\n",
        "    digitos = set(str(numero))\n",
        "\n",
        "    # Comparamos la longitud del conjunto de dígitos únicos con la longitud de la cadena original.\n",
        "    if len(digitos) == len(str(numero)):\n",
        "        # Si son iguales, todos los dígitos son únicos, devolvemos True.\n",
        "        return True\n",
        "    else:\n",
        "        # Si no son iguales, hay dígitos repetidos, devolvemos False.\n",
        "        return False\n",
        "\n",
        "# Ejemplos de uso de la función\n",
        "print(digitos_unicos2(2254))  # Devuelve False, ya que el dígito '2' se repite.\n",
        "print(digitos_unicos2(12344)) # Devuelve False, ya que el dígito '4' se repite.\n",
        "print(digitos_unicos2(5678))  # Devuelve True, ya que todos los dígitos son únicos.\n",
        "print(digitos_unicos2(123)) # True\n",
        "print(digitos_unicos2(91011)) #False"
      ]
    }
  ]
}