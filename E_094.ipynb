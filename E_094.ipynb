{
  "nbformat": 4,
  "nbformat_minor": 0,
  "metadata": {
    "colab": {
      "provenance": [],
      "authorship_tag": "ABX9TyP0QnqDQAe7bFR4qoy5Q5B/",
      "include_colab_link": true
    },
    "kernelspec": {
      "name": "python3",
      "display_name": "Python 3"
    },
    "language_info": {
      "name": "python"
    }
  },
  "cells": [
    {
      "cell_type": "markdown",
      "metadata": {
        "id": "view-in-github",
        "colab_type": "text"
      },
      "source": [
        "<a href=\"https://colab.research.google.com/github/carolina-crisos/Code-100/blob/main/E_094.ipynb\" target=\"_parent\"><img src=\"https://colab.research.google.com/assets/colab-badge.svg\" alt=\"Open In Colab\"/></a>"
      ]
    },
    {
      "cell_type": "markdown",
      "source": [
        "**Adivinador de números**"
      ],
      "metadata": {
        "id": "_AIjFITrhZ4i"
      }
    },
    {
      "cell_type": "code",
      "execution_count": null,
      "metadata": {
        "colab": {
          "base_uri": "https://localhost:8080/"
        },
        "id": "FHNuNGuvejkx",
        "outputId": "414ba32d-f625-4a5f-c9c2-93d17d481c26"
      },
      "outputs": [
        {
          "output_type": "stream",
          "name": "stdout",
          "text": [
            "Piensa en un número del 1 al 100 y yo trataré de adivinarlo.\n",
            "¿Es 38 tu número? (ingresa 'm' si es menor, 'a' si es mayor, 'c' si es correcto): \n",
            "m\n",
            "¿Es 17 tu número? (ingresa 'm' si es menor, 'a' si es mayor, 'c' si es correcto): \n",
            "a\n",
            "¿Es 31 tu número? (ingresa 'm' si es menor, 'a' si es mayor, 'c' si es correcto): \n",
            "m\n",
            "¿Es 28 tu número? (ingresa 'm' si es menor, 'a' si es mayor, 'c' si es correcto): \n",
            "m\n",
            "¿Es 18 tu número? (ingresa 'm' si es menor, 'a' si es mayor, 'c' si es correcto): \n",
            "c\n",
            "¡Adiviné tu número! Es 18.\n"
          ]
        }
      ],
      "source": [
        "# Importa las librerías necesarias\n",
        "import random\n",
        "import time\n",
        "\n",
        "def adivinador_numero():\n",
        "  # Mensaje de inicio\n",
        "  print(\"Piensa en un número del 1 al 100 y yo trataré de adivinarlo.\")\n",
        "  time.sleep(5)  # Espera 5 segundos para dar tiempo al jugador\n",
        "\n",
        "  # Inicialización de límites y respuesta\n",
        "  limite_inferior = 1\n",
        "  limite_superior = 100\n",
        "  respuesta = None\n",
        "\n",
        "  # Bucle de adivinanza\n",
        "  while respuesta != 'c':\n",
        "    intento = random.randint(limite_inferior, limite_superior)\n",
        "    print(f\"¿Es {intento} tu número? (ingresa 'm' si es menor, 'a' si es mayor, 'c' si es correcto): \")\n",
        "    respuesta = input().lower()\n",
        "\n",
        "    # Ajuste de límites según la respuesta del jugador\n",
        "    if respuesta == 'm':\n",
        "      limite_superior = intento - 1\n",
        "    elif respuesta == 'a':\n",
        "      limite_inferior = intento + 1\n",
        "\n",
        "  # Mensaje de éxito al adivinar el número\n",
        "  print(f\"¡Adiviné tu número! Es {intento}.\")\n",
        "\n",
        "if __name__ == \"__main__\":\n",
        "    adivinador_numero()\n",
        "\n"
      ]
    }
  ]
}