{
  "nbformat": 4,
  "nbformat_minor": 0,
  "metadata": {
    "colab": {
      "provenance": [],
      "authorship_tag": "ABX9TyNjU5eN+8Vx9+mehCY03Q9x",
      "include_colab_link": true
    },
    "kernelspec": {
      "name": "python3",
      "display_name": "Python 3"
    },
    "language_info": {
      "name": "python"
    }
  },
  "cells": [
    {
      "cell_type": "markdown",
      "metadata": {
        "id": "view-in-github",
        "colab_type": "text"
      },
      "source": [
        "<a href=\"https://colab.research.google.com/github/carolina-crisos/Code-100/blob/main/E_043.ipynb\" target=\"_parent\"><img src=\"https://colab.research.google.com/assets/colab-badge.svg\" alt=\"Open In Colab\"/></a>"
      ]
    },
    {
      "cell_type": "markdown",
      "source": [
        "**Convertir un Número Binario en Entero**"
      ],
      "metadata": {
        "id": "6RkqTQiU0CSl"
      }
    },
    {
      "cell_type": "code",
      "execution_count": null,
      "metadata": {
        "colab": {
          "base_uri": "https://localhost:8080/"
        },
        "id": "zDFwEeehzw8X",
        "outputId": "431278ba-0fe4-4b30-ea2f-a2e0f25cba2a"
      },
      "outputs": [
        {
          "output_type": "stream",
          "name": "stdout",
          "text": [
            "Binario: 11101 Entero: 29\n",
            "\n",
            "Ingresa número en binario: 11101\n",
            "Valor decimal: 29\n"
          ]
        }
      ],
      "source": [
        "# Forma 1: Convertir desde una cadena\n",
        "cadena = '11101'\n",
        "# Convierte la cadena binaria a un número entero usando base 2 (binario)\n",
        "entero = int(cadena, base=2)\n",
        "# Imprime el valor entero\n",
        "print(f'Binario: {cadena} Entero: {entero}\\n')\n",
        "\n",
        "# Forma 2: Convertir usando un bucle while\n",
        "# Solicitar un número en formato binario\n",
        "binario = int(input('Ingresa número en binario: '))\n",
        "# Inicialización de variables\n",
        "decimal = 0\n",
        "i = 0\n",
        "\n",
        "# Mientras el número binario sea mayor que 0, realiza la conversión a decimal\n",
        "while binario > 0:\n",
        "    # Obtiene el último dígito del número binario\n",
        "    digito = binario % 10\n",
        "    # Elimina el último dígito del número binario\n",
        "    binario = binario // 10\n",
        "    # Convierte el dígito a decimal y agrega al resultado, multiplicándolo por base 2 elevado a la posición i\n",
        "    decimal = decimal + digito * (2 ** i)\n",
        "    # Incrementa la posición para el siguiente dígito\n",
        "    i += 1\n",
        "else:\n",
        "    # Imprime el valor resultante\n",
        "    print(f'Valor decimal: {decimal}')\n"
      ]
    }
  ]
}