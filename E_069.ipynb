{
  "nbformat": 4,
  "nbformat_minor": 0,
  "metadata": {
    "colab": {
      "provenance": [],
      "authorship_tag": "ABX9TyO7muljl+oIAvF2hDHMXHst",
      "include_colab_link": true
    },
    "kernelspec": {
      "name": "python3",
      "display_name": "Python 3"
    },
    "language_info": {
      "name": "python"
    }
  },
  "cells": [
    {
      "cell_type": "markdown",
      "metadata": {
        "id": "view-in-github",
        "colab_type": "text"
      },
      "source": [
        "<a href=\"https://colab.research.google.com/github/carolina-crisos/Code-100/blob/main/E_069.ipynb\" target=\"_parent\"><img src=\"https://colab.research.google.com/assets/colab-badge.svg\" alt=\"Open In Colab\"/></a>"
      ]
    },
    {
      "cell_type": "markdown",
      "source": [
        "**Calcular la suma de los valores de una clave específica en un diccionario de objetos.**"
      ],
      "metadata": {
        "id": "1eLhn51jZJjY"
      }
    },
    {
      "cell_type": "code",
      "source": [
        "# Definición de una función llamada suma_valores\n",
        "def suma_valores(registro, clave):\n",
        "  # Inicialización de la variable edades para almacenar la suma de valores\n",
        "  edades = 0\n",
        "\n",
        "  # Iteración sobre cada elemento en el registro\n",
        "  for i in range(len(registro)):\n",
        "    # Acumula las edades de acuerdo a la clave proporcionada\n",
        "    edades += registro[i][clave]\n",
        "\n",
        "  # Devuelve la suma total de los valores asociados a la clave\n",
        "  return edades\n",
        "\n",
        "# Declaración de dos registros con información de nombre y edad\n",
        "registro = [\n",
        "    {\"nombre\": \"Juan\", \"edad\": 35},\n",
        "    {\"nombre\": \"Ana\", \"edad\": 30},\n",
        "    {\"nombre\": \"Carlos\", \"edad\": 15}\n",
        "]\n",
        "\n",
        "registro1 = [\n",
        "    {\"nombre\": \"Eduardo\", \"edad\": 25},\n",
        "    {\"nombre\": \"Julia\", \"edad\": 10},\n",
        "    {\"nombre\": \"Alejandro\", \"edad\": 42}\n",
        "]\n",
        "\n",
        "# Llamadas a la función suma_valores con diferentes registros y claves\n",
        "# Imprime la suma de las edades en cada caso\n",
        "print(suma_valores(registro, 'edad'))\n",
        "print(suma_valores(registro1, 'edad'))\n"
      ],
      "metadata": {
        "colab": {
          "base_uri": "https://localhost:8080/"
        },
        "id": "ipLmpqH0ZLRX",
        "outputId": "f5a07c86-cfe1-4467-9221-e85b108ccd9c"
      },
      "execution_count": null,
      "outputs": [
        {
          "output_type": "stream",
          "name": "stdout",
          "text": [
            "80\n",
            "77\n"
          ]
        }
      ]
    }
  ]
}