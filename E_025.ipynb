{
  "nbformat": 4,
  "nbformat_minor": 0,
  "metadata": {
    "colab": {
      "provenance": [],
      "authorship_tag": "ABX9TyPOunLjy0bT9OY29e0GJ57j",
      "include_colab_link": true
    },
    "kernelspec": {
      "name": "python3",
      "display_name": "Python 3"
    },
    "language_info": {
      "name": "python"
    }
  },
  "cells": [
    {
      "cell_type": "markdown",
      "metadata": {
        "id": "view-in-github",
        "colab_type": "text"
      },
      "source": [
        "<a href=\"https://colab.research.google.com/github/carolina-crisos/Code-100/blob/main/E_025.ipynb\" target=\"_parent\"><img src=\"https://colab.research.google.com/assets/colab-badge.svg\" alt=\"Open In Colab\"/></a>"
      ]
    },
    {
      "cell_type": "markdown",
      "source": [
        "**Generar un conjunto de números aleatorios y determinar cuáles son impares**"
      ],
      "metadata": {
        "id": "X_5i-cIeXEmU"
      }
    },
    {
      "cell_type": "code",
      "execution_count": null,
      "metadata": {
        "id": "XLzOZDXOW4-G",
        "colab": {
          "base_uri": "https://localhost:8080/"
        },
        "outputId": "20e32200-a31a-4b4f-989b-bcfec322b6b2"
      },
      "outputs": [
        {
          "output_type": "stream",
          "name": "stdout",
          "text": [
            "Conjunto de números aleatorios: [25, 65, 58, 93, 2, 80, 39, 89, 1, 3]\n",
            "Pares: [58, 2, 80]\n",
            "Impares: [25, 65, 93, 39, 89, 1, 3]\n",
            "\n",
            "{\n",
            "    \"61\": \"Es impar\",\n",
            "    \"50\": \"Es par\",\n",
            "    \"32\": \"Es par\",\n",
            "    \"98\": \"Es par\",\n",
            "    \"88\": \"Es par\",\n",
            "    \"13\": \"Es impar\",\n",
            "    \"48\": \"Es par\",\n",
            "    \"55\": \"Es impar\",\n",
            "    \"90\": \"Es par\",\n",
            "    \"20\": \"Es par\"\n",
            "}\n"
          ]
        }
      ],
      "source": [
        "import random\n",
        "\n",
        "# Generamos una lista de 10 números aleatorios entre 1 y 100 usando una lista de comprensión\n",
        "numeros_aleatorios = [random.randint(1, 100) for i in range(10)]\n",
        "\n",
        "# Filtramos los números pares usando la función filter()\n",
        "numeros_pares = filter(lambda i: i % 2 == 0, numeros_aleatorios)\n",
        "\n",
        "# Filtramos los números impares\n",
        "numeros_impares = filter(lambda i: i % 2 == 1, numeros_aleatorios)\n",
        "\n",
        "# Se imprime el conjunto completo\n",
        "print(f'Conjunto de números aleatorios: {numeros_aleatorios}')\n",
        "\n",
        "# Números pares después de aplicar el filtro y convertimos el obejeto en una lista\n",
        "print(f'Pares: {list(numeros_pares)}')\n",
        "\n",
        "# Lista de números impares\n",
        "print(f'Impares: {list(numeros_impares)}')\n",
        "\n",
        "\n",
        "print()\n",
        "\n",
        "# Alternativa al ejercicio\n",
        "\n",
        "import json\n",
        "\n",
        "# Inicializamos variables\n",
        "numeros = {}\n",
        "num_a = int()\n",
        "contador = 0\n",
        "\n",
        "# Deseamos solo obtener 10 números\n",
        "while contador < 10:\n",
        "    # Generamos un número aleatorio entre 1 y 100\n",
        "    num_a = random.randint(1, 100)\n",
        "\n",
        "    # Verifica si el número aleatorio generado no está en el diccionario (para evitar duplicados)\n",
        "    if num_a not in numeros:\n",
        "        # Verifica si el número aleatorio es par o impar\n",
        "        if num_a % 2 == 0:\n",
        "            par = \"Es par\"\n",
        "            numeros[num_a] = par  # Agregar el número [key] y su estado par [value]\n",
        "            contador += 1         # Incrementa el contador después de agregar un número\n",
        "        else:\n",
        "            impar = \"Es impar\"\n",
        "            numeros[num_a] = impar  # Agregar el número y su estado (impar)\n",
        "            contador += 1           # Incrementa el contador después de agregar un número\n",
        "\n",
        "# Se imprime el diccionario en formato JSON con una sangría de 4 espacios para una presentación ordenada\n",
        "print(json.dumps(numeros, indent=4))\n",
        "\n"
      ]
    }
  ]
}