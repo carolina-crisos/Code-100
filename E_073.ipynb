{
  "nbformat": 4,
  "nbformat_minor": 0,
  "metadata": {
    "colab": {
      "provenance": [],
      "authorship_tag": "ABX9TyNzAx0ZkeK5XKhEcssEvxYw",
      "include_colab_link": true
    },
    "kernelspec": {
      "name": "python3",
      "display_name": "Python 3"
    },
    "language_info": {
      "name": "python"
    }
  },
  "cells": [
    {
      "cell_type": "markdown",
      "metadata": {
        "id": "view-in-github",
        "colab_type": "text"
      },
      "source": [
        "<a href=\"https://colab.research.google.com/github/carolina-crisos/Code-100/blob/main/E_073.ipynb\" target=\"_parent\"><img src=\"https://colab.research.google.com/assets/colab-badge.svg\" alt=\"Open In Colab\"/></a>"
      ]
    },
    {
      "cell_type": "markdown",
      "source": [
        "**Generar n Cantidad de Números Primos Consecutivos**"
      ],
      "metadata": {
        "id": "So4EVd63oTRd"
      }
    },
    {
      "cell_type": "code",
      "execution_count": null,
      "metadata": {
        "colab": {
          "base_uri": "https://localhost:8080/"
        },
        "id": "0HJyguPgoBNg",
        "outputId": "d98a43f4-6162-4e70-b086-89cc8b6fd07c"
      },
      "outputs": [
        {
          "output_type": "stream",
          "name": "stdout",
          "text": [
            "¿Cuántos números primos necesitas?: 15\n",
            "[2, 3, 5, 7, 11, 13, 17, 19, 23, 29, 31, 37, 41, 43, 47]\n"
          ]
        }
      ],
      "source": [
        "# Definición de la función 'es_primo'\n",
        "def es_primo(num):\n",
        "    # Inicialización del contador para contar divisores\n",
        "    contador = 0\n",
        "\n",
        "    # Itera sobre los números desde 2 hasta 'num-1'\n",
        "    for i in range(2, num):\n",
        "        # Verifica si 'num' es divisible por 'i'\n",
        "        if num % i == 0:\n",
        "            contador += 1  # Si sí, incrementa el contador\n",
        "\n",
        "    # Si hay más de 0 divisores, 'num' no es primo; de lo contrario, es primo\n",
        "    if contador > 0:\n",
        "        return False\n",
        "    else:\n",
        "        return True\n",
        "\n",
        "# Solicita al usuario la cantidad de números primos que desea obtener\n",
        "n = int(input('¿Cuántos números primos necesitas?: '))\n",
        "\n",
        "# Inicialización de una lista para almacenar los números primos\n",
        "primos = []\n",
        "num = 2  # Inicialización del primer número primo\n",
        "\n",
        "# Bucle para generar 'n' cantidad de números primos\n",
        "while len(primos) < n:\n",
        "    # Verifica si 'num' es primo utilizando la función 'es_primo'\n",
        "    if es_primo(num):\n",
        "        primos.append(num)  # Si es primo, se agrega a la lista 'primos'\n",
        "    num += 1  # Avanza al siguiente número para verificar si es primo\n",
        "\n",
        "# Imprime la lista de números primos generados\n",
        "print(primos)\n"
      ]
    }
  ]
}