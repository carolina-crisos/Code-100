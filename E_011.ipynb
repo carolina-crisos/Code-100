{
  "nbformat": 4,
  "nbformat_minor": 0,
  "metadata": {
    "colab": {
      "provenance": [],
      "authorship_tag": "ABX9TyNwAQHmRlkx5yUGNdNu7cFj",
      "include_colab_link": true
    },
    "kernelspec": {
      "name": "python3",
      "display_name": "Python 3"
    },
    "language_info": {
      "name": "python"
    }
  },
  "cells": [
    {
      "cell_type": "markdown",
      "metadata": {
        "id": "view-in-github",
        "colab_type": "text"
      },
      "source": [
        "<a href=\"https://colab.research.google.com/github/carolina-crisos/Code-100/blob/main/E_011.ipynb\" target=\"_parent\"><img src=\"https://colab.research.google.com/assets/colab-badge.svg\" alt=\"Open In Colab\"/></a>"
      ]
    },
    {
      "cell_type": "markdown",
      "source": [
        "**Crear una cadena de caracteres multilinea**"
      ],
      "metadata": {
        "id": "1utvP0Qlo86L"
      }
    },
    {
      "cell_type": "code",
      "execution_count": null,
      "metadata": {
        "colab": {
          "base_uri": "https://localhost:8080/"
        },
        "id": "xoXwabkEnRQP",
        "outputId": "d05f2cac-c188-4324-f4a3-070dd78af666"
      },
      "outputs": [
        {
          "output_type": "stream",
          "name": "stdout",
          "text": [
            "Python es un lenguaje de programación de alto nivel creado a finales de los 80\n",
            "principios de los 90 por Guido van Rossum,\n",
            "holandés que trabajaba por aquella época en el \n",
            "Centro para las Matemáticas y la Informática de los Países Bajos.\n"
          ]
        }
      ],
      "source": [
        "# Utilizamos 3 comillas dobles al inicio y final de la cadena para trabajar con caracteres multilinea\n",
        "\n",
        "parrafos = \"\"\"Python es un lenguaje de programación de alto nivel creado a finales de los 80\n",
        "principios de los 90 por Guido van Rossum,\n",
        "holandés que trabajaba por aquella época en el\n",
        "Centro para las Matemáticas y la Informática de los Países Bajos.\"\"\"\n",
        "\n",
        "# Mostramos en pantalla la cadena\n",
        "\n",
        "print(parrafos)"
      ]
    }
  ]
}