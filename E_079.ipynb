{
  "nbformat": 4,
  "nbformat_minor": 0,
  "metadata": {
    "colab": {
      "provenance": [],
      "authorship_tag": "ABX9TyMIW8pdH1GhMw5QgLI5+Mv9",
      "include_colab_link": true
    },
    "kernelspec": {
      "name": "python3",
      "display_name": "Python 3"
    },
    "language_info": {
      "name": "python"
    }
  },
  "cells": [
    {
      "cell_type": "markdown",
      "metadata": {
        "id": "view-in-github",
        "colab_type": "text"
      },
      "source": [
        "<a href=\"https://colab.research.google.com/github/carolina-crisos/Code-100/blob/main/E_079.ipynb\" target=\"_parent\"><img src=\"https://colab.research.google.com/assets/colab-badge.svg\" alt=\"Open In Colab\"/></a>"
      ]
    },
    {
      "cell_type": "markdown",
      "source": [
        "**Programa un reloj digital**"
      ],
      "metadata": {
        "id": "FQpOeusnGbKR"
      }
    },
    {
      "cell_type": "code",
      "execution_count": null,
      "metadata": {
        "colab": {
          "base_uri": "https://localhost:8080/",
          "height": 379
        },
        "id": "q1P9gsm1C_Fl",
        "outputId": "a4c31de3-d087-4efb-a4fb-de5c9edce6ec"
      },
      "outputs": [
        {
          "output_type": "error",
          "ename": "TclError",
          "evalue": "ignored",
          "traceback": [
            "\u001b[0;31m---------------------------------------------------------------------------\u001b[0m",
            "\u001b[0;31mTclError\u001b[0m                                  Traceback (most recent call last)",
            "\u001b[0;32m<ipython-input-2-42b7270214a7>\u001b[0m in \u001b[0;36m<cell line: 11>\u001b[0;34m()\u001b[0m\n\u001b[1;32m      9\u001b[0m     \u001b[0metiqueta_s\u001b[0m\u001b[0;34m.\u001b[0m\u001b[0mafter\u001b[0m\u001b[0;34m(\u001b[0m\u001b[0;36m1000\u001b[0m\u001b[0;34m,\u001b[0m \u001b[0mactualiza_reloj\u001b[0m\u001b[0;34m)\u001b[0m\u001b[0;34m\u001b[0m\u001b[0;34m\u001b[0m\u001b[0m\n\u001b[1;32m     10\u001b[0m \u001b[0;34m\u001b[0m\u001b[0m\n\u001b[0;32m---> 11\u001b[0;31m \u001b[0mapp\u001b[0m \u001b[0;34m=\u001b[0m \u001b[0mTk\u001b[0m\u001b[0;34m(\u001b[0m\u001b[0;34m)\u001b[0m\u001b[0;34m\u001b[0m\u001b[0;34m\u001b[0m\u001b[0m\n\u001b[0m\u001b[1;32m     12\u001b[0m \u001b[0mapp\u001b[0m\u001b[0;34m.\u001b[0m\u001b[0mtitle\u001b[0m\u001b[0;34m(\u001b[0m\u001b[0;34m'Reloj digital'\u001b[0m\u001b[0;34m)\u001b[0m\u001b[0;34m\u001b[0m\u001b[0;34m\u001b[0m\u001b[0m\n\u001b[1;32m     13\u001b[0m \u001b[0;34m\u001b[0m\u001b[0m\n",
            "\u001b[0;32m/usr/lib/python3.10/tkinter/__init__.py\u001b[0m in \u001b[0;36m__init__\u001b[0;34m(self, screenName, baseName, className, useTk, sync, use)\u001b[0m\n\u001b[1;32m   2297\u001b[0m                 \u001b[0mbaseName\u001b[0m \u001b[0;34m=\u001b[0m \u001b[0mbaseName\u001b[0m \u001b[0;34m+\u001b[0m \u001b[0mext\u001b[0m\u001b[0;34m\u001b[0m\u001b[0;34m\u001b[0m\u001b[0m\n\u001b[1;32m   2298\u001b[0m         \u001b[0minteractive\u001b[0m \u001b[0;34m=\u001b[0m \u001b[0;32mFalse\u001b[0m\u001b[0;34m\u001b[0m\u001b[0;34m\u001b[0m\u001b[0m\n\u001b[0;32m-> 2299\u001b[0;31m         \u001b[0mself\u001b[0m\u001b[0;34m.\u001b[0m\u001b[0mtk\u001b[0m \u001b[0;34m=\u001b[0m \u001b[0m_tkinter\u001b[0m\u001b[0;34m.\u001b[0m\u001b[0mcreate\u001b[0m\u001b[0;34m(\u001b[0m\u001b[0mscreenName\u001b[0m\u001b[0;34m,\u001b[0m \u001b[0mbaseName\u001b[0m\u001b[0;34m,\u001b[0m \u001b[0mclassName\u001b[0m\u001b[0;34m,\u001b[0m \u001b[0minteractive\u001b[0m\u001b[0;34m,\u001b[0m \u001b[0mwantobjects\u001b[0m\u001b[0;34m,\u001b[0m \u001b[0museTk\u001b[0m\u001b[0;34m,\u001b[0m \u001b[0msync\u001b[0m\u001b[0;34m,\u001b[0m \u001b[0muse\u001b[0m\u001b[0;34m)\u001b[0m\u001b[0;34m\u001b[0m\u001b[0;34m\u001b[0m\u001b[0m\n\u001b[0m\u001b[1;32m   2300\u001b[0m         \u001b[0;32mif\u001b[0m \u001b[0museTk\u001b[0m\u001b[0;34m:\u001b[0m\u001b[0;34m\u001b[0m\u001b[0;34m\u001b[0m\u001b[0m\n\u001b[1;32m   2301\u001b[0m             \u001b[0mself\u001b[0m\u001b[0;34m.\u001b[0m\u001b[0m_loadtk\u001b[0m\u001b[0;34m(\u001b[0m\u001b[0;34m)\u001b[0m\u001b[0;34m\u001b[0m\u001b[0;34m\u001b[0m\u001b[0m\n",
            "\u001b[0;31mTclError\u001b[0m: no display name and no $DISPLAY environment variable"
          ]
        }
      ],
      "source": [
        "# Ejecuta en VSCode o IDLE\n",
        "\n",
        "from tkinter import *\n",
        "from tkinter.ttk import *\n",
        "from time import strftime\n",
        "\n",
        "def actualiza_reloj():\n",
        "    # Actualiza la etiqueta de la hora y minutos (%I:%M) *a 12 horas\n",
        "    etiqueta_hm.config(text=strftime(\"%I:%M\"))\n",
        "\n",
        "    # Actualiza la etiqueta de los segundos (%S)\n",
        "    etiqueta_s.config(text=strftime(\"%S\"))\n",
        "\n",
        "    # Actualiza la etiqueta de la fecha y día de la semana (%A %d/%m/%Y)\n",
        "    etiqueta_fecha.config(text=strftime(\"%A %d/%m/%Y\"))\n",
        "\n",
        "    # Programa la función para que se llame a sí misma cada 1000 milisegundos (1 segundo)\n",
        "    etiqueta_s.after(1000, actualiza_reloj)\n",
        "\n",
        "# Crea la ventana principal de la aplicación\n",
        "app = Tk()\n",
        "app.title('Reloj digital')\n",
        "\n",
        "# Crea un marco para la hora\n",
        "hora_frame = Frame()\n",
        "hora_frame.pack()\n",
        "\n",
        "# Etiqueta para mostrar la hora y minutos (fuente \"DS-Digital\" de tamaño 90)\n",
        "etiqueta_hm = Label(hora_frame, font=(\"DS-Digital\", 90), text=\"HH:MM\")\n",
        "etiqueta_hm.grid(row=0, column=0)\n",
        "\n",
        "# Etiqueta para mostrar los segundos (fuente \"DS-Digital\" de tamaño 20)\n",
        "etiqueta_s = Label(hora_frame, font=(\"DS-Digital\", 20), text='s')\n",
        "etiqueta_s.grid(row=0, column=2, sticky='s')\n",
        "\n",
        "# Etiqueta para mostrar la fecha (fuente \"Open 24 Display St\" de tamaño 30)\n",
        "etiqueta_fecha = Label(font=(\"Open 24 Display St\", 30), text='dia dd/mm/aaaa')\n",
        "etiqueta_fecha.pack(anchor='center')\n",
        "\n",
        "# Llama a la función para iniciar el reloj\n",
        "actualiza_reloj()\n",
        "\n",
        "# Inicia el bucle principal de la aplicación\n",
        "app.mainloop()\n"
      ]
    }
  ]
}