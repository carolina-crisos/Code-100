{
  "nbformat": 4,
  "nbformat_minor": 0,
  "metadata": {
    "colab": {
      "provenance": [],
      "authorship_tag": "ABX9TyOIQmbYEsXV89AnvyEYVvNl",
      "include_colab_link": true
    },
    "kernelspec": {
      "name": "python3",
      "display_name": "Python 3"
    },
    "language_info": {
      "name": "python"
    }
  },
  "cells": [
    {
      "cell_type": "markdown",
      "metadata": {
        "id": "view-in-github",
        "colab_type": "text"
      },
      "source": [
        "<a href=\"https://colab.research.google.com/github/carolina-crisos/Code-100/blob/main/E_027.ipynb\" target=\"_parent\"><img src=\"https://colab.research.google.com/assets/colab-badge.svg\" alt=\"Open In Colab\"/></a>"
      ]
    },
    {
      "cell_type": "markdown",
      "source": [
        "**Calcular el área de un triángulo**"
      ],
      "metadata": {
        "id": "-A0Z-k0uAu_1"
      }
    },
    {
      "cell_type": "code",
      "execution_count": null,
      "metadata": {
        "colab": {
          "base_uri": "https://localhost:8080/"
        },
        "id": "IRj1YOOjAmpX",
        "outputId": "359b6e7b-1ed9-4fc4-c28b-d396f08e5c57"
      },
      "outputs": [
        {
          "output_type": "stream",
          "name": "stdout",
          "text": [
            "Por favor, ingrese el valor de la base del triángulo: 25\n",
            "Ingrese el valor de la altura del triángulo: a\n",
            "Error! Ingrese un número válido.\n",
            "Ingrese el valor de la altura del triángulo: 13.2\n",
            "El área del triángulo con base 25.0 y altura 13.2 es: 165.0\n"
          ]
        }
      ],
      "source": [
        "# Inicializamos las variables base y altura como None\n",
        "base = None\n",
        "altura = None\n",
        "\n",
        "# Solicitamos el valor de la base del triángulo y manejar errores\n",
        "while True:\n",
        "    try:\n",
        "        base = float(input('Por favor, ingrese el valor de la base del triángulo: '))\n",
        "        break\n",
        "    except:\n",
        "        print('Error! Ingrese un número válido.')\n",
        "\n",
        "while True:\n",
        "    try:\n",
        "        altura = float(input('Ingrese el valor de la altura del triángulo: '))\n",
        "        break\n",
        "    except:\n",
        "        print('Error! Ingrese un número válido.')\n",
        "\n",
        "# Calculamos el área del triángulo usando la fórmula\n",
        "area_triangulo = (base * altura) / 2\n",
        "\n",
        "# Mostramos el resultado\n",
        "print(f'El área del triángulo con base {base} y altura {altura} es: {area_triangulo}')\n"
      ]
    }
  ]
}