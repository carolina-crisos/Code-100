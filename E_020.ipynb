{
  "nbformat": 4,
  "nbformat_minor": 0,
  "metadata": {
    "colab": {
      "provenance": [],
      "authorship_tag": "ABX9TyM5QUEkkM019AHPmRsSeQJK",
      "include_colab_link": true
    },
    "kernelspec": {
      "name": "python3",
      "display_name": "Python 3"
    },
    "language_info": {
      "name": "python"
    }
  },
  "cells": [
    {
      "cell_type": "markdown",
      "metadata": {
        "id": "view-in-github",
        "colab_type": "text"
      },
      "source": [
        "<a href=\"https://colab.research.google.com/github/carolina-crisos/Code-100/blob/main/E_020.ipynb\" target=\"_parent\"><img src=\"https://colab.research.google.com/assets/colab-badge.svg\" alt=\"Open In Colab\"/></a>"
      ]
    },
    {
      "cell_type": "markdown",
      "source": [
        "**Crear una subcadena de n caracteres replicada n cantidad de veces**"
      ],
      "metadata": {
        "id": "ty5qBwRKbFAB"
      }
    },
    {
      "cell_type": "code",
      "execution_count": null,
      "metadata": {
        "id": "K0zY0DbZa-3l",
        "colab": {
          "base_uri": "https://localhost:8080/"
        },
        "outputId": "d513aaa3-2124-42d4-fefd-5590b1f4557e"
      },
      "outputs": [
        {
          "output_type": "stream",
          "name": "stdout",
          "text": [
            "Ingresa un cadena de texto: Carolina\n",
            "Ingresa el valor para n: 5\n",
            "CarolCarolCarolCarolCarol\n"
          ]
        }
      ],
      "source": [
        "# 'Python' , n = 2 => 'Py' ; 'PyPy'\n",
        "\n",
        "def replica_subcadena(string, n):\n",
        "\n",
        "  # Validamos que n no sea mayor que la longitud de la cadena.\n",
        "\n",
        "  n_caracteres = n\n",
        "  if n_caracteres > len(string):\n",
        "    n_caracteres = len(string)\n",
        "\n",
        "  # Obtenemos la subcadena.\n",
        "\n",
        "  subcadena = string[:n_caracteres]\n",
        "\n",
        "  # Inicializamos el resultado como una cadena vacía.\n",
        "\n",
        "  resultado = ''\n",
        "\n",
        "  # Recorremos n veces, agregando la subcadena al resultado.\n",
        "\n",
        "  for i in range(n):\n",
        "    resultado += subcadena\n",
        "\n",
        "  # Devolvemos el resultado.\n",
        "\n",
        "  return resultado\n",
        "\n",
        "# Solicitamos al usuario que ingrese una cadena de texto.\n",
        "\n",
        "string = input(\"Ingresa un cadena de texto: \")\n",
        "\n",
        "# Solicitamos al usuario que ingrese el valor para n.\n",
        "\n",
        "n = int(input(\"Ingresa el valor para n: \"))\n",
        "\n",
        "# Imprimimos el resultado de la función.\n",
        "\n",
        "print(replica_subcadena(string, n))"
      ]
    }
  ]
}