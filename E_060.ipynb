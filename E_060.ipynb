{
  "nbformat": 4,
  "nbformat_minor": 0,
  "metadata": {
    "colab": {
      "provenance": [],
      "authorship_tag": "ABX9TyPEKBmAMwZT0NwgTIL+bElH",
      "include_colab_link": true
    },
    "kernelspec": {
      "name": "python3",
      "display_name": "Python 3"
    },
    "language_info": {
      "name": "python"
    }
  },
  "cells": [
    {
      "cell_type": "markdown",
      "metadata": {
        "id": "view-in-github",
        "colab_type": "text"
      },
      "source": [
        "<a href=\"https://colab.research.google.com/github/carolina-crisos/Code-100/blob/main/E_060.ipynb\" target=\"_parent\"><img src=\"https://colab.research.google.com/assets/colab-badge.svg\" alt=\"Open In Colab\"/></a>"
      ]
    },
    {
      "cell_type": "markdown",
      "source": [
        "**Elaborar un programa que determine cuántos números son de  ARMSTRONG, desde un \"n\" hasta un \"m\". Un número es  ARMSTRONG si la suma de los dígitos elevados a la cantidad de  dígitos que lo componen es igual al número.**\n",
        "\n",
        "**Ejemplo 1^3 + 5^3 + 3^3 = 153 nótese que se eleva al \"cubo\" porque 153 tiene 3 dígitos. Si fuera  1548 sería a la \"cuarta\".**"
      ],
      "metadata": {
        "id": "Tpe_9EY37de_"
      }
    },
    {
      "cell_type": "code",
      "execution_count": null,
      "metadata": {
        "colab": {
          "base_uri": "https://localhost:8080/"
        },
        "id": "nYNOJpla6evu",
        "outputId": "820da0b3-cfd0-4dee-988a-ad5c94ddc53a"
      },
      "outputs": [
        {
          "output_type": "stream",
          "name": "stdout",
          "text": [
            "Ingrese el valor inicial del rango: 100\n",
            "Ingrese el valor final del rango: 500\n",
            "\n",
            "Números de Armstrong ✅\n",
            "153\n",
            "370\n",
            "371\n",
            "407\n",
            "\n",
            "Total en el rango de 100 a 500: 4\n"
          ]
        }
      ],
      "source": [
        "def es_armstrong(numero):\n",
        "    # Convierte el número a una cadena para iterar sobre sus dígitos\n",
        "    num = str(numero)\n",
        "    x = 0\n",
        "\n",
        "    # Itera sobre cada dígito en el número\n",
        "    for digito in num:\n",
        "      # Convierte el digito a entero para el calculo\n",
        "        digito = int(digito)\n",
        "        # Calcula la suma de los dígitos elevados a la potencia del número de dígitos\n",
        "        x += digito ** len(num)\n",
        "\n",
        "    # Comprueba si la suma es igual al número original\n",
        "    return x == numero\n",
        "\n",
        "\n",
        "# Solicita al usuario que ingrese el rango\n",
        "n = int(input(\"Ingrese el valor inicial del rango: \"))\n",
        "m = int(input(\"Ingrese el valor final del rango: \"))\n",
        "contador = 0\n",
        "\n",
        "print('\\nNúmeros de Armstrong ✅')\n",
        "\n",
        "# Itera sobre el rango especificado por el usuario\n",
        "for numero in range(n, m + 1):\n",
        "    if es_armstrong(numero):\n",
        "        # Imprime el número si es un número de Armstrong y actualiza el contador\n",
        "        print(numero)\n",
        "        contador += 1\n",
        "\n",
        "# Imprime el total de números de Armstrong encontrados en el rango\n",
        "print(f'\\nTotal en el rango de {n} a {m}: {contador}')\n",
        "\n"
      ]
    }
  ]
}