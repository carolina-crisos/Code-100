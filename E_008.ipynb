{
  "nbformat": 4,
  "nbformat_minor": 0,
  "metadata": {
    "colab": {
      "provenance": [],
      "authorship_tag": "ABX9TyNZhFNLpTTfDEQqXGKSraPA",
      "include_colab_link": true
    },
    "kernelspec": {
      "name": "python3",
      "display_name": "Python 3"
    },
    "language_info": {
      "name": "python"
    }
  },
  "cells": [
    {
      "cell_type": "markdown",
      "metadata": {
        "id": "view-in-github",
        "colab_type": "text"
      },
      "source": [
        "<a href=\"https://colab.research.google.com/github/carolina-crisos/Code-100/blob/main/E_008.ipynb\" target=\"_parent\"><img src=\"https://colab.research.google.com/assets/colab-badge.svg\" alt=\"Open In Colab\"/></a>"
      ]
    },
    {
      "cell_type": "markdown",
      "source": [
        "**Solicitar al usuario un numero n y calcular los elementos integrados por el mismo: n + nn + nnn**"
      ],
      "metadata": {
        "id": "o-yvwzJLwXyg"
      }
    },
    {
      "cell_type": "code",
      "execution_count": null,
      "metadata": {
        "colab": {
          "base_uri": "https://localhost:8080/"
        },
        "id": "M7gsRG88wSQe",
        "outputId": "bb581571-f794-431e-d651-3a0ebb0ee068"
      },
      "outputs": [
        {
          "output_type": "stream",
          "name": "stdout",
          "text": [
            "Ingresa un numero entero: 7\n",
            "7 + 77 + 777 = \n",
            "861\n"
          ]
        }
      ],
      "source": [
        "# n = 3 => 3 + 33 + 333 = 369\n",
        "\n",
        "# Solicitamos al usuario el numero\n",
        "n = input(\"Ingresa un numero entero: \")\n",
        "\n",
        "# Convertimos la entrada de str a int\n",
        "# Brindamos formato a dos variables mas\n",
        "\n",
        "n = int(n)\n",
        "nn = int(f'{n}{n}')\n",
        "nnn = int(f'{n}{n}{n}')\n",
        "\n",
        "# Mostrar en pantalla el proceso\n",
        "suma = n + nn + nnn\n",
        "print(f'{n} + {nn} + {nnn} = ')\n",
        "\n",
        "# Impresion de resultado\n",
        "print(suma)\n"
      ]
    }
  ]
}