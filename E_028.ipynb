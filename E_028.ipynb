{
  "nbformat": 4,
  "nbformat_minor": 0,
  "metadata": {
    "colab": {
      "provenance": [],
      "authorship_tag": "ABX9TyPa4Ic0/CorIW+vynQYE7JF",
      "include_colab_link": true
    },
    "kernelspec": {
      "name": "python3",
      "display_name": "Python 3"
    },
    "language_info": {
      "name": "python"
    }
  },
  "cells": [
    {
      "cell_type": "markdown",
      "metadata": {
        "id": "view-in-github",
        "colab_type": "text"
      },
      "source": [
        "<a href=\"https://colab.research.google.com/github/carolina-crisos/Code-100/blob/main/E_028.ipynb\" target=\"_parent\"><img src=\"https://colab.research.google.com/assets/colab-badge.svg\" alt=\"Open In Colab\"/></a>"
      ]
    },
    {
      "cell_type": "markdown",
      "source": [
        "**Calcular el máximo máximo común divisor (mcd) de dos números**"
      ],
      "metadata": {
        "id": "kTiS2U59D4t5"
      }
    },
    {
      "cell_type": "code",
      "execution_count": null,
      "metadata": {
        "colab": {
          "base_uri": "https://localhost:8080/"
        },
        "id": "uVSSWtcSD0gY",
        "outputId": "629dbac4-b7bd-435d-f8d6-c0cb45c3eb62"
      },
      "outputs": [
        {
          "output_type": "stream",
          "name": "stdout",
          "text": [
            "12\n",
            "12\n"
          ]
        }
      ],
      "source": [
        "# Definimos una función\n",
        "def mcd(a, b):\n",
        "    # Determinar el número más pequeño entre a y b\n",
        "    if a > b:\n",
        "        menor = b\n",
        "    else:\n",
        "        menor = a\n",
        "\n",
        "    # Inicializamos una variable para almacenar el MCD\n",
        "    mcd = None\n",
        "\n",
        "    # Iterar desde 1 hasta el número más pequeño entre a y b\n",
        "    for i in range(1, menor + 1):\n",
        "\n",
        "        # Verifica si tanto a como b son divisibles por i\n",
        "        if (a % i == 0) and (b % i == 0):\n",
        "            # Si son divisibles, actualizar el valor de mcd con el divisor común\n",
        "            mcd = i\n",
        "\n",
        "    # Devolver el MCD calculado\n",
        "    return mcd\n",
        "\n",
        "print(mcd(72, 60))\n",
        "\n",
        "\n",
        "# Alternativa al ejercicio\n",
        "\n",
        "# Importar biblioteca\n",
        "import math\n",
        "\n",
        "# Calcular con función gcd\n",
        "mcd_alternativa = math.gcd(72, 60)\n",
        "print(mcd_alternativa)\n"
      ]
    }
  ]
}