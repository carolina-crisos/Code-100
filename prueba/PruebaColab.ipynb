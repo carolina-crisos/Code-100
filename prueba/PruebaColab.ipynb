{
  "nbformat": 4,
  "nbformat_minor": 0,
  "metadata": {
    "colab": {
      "provenance": [],
      "authorship_tag": "ABX9TyOpOrEM8vNQbVeuY3EoonTC",
      "include_colab_link": true
    },
    "kernelspec": {
      "name": "python3",
      "display_name": "Python 3"
    },
    "language_info": {
      "name": "python"
    }
  },
  "cells": [
    {
      "cell_type": "markdown",
      "metadata": {
        "id": "view-in-github",
        "colab_type": "text"
      },
      "source": [
        "<a href=\"https://colab.research.google.com/github/carolina-crisos/Code-100/blob/main/prueba/PruebaColab.ipynb\" target=\"_parent\"><img src=\"https://colab.research.google.com/assets/colab-badge.svg\" alt=\"Open In Colab\"/></a>"
      ]
    },
    {
      "cell_type": "code",
      "source": [
        "menu = '''\n",
        "    Operaciones basicas.\n",
        "    1: Suma\n",
        "    2: Resta\n",
        "    3: Multiplicacion.\n",
        "    4: Salir\n",
        "'''\n",
        "\n",
        "print(menu)\n",
        "opcion = int(input(\"Ingresa una opcion del menu: \"))\n",
        "\n",
        "while True:\n",
        "    if opcion:\n",
        "        match opcion:\n",
        "            case 1:\n",
        "                print(f'Suma: 2 + 5 = {2+5}')\n",
        "                opcion = int(input(\"Ingresa una opcion del menu: \"))\n",
        "            case 2:\n",
        "                print(f'Resta: 2 - 5 = {2-5}')\n",
        "                opcion = int(input(\"Ingresa una opcion del menu: \"))\n",
        "            case 3:\n",
        "                print(f'Multiplicacion: 2 x 5 = {2*5}')\n",
        "                opcion = int(input(\"Ingresa una opcion del menu: \"))\n",
        "            case 4:\n",
        "                print(\"Fin del programa\")\n",
        "                break\n",
        "            case _ :\n",
        "                print('Ninguna coincidencia.')\n",
        "                opcion = int(input(\"Ingresa una opcion del menu: \"))"
      ],
      "metadata": {
        "colab": {
          "base_uri": "https://localhost:8080/"
        },
        "id": "drxWOwYwlLnp",
        "outputId": "0e6b6e2f-1be4-4cfe-b092-fc39209c4b6e"
      },
      "execution_count": null,
      "outputs": [
        {
          "output_type": "stream",
          "name": "stdout",
          "text": [
            "\n",
            "    Operaciones basicas.\n",
            "    1: Suma\n",
            "    2: Resta\n",
            "    3: Multiplicacion.\n",
            "    4: Salir\n",
            "\n",
            "Ingresa una opcion del menu: 1\n",
            "Suma: 2 + 5 = 7\n",
            "Ingresa una opcion del menu: 2\n",
            "Resta: 2 - 5 = -3\n",
            "Ingresa una opcion del menu: 3\n",
            "Multiplicacion: 2 x 5 = 10\n",
            "Ingresa una opcion del menu: 5\n",
            "Ninguna coincidencia.\n",
            "Ingresa una opcion del menu: 4\n",
            "Fin del programa\n"
          ]
        }
      ]
    }
  ]
}