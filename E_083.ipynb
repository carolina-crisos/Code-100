{
  "nbformat": 4,
  "nbformat_minor": 0,
  "metadata": {
    "colab": {
      "provenance": [],
      "authorship_tag": "ABX9TyNx5Q7XUvzkUA/R9wus15KL",
      "include_colab_link": true
    },
    "kernelspec": {
      "name": "python3",
      "display_name": "Python 3"
    },
    "language_info": {
      "name": "python"
    }
  },
  "cells": [
    {
      "cell_type": "markdown",
      "metadata": {
        "id": "view-in-github",
        "colab_type": "text"
      },
      "source": [
        "<a href=\"https://colab.research.google.com/github/carolina-crisos/Code-100/blob/main/E_083.ipynb\" target=\"_parent\"><img src=\"https://colab.research.google.com/assets/colab-badge.svg\" alt=\"Open In Colab\"/></a>"
      ]
    },
    {
      "cell_type": "markdown",
      "source": [
        "**Analizador de Texto**"
      ],
      "metadata": {
        "id": "6Z8KhbGyePLu"
      }
    },
    {
      "cell_type": "code",
      "execution_count": null,
      "metadata": {
        "colab": {
          "base_uri": "https://localhost:8080/"
        },
        "id": "pTAE7QtOUUJh",
        "outputId": "e5f11f8c-f342-4738-f91b-f6dfd76b8107"
      },
      "outputs": [
        {
          "output_type": "stream",
          "name": "stdout",
          "text": [
            "Ingresa un texto: ¡Hola! ¿Cómo estás? Python es mi lenguaje de programación favorito. Puedo hacer muchas cosas con Python.\n",
            "Número de palabras: 16\n",
            "Longitudes de palabras: [5, 5, 5, 6, 2, 2, 8, 2, 12, 8, 5, 5, 6, 5, 3, 6]\n",
            "Longitud promedio de palabras: 5.31\n",
            "Palabra más larga: programación\n",
            "Palabra más corta: es\n",
            "Frecuencias de palabras: {'¡hola': 1, '¿cómo': 1, 'estás': 1, 'python': 2, 'es': 1, 'mi': 1, 'lenguaje': 1, 'de': 1, 'programación': 1, 'favorito': 1, 'puedo': 1, 'hacer': 1, 'muchas': 1, 'cosas': 1, 'con': 1}\n"
          ]
        }
      ],
      "source": [
        "import string\n",
        "from collections import Counter\n",
        "\n",
        "def limpiar_texto(texto):\n",
        "    # Eliminar puntuación\n",
        "    texto = texto.translate(str.maketrans('', '', string.punctuation))\n",
        "    return texto\n",
        "\n",
        "def analizar_texto(texto):\n",
        "    palabras = texto.split()\n",
        "\n",
        "    # Número total de palabras en el texto\n",
        "    num_palabras = len(palabras)\n",
        "\n",
        "    # Longitudes de cada palabra en el texto\n",
        "    longitudes = [len(palabra) for palabra in palabras]\n",
        "\n",
        "    # Longitud promedio de las palabras en el texto\n",
        "    longitud_promedio = sum(longitudes) / num_palabras\n",
        "\n",
        "    # Palabra más larga en el texto\n",
        "    palabra_mas_larga = max(palabras, key=len)\n",
        "\n",
        "    # Palabra más corta en el texto\n",
        "    palabra_mas_corta = min(palabras, key=len)\n",
        "\n",
        "    # Frecuencia de cada palabra en el texto\n",
        "    frecuencias = Counter(palabras)\n",
        "\n",
        "    return num_palabras, longitudes, round(longitud_promedio, 2), palabra_mas_larga, palabra_mas_corta, frecuencias\n",
        "\n",
        "# Solicita al usuario ingresar un texto y convertir en minúsculas\n",
        "texto_usuario = input('Ingresa un texto: ').lower()\n",
        "\n",
        "# Limpia el texto eliminando puntuación y convirtiéndolo a minúsculas\n",
        "texto_usuario_limpio = limpiar_texto(texto_usuario)\n",
        "\n",
        "# Realiza el análisis del texto\n",
        "resultados = analizar_texto(texto_usuario_limpio)\n",
        "\n",
        "# Imprime los resultados del análisis\n",
        "print(\"Número de palabras:\", resultados[0])\n",
        "print(\"Longitudes de palabras:\", resultados[1])\n",
        "print(\"Longitud promedio de palabras:\", resultados[2])\n",
        "print(\"Palabra más larga:\", resultados[3])\n",
        "print(\"Palabra más corta:\", resultados[4])\n",
        "print(\"Frecuencias de palabras:\", dict(resultados[5]))\n",
        "\n"
      ]
    }
  ]
}