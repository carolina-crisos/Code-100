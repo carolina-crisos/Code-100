{
  "nbformat": 4,
  "nbformat_minor": 0,
  "metadata": {
    "colab": {
      "provenance": [],
      "authorship_tag": "ABX9TyMpYpWJO6sbjLuUhJoJrhQN",
      "include_colab_link": true
    },
    "kernelspec": {
      "name": "python3",
      "display_name": "Python 3"
    },
    "language_info": {
      "name": "python"
    }
  },
  "cells": [
    {
      "cell_type": "markdown",
      "metadata": {
        "id": "view-in-github",
        "colab_type": "text"
      },
      "source": [
        "<a href=\"https://colab.research.google.com/github/carolina-crisos/Code-100/blob/main/E_026.ipynb\" target=\"_parent\"><img src=\"https://colab.research.google.com/assets/colab-badge.svg\" alt=\"Open In Colab\"/></a>"
      ]
    },
    {
      "cell_type": "markdown",
      "source": [
        "**Calcular la diferencia de conjuntos con colores**"
      ],
      "metadata": {
        "id": "wuswM0WKk-Ef"
      }
    },
    {
      "cell_type": "code",
      "execution_count": null,
      "metadata": {
        "id": "WaOf0q07k6t4",
        "colab": {
          "base_uri": "https://localhost:8080/"
        },
        "outputId": "9d535fb9-be5a-481b-fa7f-1430780ac822"
      },
      "outputs": [
        {
          "output_type": "stream",
          "name": "stdout",
          "text": [
            "Colores en lista 1 pero no lista 2: {'Negro', 'Rojo'}\n",
            "Colores en lista 2 pero no en lista 1: {'Amarillo', 'Gris', 'Azul'}\n"
          ]
        }
      ],
      "source": [
        "# Definimos dos listas de colores\n",
        "colores_lista_1 = ['Negro', 'Rojo', 'Verde', 'Blanco']\n",
        "colores_lista_2 = ['Blanco', 'Azul', 'Verde', 'Gris', 'Amarillo', 'Verde']\n",
        "\n",
        "# Calculamos la diferencia convirtiendo en conjunto\n",
        "diferencia_1 = set(colores_lista_1).difference(colores_lista_2)\n",
        "\n",
        "# Imprimir la diferencia de conjuntos:\n",
        "print(\"Colores en lista 1 pero no lista 2:\", diferencia_1)\n",
        "\n",
        "diferencia_2 = set(colores_lista_2).difference(colores_lista_1)\n",
        "print(\"Colores en lista 2 pero no en lista 1:\", diferencia_2)\n",
        "\n"
      ]
    }
  ]
}