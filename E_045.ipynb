{
  "nbformat": 4,
  "nbformat_minor": 0,
  "metadata": {
    "colab": {
      "provenance": [],
      "authorship_tag": "ABX9TyPkCHKAGJoYwNlFCSnOY4mE",
      "include_colab_link": true
    },
    "kernelspec": {
      "name": "python3",
      "display_name": "Python 3"
    },
    "language_info": {
      "name": "python"
    }
  },
  "cells": [
    {
      "cell_type": "markdown",
      "metadata": {
        "id": "view-in-github",
        "colab_type": "text"
      },
      "source": [
        "<a href=\"https://colab.research.google.com/github/carolina-crisos/Code-100/blob/main/E_045.ipynb\" target=\"_parent\"><img src=\"https://colab.research.google.com/assets/colab-badge.svg\" alt=\"Open In Colab\"/></a>"
      ]
    },
    {
      "cell_type": "markdown",
      "source": [
        "**Escribir un programa que cree un diccionario vacío y lo vaya llenado con información sobre una persona (por ejemplo nombre, edad, sexo, teléfono, correo electrónico, etc.) que se le pida al usuario. Cada vez que se añada un nuevo dato debe imprimirse el contenido del diccionario.**"
      ],
      "metadata": {
        "id": "tHr_lrQHN7yw"
      }
    },
    {
      "cell_type": "code",
      "execution_count": null,
      "metadata": {
        "colab": {
          "base_uri": "https://localhost:8080/"
        },
        "id": "wCBVj0o1LhSf",
        "outputId": "7b673a94-6fb7-4a52-accf-30ed77a652e2"
      },
      "outputs": [
        {
          "output_type": "stream",
          "name": "stdout",
          "text": [
            "Enter your name: Carolina\n",
            "Enter your age: 24\n",
            "Enter your gender: fem\n",
            "Enter your phone number: 55364285\n",
            "Enter your email: palmillas@gmail.com\n",
            "{'Name': 'Carolina', 'Age': 24, 'Gender': 'fem', 'Tel': '55364285', 'Email': 'palmillas@gmail.com'}\n"
          ]
        }
      ],
      "source": [
        "def get_user(prompt):\n",
        "    \"\"\"Función para obtener la entrada del usuario.\"\"\"\n",
        "    user_input = input(prompt)  # Solicita la entrada del usuario con el mensaje proporcionado\n",
        "    return user_input  # Devuelve la entrada del usuario\n",
        "\n",
        "def get_age():\n",
        "    \"\"\"Función para obtener la edad del usuario.\"\"\"\n",
        "    while True:\n",
        "        try:\n",
        "            age = int(get_user('Enter your age: '))  # Intenta convertir la entrada del usuario a un número entero\n",
        "            if age >= 0:\n",
        "                return age  # Devuelve la edad si es un número entero no negativo\n",
        "            else:\n",
        "                print(\"Age cannot be negative. Please enter a valid age.\")  # Muestra un mensaje si la edad es negativa\n",
        "        except ValueError:\n",
        "            print(\"Invalid input. Please enter a valid age.\")  # Muestra un mensaje si la entrada no es un número\n",
        "\n",
        "# Solicitar información al usuario\n",
        "information = {}\n",
        "# Solicita y almacena, información del usuario\n",
        "information['Name'] = get_user('Enter your name: ')\n",
        "information['Age'] = get_age()\n",
        "information['Gender'] = get_user('Enter your gender: ')\n",
        "information['Tel'] = get_user('Enter your phone number: ')\n",
        "information['Email'] = get_user('Enter your email: ')\n",
        "\n",
        "# Mostrar la información recopilada\n",
        "print(information)\n",
        "\n"
      ]
    }
  ]
}