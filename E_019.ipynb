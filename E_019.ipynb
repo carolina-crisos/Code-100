{
  "nbformat": 4,
  "nbformat_minor": 0,
  "metadata": {
    "colab": {
      "provenance": [],
      "authorship_tag": "ABX9TyPTLn+CuDz+Nq8v0q4n6o7c",
      "include_colab_link": true
    },
    "kernelspec": {
      "name": "python3",
      "display_name": "Python 3"
    },
    "language_info": {
      "name": "python"
    }
  },
  "cells": [
    {
      "cell_type": "markdown",
      "metadata": {
        "id": "view-in-github",
        "colab_type": "text"
      },
      "source": [
        "<a href=\"https://colab.research.google.com/github/carolina-crisos/Code-100/blob/main/E_019.ipynb\" target=\"_parent\"><img src=\"https://colab.research.google.com/assets/colab-badge.svg\" alt=\"Open In Colab\"/></a>"
      ]
    },
    {
      "cell_type": "markdown",
      "source": [
        "**Generar los n primeros numeros pares positivos**"
      ],
      "metadata": {
        "id": "0Gt3OMOdTpkb"
      }
    },
    {
      "cell_type": "code",
      "execution_count": null,
      "metadata": {
        "colab": {
          "base_uri": "https://localhost:8080/"
        },
        "id": "2_aZloTkTmW_",
        "outputId": "577b9bee-8aa7-4f3f-c0a1-022a1a7f64db"
      },
      "outputs": [
        {
          "output_type": "stream",
          "name": "stdout",
          "text": [
            "Ingresa la cantidad de numeros pares positivos a generar: 10\n",
            "[2, 4, 6, 8, 10, 12, 14, 16, 18, 20]\n",
            "Cantidad de pares: 10\n"
          ]
        }
      ],
      "source": [
        "# Generar los n primeros numeros pares positivos\n",
        "# Analisis, un numero es par sí:  n % 2 == 0\n",
        "\n",
        "def numeros_pares(n):\n",
        "  pares =[]\n",
        "  contador = 0\n",
        "  numero = 0\n",
        "\n",
        "  while contador < n:\n",
        "    if numero % 2 == 0 and numero > 0:\n",
        "      pares.append(numero)\n",
        "      contador += 1\n",
        "    numero += 1\n",
        "\n",
        "  return pares\n",
        "\n",
        "n = int(input(\"Ingresa la cantidad de numeros pares positivos a generar: \"))\n",
        "if n > 0:\n",
        "  print(numeros_pares(n))\n",
        "  print(f'Cantidad de pares: {n}')"
      ]
    }
  ]
}