{
  "nbformat": 4,
  "nbformat_minor": 0,
  "metadata": {
    "colab": {
      "provenance": [],
      "authorship_tag": "ABX9TyPRn7LjVu7f1LPDoeL7FlyT",
      "include_colab_link": true
    },
    "kernelspec": {
      "name": "python3",
      "display_name": "Python 3"
    },
    "language_info": {
      "name": "python"
    }
  },
  "cells": [
    {
      "cell_type": "markdown",
      "metadata": {
        "id": "view-in-github",
        "colab_type": "text"
      },
      "source": [
        "<a href=\"https://colab.research.google.com/github/carolina-crisos/Code-100/blob/main/E_058.ipynb\" target=\"_parent\"><img src=\"https://colab.research.google.com/assets/colab-badge.svg\" alt=\"Open In Colab\"/></a>"
      ]
    },
    {
      "cell_type": "markdown",
      "source": [
        "**Piedra, Papel y tijera**"
      ],
      "metadata": {
        "id": "TS0YgizS58DI"
      }
    },
    {
      "cell_type": "code",
      "execution_count": null,
      "metadata": {
        "colab": {
          "base_uri": "https://localhost:8080/"
        },
        "id": "NKMYt3ao4i8J",
        "outputId": "22f066fa-1aea-4f08-9a16-8fd263b35f68"
      },
      "outputs": [
        {
          "output_type": "stream",
          "name": "stdout",
          "text": [
            "1 Piedra\n",
            "2 Papel\n",
            "3 Tijera\n",
            "\n",
            "Player: 1\n",
            "PC: 2\n",
            "PC +1pto. Papel vence a Piedra.\n",
            "\n",
            "Player: 1\n",
            "PC: 2\n",
            "PC +1pto. Papel vence a Piedra.\n",
            "\n",
            "Player: 2\n",
            "PC: 3\n",
            "PC +1pto. Tijera vence a Papel.\n",
            "\n",
            "Player: 1\n",
            "PC: 1\n",
            "Empate.\n",
            "\n",
            "Player: 3\n",
            "PC: 1\n",
            "PC +1pto. Piedra vence a Tijera.\n",
            "\n",
            "Player: 3\n",
            "PC: 2\n",
            "Player +1pto. Tijera vence a Papel.\n",
            "\n",
            "Player: 1\n",
            "PC: 3\n",
            "Player +1pto. Piedra vence a Tijera.\n",
            "\n",
            "En 7 rondas: PC ganó 4, Player ganó 2.\n",
            "Ganador: PC.\n"
          ]
        }
      ],
      "source": [
        "# Importa el módulo random para generar números aleatorios\n",
        "import random\n",
        "\n",
        "# Define las opciones del juego y las imprime\n",
        "game = \"\"\"1 Piedra\n",
        "2 Papel\n",
        "3 Tijera\n",
        "\"\"\"\n",
        "print(game)\n",
        "\n",
        "# Número de rondas del juego\n",
        "rondas = 7\n",
        "\n",
        "# Inicializa contadores de victorias para la PC y el jugador\n",
        "win_pc = 0\n",
        "win_player = 0\n",
        "\n",
        "# Bucle principal que representa las rondas del juego\n",
        "for i in range(rondas):\n",
        "  # Genera la elección aleatoria de la PC (1, 2 o 3)\n",
        "  pc = random.randint(1, 3)\n",
        "\n",
        "  # Solicita la elección del jugador\n",
        "  player = int(input('Player: '))\n",
        "\n",
        "  # Imprime la elección de la PC\n",
        "  print(f'PC: {pc}')\n",
        "\n",
        "  # Compara las elecciones y determina el ganador de la ronda\n",
        "  if pc == 1 and player == 2:\n",
        "    print('Player +1pto. Papel vence a Piedra.\\n')\n",
        "    win_player += 1\n",
        "  elif pc == 1 and player == 3:\n",
        "    print('PC +1pto. Piedra vence a Tijera.\\n')\n",
        "    win_pc += 1\n",
        "  elif pc == 2 and player == 1:\n",
        "    print('PC +1pto. Papel vence a Piedra.\\n')\n",
        "    win_pc += 1\n",
        "  elif pc == 2 and player == 3:\n",
        "    print('Player +1pto. Tijera vence a Papel.\\n')\n",
        "    win_player += 1\n",
        "  elif pc == 3 and player == 2:\n",
        "    print('PC +1pto. Tijera vence a Papel.\\n')\n",
        "    win_pc += 1\n",
        "  elif pc == 3 and player == 1:\n",
        "    print('Player +1pto. Piedra vence a Tijera.\\n')\n",
        "    win_player += 1\n",
        "  else:\n",
        "    print('Empate.\\n')\n",
        "\n",
        "# Imprime el resultado final después de todas las rondas\n",
        "print(f'En {rondas} rondas: PC ganó {win_pc}, Player ganó {win_player}.')\n",
        "\n",
        "# Determina y muestra al ganador del juego o si hay un empate\n",
        "if win_pc > win_player:\n",
        "  print('Ganador: PC.')\n",
        "elif win_pc < win_player:\n",
        "  print('Ganador: Player.')\n",
        "else:\n",
        "  print('Empate.')"
      ]
    }
  ]
}