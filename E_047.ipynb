{
  "nbformat": 4,
  "nbformat_minor": 0,
  "metadata": {
    "colab": {
      "provenance": [],
      "authorship_tag": "ABX9TyOXajIBcWxZV6Rf1TjHS2tm",
      "include_colab_link": true
    },
    "kernelspec": {
      "name": "python3",
      "display_name": "Python 3"
    },
    "language_info": {
      "name": "python"
    }
  },
  "cells": [
    {
      "cell_type": "markdown",
      "metadata": {
        "id": "view-in-github",
        "colab_type": "text"
      },
      "source": [
        "<a href=\"https://colab.research.google.com/github/carolina-crisos/Code-100/blob/main/E_047.ipynb\" target=\"_parent\"><img src=\"https://colab.research.google.com/assets/colab-badge.svg\" alt=\"Open In Colab\"/></a>"
      ]
    },
    {
      "cell_type": "markdown",
      "source": [
        "Crea un programa que sea capaz de generar e imprimir todas las permutaciones disponibles formadas por las letras de una palabra.\n",
        "- Las palabras generadas no tienen por qué existir.\n",
        "- Deben usarse todas las letras en cada permutación.\n",
        "- Ejemplo: sol, slo, ols, osl, los, lso"
      ],
      "metadata": {
        "id": "higRyx8NOjL3"
      }
    },
    {
      "cell_type": "code",
      "execution_count": null,
      "metadata": {
        "id": "KIjTpefJNfwB",
        "colab": {
          "base_uri": "https://localhost:8080/"
        },
        "outputId": "82cd2976-3d99-4a95-ec56-726590b918eb"
      },
      "outputs": [
        {
          "output_type": "stream",
          "name": "stdout",
          "text": [
            "Enter a word: eco\n",
            "[('e', 'c', 'o'), ('e', 'o', 'c'), ('c', 'e', 'o'), ('c', 'o', 'e'), ('o', 'e', 'c'), ('o', 'c', 'e')]\n"
          ]
        }
      ],
      "source": [
        "import itertools\n",
        "\n",
        "# Solicitar al usuario que ingrese una palabra hasta que se ingrese una palabra válida\n",
        "while True:\n",
        "    word = input('Enter a word: ')\n",
        "    if word.isalpha():\n",
        "        break\n",
        "    else:\n",
        "        print(\"Please enter a valid word.\")\n",
        "\n",
        "# Inicializar una lista vacía\n",
        "word_in_list = []\n",
        "\n",
        "# Iterar sobre cada caracter de la palabra e insertarlo en la lista\n",
        "for char in word:\n",
        "    word_in_list.append(char)\n",
        "\n",
        "# Generar todas las permutaciones de los caracteres en la lista\n",
        "permutations = list(itertools.permutations(word_in_list))\n",
        "\n",
        "# Imprimir las permutaciones resultantes\n",
        "print(permutations)\n",
        "\n"
      ]
    }
  ]
}