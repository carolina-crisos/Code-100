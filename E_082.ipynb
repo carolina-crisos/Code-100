{
  "nbformat": 4,
  "nbformat_minor": 0,
  "metadata": {
    "colab": {
      "provenance": [],
      "authorship_tag": "ABX9TyO2mxvhBsTn0fAldHWsjtSo",
      "include_colab_link": true
    },
    "kernelspec": {
      "name": "python3",
      "display_name": "Python 3"
    },
    "language_info": {
      "name": "python"
    }
  },
  "cells": [
    {
      "cell_type": "markdown",
      "metadata": {
        "id": "view-in-github",
        "colab_type": "text"
      },
      "source": [
        "<a href=\"https://colab.research.google.com/github/carolina-crisos/Code-100/blob/main/E_082.ipynb\" target=\"_parent\"><img src=\"https://colab.research.google.com/assets/colab-badge.svg\" alt=\"Open In Colab\"/></a>"
      ]
    },
    {
      "cell_type": "markdown",
      "source": [
        "**Gestor de Tareas Simple**"
      ],
      "metadata": {
        "id": "rUlc5OkENoRn"
      }
    },
    {
      "cell_type": "code",
      "source": [
        "tareas = {}  # Diccionario para almacenar títulos de tareas y sus descripciones\n",
        "\n",
        "def agregar_tarea():\n",
        "    \"\"\"\n",
        "    Función para agregar una nueva tarea al diccionario 'tareas'.\n",
        "    El usuario ingresa el título y la descripción de la tarea.\n",
        "    \"\"\"\n",
        "    titulo = input('\\n📝 Ingresa el título de la tarea: ').capitalize()\n",
        "    tarea = input('📝 Ingresa nueva tarea: ')\n",
        "    tareas[titulo] = tarea\n",
        "    print('✅ Tarea agregada con éxito.\\n')\n",
        "\n",
        "def mostrar_tareas():\n",
        "    \"\"\"\n",
        "    Función para mostrar todas las tareas almacenadas en el diccionario 'tareas'.\n",
        "    Si no hay tareas, imprime un mensaje indicando la ausencia de tareas.\n",
        "    \"\"\"\n",
        "    if tareas:\n",
        "        print('\\nLista de tareas:')\n",
        "        for i, (clave, valor) in enumerate(tareas.items(), start=1):\n",
        "            print(f'◻️{i}. {clave}: {valor}.')\n",
        "    else:\n",
        "        print('\\n ✖️ No hay tareas en la lista.')\n",
        "\n",
        "def eliminar_tarea():\n",
        "    \"\"\"\n",
        "    Función para eliminar una tarea del diccionario 'tareas'.\n",
        "    El usuario ingresa el título de la tarea que desea eliminar.\n",
        "    \"\"\"\n",
        "    titulo = input('\\nIngresa el título de la tarea que deseas eliminar: ').capitalize()\n",
        "    if titulo in tareas:\n",
        "        tareas.pop(titulo, None)\n",
        "        print('☑️ Tarea eliminada con éxito.')\n",
        "    else:\n",
        "        print('La tarea no existe en la lista.💥')\n",
        "\n",
        "def salir():\n",
        "    \"\"\"\n",
        "    Función para finalizar el programa.\n",
        "    Imprime un mensaje de despedida y retorna True para indicar la finalización.\n",
        "    \"\"\"\n",
        "    print('\\nFin del programa.')\n",
        "    return True\n",
        "\n",
        "def menu():\n",
        "    \"\"\"\n",
        "    Función principal que implementa un menú interactivo para el usuario.\n",
        "    Permite al usuario agregar, mostrar, eliminar tareas o salir del programa.\n",
        "    \"\"\"\n",
        "    while True:\n",
        "        print('\\n➖➖ Gestor de Tareas ➖➖')\n",
        "        print('1. Agregar Tarea')\n",
        "        print('2. Mostrar Tareas')\n",
        "        print('3. Eliminar Tarea')\n",
        "        print('4. Salir')\n",
        "\n",
        "        opcion = input('Seleccione una opción (1-4): ')\n",
        "\n",
        "        acciones = {\n",
        "            '1': agregar_tarea,\n",
        "            '2': mostrar_tareas,\n",
        "            '3': eliminar_tarea,\n",
        "            '4': salir\n",
        "        }\n",
        "\n",
        "        if opcion in acciones:\n",
        "            if acciones[opcion]():\n",
        "              break\n",
        "        else:\n",
        "            print('Opción no válida. Inténtalo de nuevo.')\n",
        "\n",
        "if __name__ == '__main__':\n",
        "    menu()\n",
        "\n",
        "\n",
        "\n",
        "\n"
      ],
      "metadata": {
        "id": "6PD8n9GgPbsB"
      },
      "execution_count": null,
      "outputs": []
    }
  ]
}