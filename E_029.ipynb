{
  "nbformat": 4,
  "nbformat_minor": 0,
  "metadata": {
    "colab": {
      "provenance": [],
      "authorship_tag": "ABX9TyOUWqbkPzIO+nYvZv8W7Z93",
      "include_colab_link": true
    },
    "kernelspec": {
      "name": "python3",
      "display_name": "Python 3"
    },
    "language_info": {
      "name": "python"
    }
  },
  "cells": [
    {
      "cell_type": "markdown",
      "metadata": {
        "id": "view-in-github",
        "colab_type": "text"
      },
      "source": [
        "<a href=\"https://colab.research.google.com/github/carolina-crisos/Code-100/blob/main/E_029.ipynb\" target=\"_parent\"><img src=\"https://colab.research.google.com/assets/colab-badge.svg\" alt=\"Open In Colab\"/></a>"
      ]
    },
    {
      "cell_type": "markdown",
      "source": [
        "**Calcular el mínimo común múltiplo (mcm) de dos números**"
      ],
      "metadata": {
        "id": "ZUQ9E5ioHwa2"
      }
    },
    {
      "cell_type": "code",
      "execution_count": null,
      "metadata": {
        "colab": {
          "base_uri": "https://localhost:8080/"
        },
        "id": "vXI20fqvHthL",
        "outputId": "379eec6b-3d29-4f9e-a67b-2fad333ec972"
      },
      "outputs": [
        {
          "output_type": "stream",
          "name": "stdout",
          "text": [
            "255\n"
          ]
        }
      ],
      "source": [
        "# Definimos una función\n",
        "def mcm(a, b):\n",
        "    # Inicializamos una variable c con el valor del número más grande entre a y b\n",
        "    c = max(a, b)\n",
        "\n",
        "    # Entrar en un bucle para encontrar el MCM\n",
        "    while True:\n",
        "        # Verificamos si c es divisible por ambos a y b\n",
        "        if (c % a == 0) and (c % b == 0):\n",
        "            return c\n",
        "\n",
        "        # Si no es divisible por ambos, incrementar c y continuar buscando el MCM\n",
        "        c += 1\n",
        "\n",
        "print(mcm(17, 15))\n"
      ]
    }
  ]
}