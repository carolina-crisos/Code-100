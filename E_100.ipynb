{
  "nbformat": 4,
  "nbformat_minor": 0,
  "metadata": {
    "colab": {
      "provenance": [],
      "authorship_tag": "ABX9TyNP/6jzh3p2H1u2vt7gjfH7",
      "include_colab_link": true
    },
    "kernelspec": {
      "name": "python3",
      "display_name": "Python 3"
    },
    "language_info": {
      "name": "python"
    }
  },
  "cells": [
    {
      "cell_type": "markdown",
      "metadata": {
        "id": "view-in-github",
        "colab_type": "text"
      },
      "source": [
        "<a href=\"https://colab.research.google.com/github/carolina-crisos/Code-100/blob/main/E_100.ipynb\" target=\"_parent\"><img src=\"https://colab.research.google.com/assets/colab-badge.svg\" alt=\"Open In Colab\"/></a>"
      ]
    },
    {
      "cell_type": "markdown",
      "source": [
        "**¡Feliz Año Nuevo!**"
      ],
      "metadata": {
        "id": "PBAtbUSRcZbM"
      }
    },
    {
      "cell_type": "code",
      "execution_count": null,
      "metadata": {
        "colab": {
          "base_uri": "https://localhost:8080/",
          "height": 35
        },
        "id": "7tOpwOvHZEeW",
        "outputId": "53e0293c-fa4e-44d4-814a-1ee6babad32e"
      },
      "outputs": [
        {
          "output_type": "stream",
          "name": "stdout",
          "text": [
            "Animación detenida por el usuario.\n"
          ]
        }
      ],
      "source": [
        "# Importar las bibliotecas necesarias\n",
        "from IPython.display import display, HTML, clear_output  # Para manejar la salida en IPython\n",
        "import random  # Para generar números aleatorios\n",
        "import time  # Para pausar la ejecución\n",
        "\n",
        "# Función para aplicar formato HTML al texto con un color de texto aleatorio y estilo\n",
        "def colorize_text(text):\n",
        "  # Generar un color hexadecimal aleatorio\n",
        "  color = \"#{:06x}\".format(random.randint(0, 0xFFFFFF))\n",
        "  return '<span style=\"color:{}; font-size:20px; font-weight:bold;\">{}</span>'.format(color, text)\n",
        "\n",
        "# Función principal para la animación del mensaje de Año Nuevo con colores\n",
        "def animacion_anio_nuevo():\n",
        "  try:\n",
        "    while True:\n",
        "      # Mensaje a mostrar\n",
        "      mensaje = \"¡Feliz Año Nuevo!\"\n",
        "      # Aplicar formato HTML al mensaje\n",
        "      mensaje_colorido = colorize_text(mensaje)\n",
        "      # Limpiar la salida para evitar superposiciones\n",
        "      clear_output(wait=True)\n",
        "      # Mostrar el mensaje con formato HTML\n",
        "      display(HTML(mensaje_colorido))\n",
        "      # Esperar un segundo antes de la siguiente iteración\n",
        "      time.sleep(1)\n",
        "  except KeyboardInterrupt:\n",
        "    # Manejar la interrupción\n",
        "    clear_output(wait=True)\n",
        "    print(\"Animación detenida por el usuario.\")\n",
        "\n",
        "# Llamar a la función principal para iniciar la animación\n",
        "animacion_anio_nuevo()\n"
      ]
    }
  ]
}