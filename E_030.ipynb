{
  "nbformat": 4,
  "nbformat_minor": 0,
  "metadata": {
    "colab": {
      "provenance": [],
      "authorship_tag": "ABX9TyMRhKTtQ11pvHRNnEOtfvoN",
      "include_colab_link": true
    },
    "kernelspec": {
      "name": "python3",
      "display_name": "Python 3"
    },
    "language_info": {
      "name": "python"
    }
  },
  "cells": [
    {
      "cell_type": "markdown",
      "metadata": {
        "id": "view-in-github",
        "colab_type": "text"
      },
      "source": [
        "<a href=\"https://colab.research.google.com/github/carolina-crisos/Code-100/blob/main/E_030.ipynb\" target=\"_parent\"><img src=\"https://colab.research.google.com/assets/colab-badge.svg\" alt=\"Open In Colab\"/></a>"
      ]
    },
    {
      "cell_type": "markdown",
      "source": [
        "**Sumar tres números, si al menos dos son iguales, la suma será 0**"
      ],
      "metadata": {
        "id": "lnjnCtNTvtpg"
      }
    },
    {
      "cell_type": "code",
      "execution_count": null,
      "metadata": {
        "colab": {
          "base_uri": "https://localhost:8080/"
        },
        "id": "i04W6qv5vZN9",
        "outputId": "ca63d512-5a65-4964-e739-a623b3dabc1a"
      },
      "outputs": [
        {
          "output_type": "stream",
          "name": "stdout",
          "text": [
            "Ingrese el primer número: 3\n",
            "Ingrese el segundo número: 3\n",
            "Ingrese el tercer número: 10\n",
            "Al menos dos números son iguales. La suma es 0.\n",
            "¿Deseas ingresar otros números? s/n: s\n",
            "Ingrese el primer número: 5\n",
            "Ingrese el segundo número: 9\n",
            "Ingrese el tercer número: 1\n",
            "La suma de los tres números es: 15\n",
            "¿Deseas ingresar otros números? s/n: n\n",
            "Fin del programa.\n"
          ]
        }
      ],
      "source": [
        "# Bucle infinito que continúa hasta que se rompa explícitamente.\n",
        "while True:\n",
        "    # Solicitar tres números al usuario\n",
        "    num1 = int(input(\"Ingrese el primer número: \"))\n",
        "    num2 = int(input(\"Ingrese el segundo número: \"))\n",
        "    num3 = int(input(\"Ingrese el tercer número: \"))\n",
        "\n",
        "    # Verificar si al menos dos números son iguales\n",
        "    if num1 == num2 or num1 == num3 or num2 == num3:\n",
        "        suma = 0\n",
        "        print(\"Al menos dos números son iguales. La suma es 0.\")\n",
        "    else:\n",
        "        suma = num1 + num2 + num3\n",
        "        print(\"La suma de los tres números es:\", suma)\n",
        "\n",
        "    # Preguntamos al usuario si desea ingresar otros números.\n",
        "    respuesta_ciclo = input(\"¿Deseas ingresar otros números? s/n:\")\n",
        "\n",
        "    # Si la respuesta es 's' (sí), el bucle continúa ejecutándose.\n",
        "    if respuesta_ciclo.lower() == 's':\n",
        "        continue\n",
        "    else:\n",
        "        # Si la respuesta no es 's', rompe el bucle.\n",
        "        print('Fin del programa.')\n",
        "        break\n",
        "\n"
      ]
    }
  ]
}