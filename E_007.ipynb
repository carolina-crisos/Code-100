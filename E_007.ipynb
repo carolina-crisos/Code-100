{
  "nbformat": 4,
  "nbformat_minor": 0,
  "metadata": {
    "colab": {
      "provenance": [],
      "authorship_tag": "ABX9TyMvsGzhWNmRqaEKnJv96rCS",
      "include_colab_link": true
    },
    "kernelspec": {
      "name": "python3",
      "display_name": "Python 3"
    },
    "language_info": {
      "name": "python"
    }
  },
  "cells": [
    {
      "cell_type": "markdown",
      "metadata": {
        "id": "view-in-github",
        "colab_type": "text"
      },
      "source": [
        "<a href=\"https://colab.research.google.com/github/carolina-crisos/Code-100/blob/main/E_007.ipynb\" target=\"_parent\"><img src=\"https://colab.research.google.com/assets/colab-badge.svg\" alt=\"Open In Colab\"/></a>"
      ]
    },
    {
      "cell_type": "markdown",
      "source": [
        "**Mostrar la fecha de un evento almacenada en una tupla.**"
      ],
      "metadata": {
        "id": "QcmB85ftO65K"
      }
    },
    {
      "cell_type": "code",
      "execution_count": null,
      "metadata": {
        "colab": {
          "base_uri": "https://localhost:8080/"
        },
        "id": "8gbv4ln0L5Yu",
        "outputId": "931030a7-5d19-4357-c4bc-87a003dc3be8"
      },
      "outputs": [
        {
          "output_type": "stream",
          "name": "stdout",
          "text": [
            "El evento sera en la fecha: (13, 11, 2023)\n",
            "El evento sera el: 13/11/2023\n"
          ]
        }
      ],
      "source": [
        "# Objeto declarado como una tupla\n",
        "\n",
        "fecha_evento = (13, 11, 2023)\n",
        "\n",
        "# Impresion que muestra la tupla\n",
        "\n",
        "print(\"El evento sera en la fecha:\", fecha_evento)\n",
        "\n",
        "# Utilizamos la notacion %i para insertar los valores enteros de la tupla\n",
        "\n",
        "print(\"El evento sera el: %i/%i/%i\" % fecha_evento)"
      ]
    }
  ]
}