{
  "cells": [
    {
      "cell_type": "markdown",
      "metadata": {
        "id": "view-in-github",
        "colab_type": "text"
      },
      "source": [
        "<a href=\"https://colab.research.google.com/github/carolina-crisos/Code-100/blob/main/E_035.ipynb\" target=\"_parent\"><img src=\"https://colab.research.google.com/assets/colab-badge.svg\" alt=\"Open In Colab\"/></a>"
      ]
    },
    {
      "cell_type": "markdown",
      "metadata": {
        "id": "0YxA-6vFfAue"
      },
      "source": [
        "**Generador de contraseñas**"
      ]
    },
    {
      "cell_type": "markdown",
      "metadata": {
        "id": "PJgpGdayFq-x"
      },
      "source": [
        "Escribe un programa que sea capaz de generar contraseñas de forma aleatoria.Podrás configurar generar contraseñas con los siguientes parámetros:\n",
        "- Longitud: Entre 8 y 16.- Con o sin letras mayúsculas.\n",
        " * - Con o sin números.\n",
        " * - Con o sin símbolos.\n",
        "\n",
        "(Pudiendo combinar todos estos parámetros entre ellos)\n"
      ]
    },
    {
      "cell_type": "code",
      "execution_count": null,
      "metadata": {
        "colab": {
          "base_uri": "https://localhost:8080/"
        },
        "id": "oiM6yKtne0T0",
        "outputId": "d9688e95-85d4-44cd-c184-fb79301f46c5"
      },
      "outputs": [
        {
          "output_type": "stream",
          "name": "stdout",
          "text": [
            "lL5#VgF:q5$\n"
          ]
        }
      ],
      "source": [
        "# Importamos los módulos necesarios\n",
        "import random\n",
        "import string\n",
        "\n",
        "# Generamos una longitud aleatoria para la contraseña entre 8 y 16 caracteres\n",
        "longitud = random.randint(8, 16)\n",
        "\n",
        "# Definimos los caracteres que pueden aparecer en la contraseña:\n",
        "# letras minúsculas, letras mayúsculas, dígitos y caracteres especiales\n",
        "caracteres = string.ascii_letters + string.digits + string.punctuation\n",
        "\n",
        "# Generamos la contraseña aleatoria utilizando un bucle y la función join\n",
        "# random.choice(caracteres) elige aleatoriamente un carácter de la cadena 'caracteres'\n",
        "# for _ in range(longitud) se ejecuta 'longitud' veces para generar la contraseña\n",
        "contraseña = ''.join(random.choice(caracteres) for _ in range(longitud))\n",
        "\n",
        "# Imprimimos la contraseña generada\n",
        "print(contraseña)\n"
      ]
    }
  ],
  "metadata": {
    "colab": {
      "provenance": [],
      "authorship_tag": "ABX9TyNgMoyRdYv7+9SlcKyxhcL2",
      "include_colab_link": true
    },
    "kernelspec": {
      "display_name": "Python 3",
      "name": "python3"
    },
    "language_info": {
      "name": "python"
    }
  },
  "nbformat": 4,
  "nbformat_minor": 0
}