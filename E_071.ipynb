{
  "nbformat": 4,
  "nbformat_minor": 0,
  "metadata": {
    "colab": {
      "provenance": [],
      "authorship_tag": "ABX9TyMS1mSkruR3ozMCU8375cWN",
      "include_colab_link": true
    },
    "kernelspec": {
      "name": "python3",
      "display_name": "Python 3"
    },
    "language_info": {
      "name": "python"
    }
  },
  "cells": [
    {
      "cell_type": "markdown",
      "metadata": {
        "id": "view-in-github",
        "colab_type": "text"
      },
      "source": [
        "<a href=\"https://colab.research.google.com/github/carolina-crisos/Code-100/blob/main/E_071.ipynb\" target=\"_parent\"><img src=\"https://colab.research.google.com/assets/colab-badge.svg\" alt=\"Open In Colab\"/></a>"
      ]
    },
    {
      "cell_type": "markdown",
      "source": [
        "**Crear una función que acepte una cadena y devuelva una lista de sus valores numéricos ASCII.**"
      ],
      "metadata": {
        "id": "q8KLnr_QpqJ5"
      }
    },
    {
      "cell_type": "code",
      "execution_count": null,
      "metadata": {
        "colab": {
          "base_uri": "https://localhost:8080/"
        },
        "id": "GLmUNGaMoZZA",
        "outputId": "12ce8a81-4b31-4c80-8a9b-b041c4ad2bcc"
      },
      "outputs": [
        {
          "output_type": "stream",
          "name": "stdout",
          "text": [
            "Valores ASCII\n",
            "H: Alt + 72\n",
            "o: Alt + 111\n",
            "l: Alt + 108\n",
            "a: Alt + 97\n",
            "\n",
            "Valores HEXADECIMAL\n",
            "H: 48\n",
            "o: 6f\n",
            "l: 6c\n",
            "a: 61\n",
            "\n",
            "Valores ASCII\n",
            "A: Alt + 65\n",
            "d: Alt + 100\n",
            "i: Alt + 105\n",
            "o: Alt + 111\n",
            "s: Alt + 115\n",
            "!: Alt + 33\n",
            "\n",
            "Valores HEXADECIMAL\n",
            "A: 41\n",
            "d: 64\n",
            "i: 69\n",
            "o: 6f\n",
            "s: 73\n",
            "!: 21\n"
          ]
        }
      ],
      "source": [
        "# Importa el módulo 'codecs' para manejar codificación y decodificación de caracteres\n",
        "import codecs\n",
        "\n",
        "# Definición de la función 'valores_ascii_hex'\n",
        "def valores_ascii_hex(cadena):\n",
        "  # Lista para almacenar las representaciones ASCII y hexadecimales\n",
        "  resultado = []\n",
        "\n",
        "  # Representaciones ASCII\n",
        "  resultado.append('Valores ASCII')\n",
        "  for i in cadena:\n",
        "    # Agrega cada representación ASCII a la lista\n",
        "    resultado.append(f'{i}: Alt + {ord(i)}')\n",
        "\n",
        "  # Representaciones hexadecimales\n",
        "  resultado.append('\\nValores HEXADECIMAL')\n",
        "  for i in cadena:\n",
        "    # Convierte cada caracter a su representación hexadecimal utilizando 'codecs'\n",
        "    valor_hexadecimal = codecs.encode(i.encode('utf-8'), 'hex').decode('utf-8')\n",
        "    # Agrega cada representación hexadecima a la lista\n",
        "    resultado.append(f'{i}: {valor_hexadecimal}')\n",
        "\n",
        "  # Devuelve la lista como una cadena, cada elemento separado por un salto de línea\n",
        "  return '\\n'.join(resultado)\n",
        "\n",
        "# Llama a la función con la cadena\n",
        "print(valores_ascii_hex('Hola'))\n",
        "print()\n",
        "print(valores_ascii_hex('Adios!'))\n",
        "\n"
      ]
    }
  ]
}