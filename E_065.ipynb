{
  "nbformat": 4,
  "nbformat_minor": 0,
  "metadata": {
    "colab": {
      "provenance": [],
      "authorship_tag": "ABX9TyPUmKr5SbOu3b1SC/fwPgNY",
      "include_colab_link": true
    },
    "kernelspec": {
      "name": "python3",
      "display_name": "Python 3"
    },
    "language_info": {
      "name": "python"
    }
  },
  "cells": [
    {
      "cell_type": "markdown",
      "metadata": {
        "id": "view-in-github",
        "colab_type": "text"
      },
      "source": [
        "<a href=\"https://colab.research.google.com/github/carolina-crisos/Code-100/blob/main/E_065.ipynb\" target=\"_parent\"><img src=\"https://colab.research.google.com/assets/colab-badge.svg\" alt=\"Open In Colab\"/></a>"
      ]
    },
    {
      "cell_type": "markdown",
      "source": [
        "**Ordenar Tres Números de Menor a Mayor sin Usar Condicionales ni Ciclos**"
      ],
      "metadata": {
        "id": "HGPxUEe2NvSr"
      }
    },
    {
      "cell_type": "code",
      "execution_count": null,
      "metadata": {
        "colab": {
          "base_uri": "https://localhost:8080/"
        },
        "id": "27XM4qlfLW2j",
        "outputId": "8afd144e-21ca-4c16-c43f-61597a70e078"
      },
      "outputs": [
        {
          "output_type": "stream",
          "name": "stdout",
          "text": [
            "Ingresa 1er número: 10\n",
            "Ingresa 2do número: 3\n",
            "Ingresa 3er número: 15\n",
            "\n",
            "Orden de menor a mayor: 3, 10, 15.\n",
            "Orden de mayor a menor: 15, 10, 3.\n"
          ]
        }
      ],
      "source": [
        "# Solicita al usuario que ingrese tres números enteros\n",
        "x = int(input('Ingresa 1er número: '))\n",
        "y = int(input('Ingresa 2do número: '))\n",
        "z = int(input('Ingresa 3er número: '))\n",
        "\n",
        "# Encuentra el número más pequeño y el más grande entre los tres ingresados\n",
        "a = min(x, y, z)\n",
        "c = max(x, y, z)\n",
        "\n",
        "# Calcula el número restante después de encontrar el mínimo (a) y máximo (c)\n",
        "b = (x + y + z) - a - c\n",
        "\n",
        "# Muestra en pantalla el orden\n",
        "print(f'\\nOrden de menor a mayor: {a}, {b}, {c}.')\n",
        "print(f'Orden de mayor a menor: {c}, {b}, {a}.')\n"
      ]
    }
  ]
}