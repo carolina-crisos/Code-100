{
  "nbformat": 4,
  "nbformat_minor": 0,
  "metadata": {
    "colab": {
      "provenance": [],
      "authorship_tag": "ABX9TyOIXc9l+WFWU0BX37OZUEW9",
      "include_colab_link": true
    },
    "kernelspec": {
      "name": "python3",
      "display_name": "Python 3"
    },
    "language_info": {
      "name": "python"
    }
  },
  "cells": [
    {
      "cell_type": "markdown",
      "metadata": {
        "id": "view-in-github",
        "colab_type": "text"
      },
      "source": [
        "<a href=\"https://colab.research.google.com/github/carolina-crisos/Code-100/blob/main/E_091.ipynb\" target=\"_parent\"><img src=\"https://colab.research.google.com/assets/colab-badge.svg\" alt=\"Open In Colab\"/></a>"
      ]
    },
    {
      "cell_type": "markdown",
      "source": [
        "**Extraer información de un sitio web**"
      ],
      "metadata": {
        "id": "_4QX_l1ARvqZ"
      }
    },
    {
      "cell_type": "code",
      "source": [
        "!pip install requests\n",
        "!pip install beautifulsoup4"
      ],
      "metadata": {
        "id": "7ftEAA1KQmVm"
      },
      "execution_count": null,
      "outputs": []
    },
    {
      "cell_type": "code",
      "execution_count": null,
      "metadata": {
        "colab": {
          "base_uri": "https://localhost:8080/"
        },
        "id": "4ot7gDjtQBl8",
        "outputId": "6c429713-664a-4dac-d8a9-5d3e686c4204"
      },
      "outputs": [
        {
          "output_type": "stream",
          "name": "stdout",
          "text": [
            "Organiza tu viaje por libre de forma sencilla\n",
            "Grandes guías para grandes viajes\n",
            "Otros destinos interesantes\n",
            "¿Necesitas buscar algo?\n",
            "Nuestros rankings\n",
            "Más Comiviajeros\n"
          ]
        }
      ],
      "source": [
        "# Importa las librerías necesarias\n",
        "import requests\n",
        "from bs4 import BeautifulSoup\n",
        "\n",
        "# Función de web scraping de ejemplo\n",
        "def web_scraping_ejemplo(url):\n",
        "  # Realiza una solicitud GET a la URL proporcionada\n",
        "  response = requests.get(url)\n",
        "\n",
        "  # Verifica si la solicitud fue exitosa (código de estado 200)\n",
        "  if response.status_code == 200:\n",
        "    # Utiliza BeautifulSoup para analizar el contenido HTML de la página\n",
        "    soup = BeautifulSoup(response.text, 'html.parser')\n",
        "\n",
        "    # Encuentra todos los elementos <h2> en la página\n",
        "    titulos_h2 = soup.find_all('h2')\n",
        "\n",
        "    # Imprime los textos de los elementos <h2>\n",
        "    for titulo in titulos_h2:\n",
        "      print(titulo.text)\n",
        "  else:\n",
        "    # Imprime un mensaje si la solicitud no fue exitosa\n",
        "    print(f\"No se pudo acceder a la página. Código de estado: {response.status_code}\")\n",
        "\n",
        "# Función principal\n",
        "if __name__ == \"__main__\":\n",
        "  # URL de la página web a scrapear\n",
        "  url_a_scrapear = \"https://comiviajeros.com/\"\n",
        "\n",
        "  # Llama a la función de web scraping con la URL proporcionada\n",
        "  web_scraping_ejemplo(url_a_scrapear)\n",
        "\n"
      ]
    }
  ]
}