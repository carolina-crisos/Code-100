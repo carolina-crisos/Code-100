{
  "nbformat": 4,
  "nbformat_minor": 0,
  "metadata": {
    "colab": {
      "provenance": [],
      "authorship_tag": "ABX9TyOQUnOnyroI6enJhkUwAJ7s",
      "include_colab_link": true
    },
    "kernelspec": {
      "name": "python3",
      "display_name": "Python 3"
    },
    "language_info": {
      "name": "python"
    }
  },
  "cells": [
    {
      "cell_type": "markdown",
      "metadata": {
        "id": "view-in-github",
        "colab_type": "text"
      },
      "source": [
        "<a href=\"https://colab.research.google.com/github/carolina-crisos/Code-100/blob/main/E_057.ipynb\" target=\"_parent\"><img src=\"https://colab.research.google.com/assets/colab-badge.svg\" alt=\"Open In Colab\"/></a>"
      ]
    },
    {
      "cell_type": "markdown",
      "source": [
        "**Calcular la longitud de la hipotenusa de un triángulo rectángulo**"
      ],
      "metadata": {
        "id": "SThhnTJqqrMB"
      }
    },
    {
      "cell_type": "code",
      "execution_count": null,
      "metadata": {
        "colab": {
          "base_uri": "https://localhost:8080/"
        },
        "id": "n7QRjLeZqUmj",
        "outputId": "25edf6d6-0877-42b5-ddd2-0702eaf1273e"
      },
      "outputs": [
        {
          "output_type": "stream",
          "name": "stdout",
          "text": [
            "Ingresa los valores del triángulo rectángulo.\n",
            "\n",
            "Altura: 3\n",
            "Base: 4\n",
            "Hipotenusa = 5.0\n",
            "Área = 6.0\n",
            "Perimetro = 12.0\n",
            "Ángulo Alfa ≅ 36.87°\n",
            "Ángulo Beta ≅ 53.13°\n"
          ]
        }
      ],
      "source": [
        "import math as m\n",
        "import numpy as np\n",
        "print('Ingresa los valores del triángulo rectángulo.\\n')\n",
        "\n",
        "a = float(input('Altura: '))\n",
        "b = float(input('Base: '))\n",
        "\n",
        "h = m.sqrt(a**2 + b**2)\n",
        "\n",
        "area = (a * b) / 2\n",
        "\n",
        "perimetro = a + b + h\n",
        "\n",
        "angulo_alfa = m.degrees(np.arcsin(a / h))\n",
        "\n",
        "angulo_beta = m.degrees(np.arcsin(b / h))\n",
        "\n",
        "print(f'Hipotenusa = {h}')\n",
        "print(f'Área = {area}')\n",
        "print(f'Perimetro = {perimetro}')\n",
        "print(f'Ángulo Alfa ≅ {round(angulo_alfa, 2)}°')\n",
        "print(f'Ángulo Beta ≅ {round(angulo_beta,2)}°')"
      ]
    }
  ]
}