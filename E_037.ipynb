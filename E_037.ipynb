{
  "nbformat": 4,
  "nbformat_minor": 0,
  "metadata": {
    "colab": {
      "provenance": [],
      "authorship_tag": "ABX9TyOnLq9eECCyHzbaIXalGZ63",
      "include_colab_link": true
    },
    "kernelspec": {
      "name": "python3",
      "display_name": "Python 3"
    },
    "language_info": {
      "name": "python"
    }
  },
  "cells": [
    {
      "cell_type": "markdown",
      "metadata": {
        "id": "view-in-github",
        "colab_type": "text"
      },
      "source": [
        "<a href=\"https://colab.research.google.com/github/carolina-crisos/Code-100/blob/main/E_037.ipynb\" target=\"_parent\"><img src=\"https://colab.research.google.com/assets/colab-badge.svg\" alt=\"Open In Colab\"/></a>"
      ]
    },
    {
      "cell_type": "markdown",
      "source": [
        "**Modificar el Comportamiento de Impresión de la Función print**"
      ],
      "metadata": {
        "id": "Y43iZSvJXUcG"
      }
    },
    {
      "cell_type": "code",
      "execution_count": null,
      "metadata": {
        "colab": {
          "base_uri": "https://localhost:8080/"
        },
        "id": "e-pcVZ2dWNjj",
        "outputId": "1464781c-948c-4c54-9329-d4bc5fd55fed"
      },
      "outputs": [
        {
          "output_type": "stream",
          "name": "stdout",
          "text": [
            "Creada para compartir...\n",
            "*\n",
            "*\n",
            "*\n",
            "*\n",
            "*\n",
            "*****\n",
            "Creada.para.compartir\n",
            "\u001b[31mEste mensaje es rojo\u001b[0m\n",
            "\u001b[32mEste mensaje es verde\u001b[0m\n",
            "\u001b[34mEl mensaje es azul\u001b[0m\n"
          ]
        }
      ],
      "source": [
        "# Imprime 'Creada para compartir', seguido de '...' y luego un salto de línea\n",
        "print('Creada para compartir', end='...')\n",
        "# Imprime un salto de línea en blanco\n",
        "print()\n",
        "\n",
        "# Imprime '*' cinco veces en líneas separadas\n",
        "for i in range(5):\n",
        "    print('*')\n",
        "\n",
        "# Imprime '*' cinco veces en la misma línea\n",
        "for i in range(5):\n",
        "    print('*', end=\"\")\n",
        "\n",
        "# Imprime un salto de línea en blanco\n",
        "print()\n",
        "\n",
        "# Imprime 'Creada', 'para', 'compartir', separados por puntos\n",
        "print('Creada', 'para', 'compartir', sep='.')\n",
        "\n",
        "# Definimos para gestionar colores de texto\n",
        "class Colores: # códigos de escape ANSI\n",
        "    RESET = '\\033[0m'   # texto a su valor predeterminado\n",
        "    ROJO = '\\033[31m'\n",
        "    VERDE = '\\033[32m'\n",
        "    AMARILLO = '\\033[33m'\n",
        "    AZUL = '\\033[34m'\n",
        "\n",
        "# Definimos una función que toma un color y un mensaje como argumentos\n",
        "def print_colorido(color, mensaje):\n",
        "    # Obtenemos el código para el color especificado, si no se especifica, utiliza RESET\n",
        "    color_codigo = getattr(Colores, color.upper(), Colores.RESET)\n",
        "    # Imprime el mensaje en el color especificado\n",
        "    print(color_codigo + mensaje + Colores.RESET)\n",
        "\n",
        "# Uso de la función personalizada\n",
        "print_colorido(\"rojo\", \"Este mensaje es rojo\")\n",
        "print_colorido(\"verde\", \"Este mensaje es verde\")\n",
        "print_colorido(\"azul\", \"El mensaje es azul\")\n",
        "\n"
      ]
    }
  ]
}