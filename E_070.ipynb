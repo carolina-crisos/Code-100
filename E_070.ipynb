{
  "nbformat": 4,
  "nbformat_minor": 0,
  "metadata": {
    "colab": {
      "provenance": [],
      "authorship_tag": "ABX9TyOfNOD6GG6UaJ5sEhfmbawh",
      "include_colab_link": true
    },
    "kernelspec": {
      "name": "python3",
      "display_name": "Python 3"
    },
    "language_info": {
      "name": "python"
    }
  },
  "cells": [
    {
      "cell_type": "markdown",
      "metadata": {
        "id": "view-in-github",
        "colab_type": "text"
      },
      "source": [
        "<a href=\"https://colab.research.google.com/github/carolina-crisos/Code-100/blob/main/E_070.ipynb\" target=\"_parent\"><img src=\"https://colab.research.google.com/assets/colab-badge.svg\" alt=\"Open In Colab\"/></a>"
      ]
    },
    {
      "cell_type": "markdown",
      "source": [
        "**Comprobar si Todos los Elementos de una Lista Cumplen una Condición**"
      ],
      "metadata": {
        "id": "XDZVKdjhgx5Q"
      }
    },
    {
      "cell_type": "code",
      "execution_count": null,
      "metadata": {
        "colab": {
          "base_uri": "https://localhost:8080/"
        },
        "id": "hiFzObAZglMt",
        "outputId": "f306e417-8245-47f6-f6a6-ad2c34a3d0ea"
      },
      "outputs": [
        {
          "output_type": "stream",
          "name": "stdout",
          "text": [
            "False\n",
            "False\n",
            "False\n"
          ]
        }
      ],
      "source": [
        "# Lista de números\n",
        "numeros = [15, 5, 11, 22]\n",
        "\n",
        "# Utilizando la función all() verificamos si todos los números son mayores que 10\n",
        "print(all(x > 10 for x in numeros))\n",
        "\n",
        "\n",
        "\n",
        "# Replicando la función all() con un bucle\n",
        "condicion = True\n",
        "\n",
        "# Iterando sobre cada elemento en la lista\n",
        "for x in numeros:\n",
        "    # Verifica si el elemento es menor o igual a 10\n",
        "    if x <= 10:\n",
        "        # Si encuentra un elemento menor o igual a 10, establece la condición a False y sale del bucle\n",
        "        condicion = False\n",
        "        break\n",
        "\n",
        "# Imprime el resultado de la condición replicada\n",
        "print(condicion)\n",
        "\n",
        "# Conjunto de números\n",
        "conjunto = [10, 20, 30, 10]\n",
        "\n",
        "# Utilizando la función all() para verificar si la suma de todos los elementos en la lista son iguales a 50\n",
        "print(all(x == 50 for x in [sum(conjunto)]))\n",
        "\n"
      ]
    }
  ]
}