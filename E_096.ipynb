{
  "nbformat": 4,
  "nbformat_minor": 0,
  "metadata": {
    "colab": {
      "provenance": [],
      "authorship_tag": "ABX9TyMVdKMyAVqtRqDB9jg7zFqh",
      "include_colab_link": true
    },
    "kernelspec": {
      "name": "python3",
      "display_name": "Python 3"
    },
    "language_info": {
      "name": "python"
    }
  },
  "cells": [
    {
      "cell_type": "markdown",
      "metadata": {
        "id": "view-in-github",
        "colab_type": "text"
      },
      "source": [
        "<a href=\"https://colab.research.google.com/github/carolina-crisos/Code-100/blob/main/E_096.ipynb\" target=\"_parent\"><img src=\"https://colab.research.google.com/assets/colab-badge.svg\" alt=\"Open In Colab\"/></a>"
      ]
    },
    {
      "cell_type": "markdown",
      "source": [
        "**Acortador de URL**"
      ],
      "metadata": {
        "id": "ncAky34_Ygv9"
      }
    },
    {
      "cell_type": "code",
      "source": [
        "# La biblioteca pyshorteners, admite varios servicios de acortamiento de URL\n",
        "!pip install pyshorteners"
      ],
      "metadata": {
        "id": "NIEDSluWXSZl",
        "outputId": "1a0d86a1-c5da-4398-c844-cbd2ed885f37",
        "colab": {
          "base_uri": "https://localhost:8080/"
        }
      },
      "execution_count": null,
      "outputs": [
        {
          "output_type": "stream",
          "name": "stdout",
          "text": [
            "Collecting pyshorteners\n",
            "  Downloading pyshorteners-1.0.1.tar.gz (10.0 kB)\n",
            "  Preparing metadata (setup.py) ... \u001b[?25l\u001b[?25hdone\n",
            "Requirement already satisfied: requests in /usr/local/lib/python3.10/dist-packages (from pyshorteners) (2.31.0)\n",
            "Requirement already satisfied: charset-normalizer<4,>=2 in /usr/local/lib/python3.10/dist-packages (from requests->pyshorteners) (3.3.2)\n",
            "Requirement already satisfied: idna<4,>=2.5 in /usr/local/lib/python3.10/dist-packages (from requests->pyshorteners) (3.6)\n",
            "Requirement already satisfied: urllib3<3,>=1.21.1 in /usr/local/lib/python3.10/dist-packages (from requests->pyshorteners) (2.0.7)\n",
            "Requirement already satisfied: certifi>=2017.4.17 in /usr/local/lib/python3.10/dist-packages (from requests->pyshorteners) (2023.11.17)\n",
            "Building wheels for collected packages: pyshorteners\n",
            "  Building wheel for pyshorteners (setup.py) ... \u001b[?25l\u001b[?25hdone\n",
            "  Created wheel for pyshorteners: filename=pyshorteners-1.0.1-py3-none-any.whl size=17481 sha256=0ce0897fff9bf11c4392d4cc39c0e24b840c6f5071cb865f8502d802ac5254b0\n",
            "  Stored in directory: /root/.cache/pip/wheels/d5/ff/b3/16d8906f92ab0b042f76a4696fcea11d291d79a2b3a3de1e78\n",
            "Successfully built pyshorteners\n",
            "Installing collected packages: pyshorteners\n",
            "Successfully installed pyshorteners-1.0.1\n"
          ]
        }
      ]
    },
    {
      "cell_type": "code",
      "source": [
        "import pyshorteners\n",
        "\n",
        "def acortar_url(long_url):\n",
        "  # Crea una instancia del objeto Shortener\n",
        "  s = pyshorteners.Shortener()\n",
        "\n",
        "  # Acorta la URL utilizando el servicio TinyURL\n",
        "  short_url = s.tinyurl.short(long_url)\n",
        "\n",
        "  return short_url\n",
        "\n",
        "# Verifica si el script se ejecuta como programa principal\n",
        "if __name__ == \"__main__\":\n",
        "  # Solicita al usuario ingresar la URL que desea acortar\n",
        "  long_url = input(\"Ingresa la URL que deseas acortar: \")\n",
        "\n",
        "  # Llama a la función para acortar la URL\n",
        "  short_url = acortar_url(long_url)\n",
        "\n",
        "  # Imprime la URL acortada\n",
        "  print(f'\\nURL acortada: {short_url}')\n",
        "\n"
      ],
      "metadata": {
        "id": "u8wvmxE4XVJ9"
      },
      "execution_count": null,
      "outputs": []
    }
  ]
}