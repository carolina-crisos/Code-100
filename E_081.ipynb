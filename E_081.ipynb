{
  "nbformat": 4,
  "nbformat_minor": 0,
  "metadata": {
    "colab": {
      "provenance": [],
      "authorship_tag": "ABX9TyNQ16szNW9f+mJe7Y6jYYWv",
      "include_colab_link": true
    },
    "kernelspec": {
      "name": "python3",
      "display_name": "Python 3"
    },
    "language_info": {
      "name": "python"
    }
  },
  "cells": [
    {
      "cell_type": "markdown",
      "metadata": {
        "id": "view-in-github",
        "colab_type": "text"
      },
      "source": [
        "<a href=\"https://colab.research.google.com/github/carolina-crisos/Code-100/blob/main/E_081.ipynb\" target=\"_parent\"><img src=\"https://colab.research.google.com/assets/colab-badge.svg\" alt=\"Open In Colab\"/></a>"
      ]
    },
    {
      "cell_type": "markdown",
      "source": [
        "**Calculadora Estadísticas**"
      ],
      "metadata": {
        "id": "HOj1XPMXlkaI"
      }
    },
    {
      "cell_type": "code",
      "source": [
        "from statistics import mean, median, mode, variance, stdev\n",
        "\n",
        "# Definición de las opciones disponibles\n",
        "opciones = {\n",
        "    1: \"Promedio\",\n",
        "    2: \"Mediana\",\n",
        "    3: \"Moda\",\n",
        "    4: \"Varianza\",\n",
        "    5: \"Desviación Estándar\",\n",
        "}\n",
        "\n",
        "# Imprime las opciones disponibles\n",
        "print(\"Calculadora de Estadísticas. Opciones:\")\n",
        "for key, value in opciones.items():\n",
        "  print(f\"{key}. {value}\")\n",
        "\n",
        "# Función para obtener la opción del usuario\n",
        "def obtener_opcion():\n",
        "  \"\"\"\n",
        "  Solicita al usuario que ingrese una opción válida (número del 1 al 5).\n",
        "  Retorna la opción seleccionada por el usuario.\n",
        "  \"\"\"\n",
        "  opcion = 0\n",
        "  while opcion not in range(1, 6):\n",
        "    try:\n",
        "      opcion = int(input('Seleccione una opción (1-5): '))\n",
        "      if opcion not in range(1, 6):\n",
        "        print('Por favor, ingrese un número válido en el rango del 1 al 5.')\n",
        "    except ValueError:\n",
        "      print('Has ingresado un dato no válido. Inténtalo de nuevo.')\n",
        "  return opcion\n",
        "\n",
        "# Función para obtener la lista de números del usuario\n",
        "def obtener_lista_numeros():\n",
        "  \"\"\"\n",
        "  Solicita al usuario que ingrese una lista de al menos 3 números separados por espacios.\n",
        "  Retorna una lista de números ingresada por el usuario.\n",
        "  \"\"\"\n",
        "  while True:\n",
        "    try:\n",
        "      numeros_usuario = input('Ingrese una lista de números separados por espacios: ')\n",
        "      lista_num = [float(numero) for numero in numeros_usuario.split()]\n",
        "      if len(lista_num) >= 3:\n",
        "        return lista_num\n",
        "      else:\n",
        "        print('Debes ingresar al menos 3 valores numéricos.')\n",
        "    except ValueError:\n",
        "      print('Has ingresado un dato no válido. Inténtalo de nuevo.')\n",
        "\n",
        "# Función para calcular estadísticas según la opción seleccionada\n",
        "def calcular_estadisticas(opcion, lista_num):\n",
        "  \"\"\"\n",
        "  Calcula la estadística correspondiente a la opción seleccionada utilizando la biblioteca statistics.\n",
        "  Retorna el resultado redondeado a 2 decimales.\n",
        "  \"\"\"\n",
        "  if opcion == 1:\n",
        "    return round(mean(lista_num), 2)\n",
        "  elif opcion == 2:\n",
        "    return median(lista_num)\n",
        "  elif opcion == 3:\n",
        "    moda = mode(lista_num)\n",
        "    return moda if moda is not None else \"No hay moda\"\n",
        "  elif opcion == 4:\n",
        "    return round(variance(lista_num), 2)\n",
        "  elif opcion == 5:\n",
        "    return round(stdev(lista_num), 2)\n",
        "\n",
        "# Programa principal\n",
        "if __name__ == \"__main__\":\n",
        "  while True:\n",
        "    opcion = obtener_opcion()\n",
        "    lista_num = obtener_lista_numeros()\n",
        "    resultado = calcular_estadisticas(opcion, lista_num)\n",
        "    print(f'\\nSu {opciones[opcion]} es: {resultado}')\n",
        "\n",
        "    respuesta = input('¿Desea realizar otro cálculo? (si/no): ')\n",
        "    if respuesta.lower() != 'si':\n",
        "      print('Fin del programa.')\n",
        "      break\n"
      ],
      "metadata": {
        "colab": {
          "base_uri": "https://localhost:8080/"
        },
        "id": "o4hHarfNlrNT",
        "outputId": "621b2c17-5cc7-4d6f-cf5c-7bb541e30763"
      },
      "execution_count": null,
      "outputs": [
        {
          "output_type": "stream",
          "name": "stdout",
          "text": [
            "Calculadora de Estadísticas. Opciones:\n",
            "1. Promedio\n",
            "2. Mediana\n",
            "3. Moda\n",
            "4. Varianza\n",
            "5. Desviación Estándar\n",
            "Seleccione una opción (1-5): 0\n",
            "Por favor, ingrese un número válido en el rango del 1 al 5.\n",
            "Seleccione una opción (1-5): 10\n",
            "Por favor, ingrese un número válido en el rango del 1 al 5.\n",
            "Seleccione una opción (1-5): abc\n",
            "Has ingresado un dato no válido. Inténtalo de nuevo.\n",
            "Seleccione una opción (1-5): 3\n",
            "Ingrese una lista de números separados por espacios: 1 2 3 4 2 5 \n",
            "\n",
            "Su Moda es: 2.0\n",
            "¿Desea realizar otro cálculo? (si/no): si\n",
            "Seleccione una opción (1-5): 1\n",
            "Ingrese una lista de números separados por espacios: 1 2\n",
            "Debes ingresar al menos 3 valores numéricos.\n",
            "Ingrese una lista de números separados por espacios: a b\n",
            "Has ingresado un dato no válido. Inténtalo de nuevo.\n",
            "Ingrese una lista de números separados por espacios: 1 2 3 4 5 6 7 8 9\n",
            "\n",
            "Su Promedio es: 5.0\n",
            "¿Desea realizar otro cálculo? (si/no): no\n",
            "Fin del programa.\n"
          ]
        }
      ]
    }
  ]
}