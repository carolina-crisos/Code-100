{
  "nbformat": 4,
  "nbformat_minor": 0,
  "metadata": {
    "colab": {
      "provenance": [],
      "authorship_tag": "ABX9TyOir1RTlmUGM0NYrMCztvF2",
      "include_colab_link": true
    },
    "kernelspec": {
      "name": "python3",
      "display_name": "Python 3"
    },
    "language_info": {
      "name": "python"
    }
  },
  "cells": [
    {
      "cell_type": "markdown",
      "metadata": {
        "id": "view-in-github",
        "colab_type": "text"
      },
      "source": [
        "<a href=\"https://colab.research.google.com/github/carolina-crisos/Code-100/blob/main/E_055.ipynb\" target=\"_parent\"><img src=\"https://colab.research.google.com/assets/colab-badge.svg\" alt=\"Open In Colab\"/></a>"
      ]
    },
    {
      "cell_type": "markdown",
      "source": [
        "**Ordenar números.\n",
        "Imprimir una lista de 10 números aleatorios sin repetición que varíen en el rango 80 a 99. Volver a imprimir la lista pero ordenada.**\n",
        "\n"
      ],
      "metadata": {
        "id": "82Sp6Awl9rLh"
      }
    },
    {
      "cell_type": "code",
      "execution_count": null,
      "metadata": {
        "colab": {
          "base_uri": "https://localhost:8080/"
        },
        "id": "c4E4o9Ht5DdN",
        "outputId": "0542dc2b-0452-4096-d7e9-22e836475b63"
      },
      "outputs": [
        {
          "output_type": "stream",
          "name": "stdout",
          "text": [
            "Rango: [80, 81, 82, 83, 84, 85, 86, 87, 88, 89, 90, 91, 92, 93, 94, 95, 96, 97, 98, 99]\n",
            "\n",
            "Números aleatorios sin repetición: [82, 96, 98, 97, 90, 83, 81, 85, 99, 88]\n",
            "Lista ordenada: [81, 82, 83, 85, 88, 90, 96, 97, 98, 99]\n"
          ]
        }
      ],
      "source": [
        "# Importa la biblioteca 'random' para generar números aleatorios\n",
        "import random\n",
        "\n",
        "# Crea una lista llamada 'num' que contiene números en el rango de 80 a 99\n",
        "num = []\n",
        "for i in range(80, 100):\n",
        "  num.append(i)\n",
        "\n",
        "# Utiliza la función 'sample' de la biblioteca 'random' para seleccionar 10 números aleatorios sin repetición de la lista 'num'\n",
        "num_ale = random.sample(num, 10)\n",
        "\n",
        "# Ordena la lista de números aleatorios de manera ascendente\n",
        "num_ord = sorted(num_ale)\n",
        "\n",
        "# Muestra en consola la lista original\n",
        "print(f'Rango: {num}')\n",
        "\n",
        "# Muestra en consola la lista de números aleatorios sin repetición\n",
        "print(f'\\nNúmeros aleatorios sin repetición: {num_ale}')\n",
        "\n",
        "# Muestra en consola la lista ordenada de números aleatorios\n",
        "print(f'Lista ordenada: {num_ord}')\n"
      ]
    }
  ]
}