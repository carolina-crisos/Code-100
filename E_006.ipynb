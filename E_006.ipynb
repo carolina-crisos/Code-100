{
  "nbformat": 4,
  "nbformat_minor": 0,
  "metadata": {
    "colab": {
      "provenance": [],
      "authorship_tag": "ABX9TyPnaallwaCqFIP5iAJvdXIX",
      "include_colab_link": true
    },
    "kernelspec": {
      "name": "python3",
      "display_name": "Python 3"
    },
    "language_info": {
      "name": "python"
    }
  },
  "cells": [
    {
      "cell_type": "markdown",
      "metadata": {
        "id": "view-in-github",
        "colab_type": "text"
      },
      "source": [
        "<a href=\"https://colab.research.google.com/github/carolina-crisos/Code-100/blob/main/E_006.ipynb\" target=\"_parent\"><img src=\"https://colab.research.google.com/assets/colab-badge.svg\" alt=\"Open In Colab\"/></a>"
      ]
    },
    {
      "cell_type": "markdown",
      "source": [
        "**Obtener el primer y el ultimo elemento de una lista**"
      ],
      "metadata": {
        "id": "dJPKTkjAJhdS"
      }
    },
    {
      "cell_type": "code",
      "execution_count": null,
      "metadata": {
        "id": "pqc64YeiJXzJ",
        "colab": {
          "base_uri": "https://localhost:8080/"
        },
        "outputId": "85d30e15-85ed-43c5-e150-949c1dcb03c7"
      },
      "outputs": [
        {
          "output_type": "stream",
          "name": "stdout",
          "text": [
            "microondas\n",
            "ollas\n"
          ]
        }
      ],
      "source": [
        "cocina = ['microondas','sartenes','refrigerador','alacena', 'ollas']\n",
        "\n",
        "# Mostramos mediante los indices\n",
        "print(cocina[0])\n",
        "print(cocina[-1])"
      ]
    }
  ]
}