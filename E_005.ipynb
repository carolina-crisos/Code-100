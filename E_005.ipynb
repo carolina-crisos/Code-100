{
  "nbformat": 4,
  "nbformat_minor": 0,
  "metadata": {
    "colab": {
      "provenance": [],
      "authorship_tag": "ABX9TyNp7SmUSGUWy8Yj4klMmfol",
      "include_colab_link": true
    },
    "kernelspec": {
      "name": "python3",
      "display_name": "Python 3"
    },
    "language_info": {
      "name": "python"
    }
  },
  "cells": [
    {
      "cell_type": "markdown",
      "metadata": {
        "id": "view-in-github",
        "colab_type": "text"
      },
      "source": [
        "<a href=\"https://colab.research.google.com/github/carolina-crisos/Code-100/blob/main/E_005.ipynb\" target=\"_parent\"><img src=\"https://colab.research.google.com/assets/colab-badge.svg\" alt=\"Open In Colab\"/></a>"
      ]
    },
    {
      "cell_type": "markdown",
      "source": [
        "**Obtener la extension de un archivo especificado por el usuario.**"
      ],
      "metadata": {
        "id": "JiljZV9dHxr8"
      }
    },
    {
      "cell_type": "code",
      "execution_count": null,
      "metadata": {
        "colab": {
          "base_uri": "https://localhost:8080/"
        },
        "id": "xHMhOdkCHtaI",
        "outputId": "5a9f47b3-a2b7-488a-8d3e-7368d005f0a0"
      },
      "outputs": [
        {
          "output_type": "stream",
          "name": "stdout",
          "text": [
            "Ingrese nombre del archivo: menu.xp\n",
            "La extension de tu archivo es: xp\n"
          ]
        }
      ],
      "source": [
        "# Pedimos al usuario que ingrese el nombre del archivo\n",
        "\n",
        "archivo = input(\"Ingrese nombre del archivo: \")\n",
        "\n",
        "# Siempre la extension se separa por un punto, lo obtendremos mediante la funcion split()\n",
        "\n",
        "extension = archivo.split('.') # Se guardara en una lista ambos elementos que se separanpor el punto\n",
        "\n",
        "# Mostramos en pantalla la variable extension, que es una lista.\n",
        "print(f'La extension de tu archivo es: {extension[1]}') # Para este caso se imprime el indice 1 del elemento extension"
      ]
    }
  ]
}