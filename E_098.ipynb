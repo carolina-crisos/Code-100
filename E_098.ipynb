{
  "nbformat": 4,
  "nbformat_minor": 0,
  "metadata": {
    "colab": {
      "provenance": [],
      "authorship_tag": "ABX9TyMT1UFFuxhJg8YiYAGrqJ4I",
      "include_colab_link": true
    },
    "kernelspec": {
      "name": "python3",
      "display_name": "Python 3"
    },
    "language_info": {
      "name": "python"
    }
  },
  "cells": [
    {
      "cell_type": "markdown",
      "metadata": {
        "id": "view-in-github",
        "colab_type": "text"
      },
      "source": [
        "<a href=\"https://colab.research.google.com/github/carolina-crisos/Code-100/blob/main/E_098.ipynb\" target=\"_parent\"><img src=\"https://colab.research.google.com/assets/colab-badge.svg\" alt=\"Open In Colab\"/></a>"
      ]
    },
    {
      "cell_type": "markdown",
      "source": [
        "**Página web con Flask**"
      ],
      "metadata": {
        "id": "lbJwV4J1lIwg"
      }
    },
    {
      "cell_type": "code",
      "source": [
        "from flask import Flask, render_template\n",
        "\n",
        "# Crear una aplicación Flask\n",
        "app = Flask(\"sitio\")\n",
        "\n",
        "# Definir la ruta principal que renderiza un template\n",
        "@app.route('/')\n",
        "def sitio_en_python():\n",
        "    return render_template('index.html')\n",
        "\n",
        "# Definir una ruta de ejemplo que devuelve un mensaje de texto\n",
        "@app.route('/ejemplo')\n",
        "def ejemplo_route():\n",
        "    return 'Esto es una página de ejemplo'\n",
        "\n",
        "# Iniciar la aplicación Flask\n",
        "if __name__ == \"__main__\":\n",
        "    # Configurar el modo de depuración, el host y el puerto\n",
        "    app.run(debug=True, host='0.0.0.0', port=5000)\n"
      ],
      "metadata": {
        "id": "LL-xoUUnnNl8"
      },
      "execution_count": null,
      "outputs": []
    },
    {
      "cell_type": "markdown",
      "source": [
        "**Archivo HTML, alojado en carpeta Templates**"
      ],
      "metadata": {
        "id": "q7t5KOqmnPop"
      }
    },
    {
      "cell_type": "code",
      "source": [
        "# index.html\n",
        "\n",
        "<!DOCTYPE html>\n",
        "<html lang=\"en\">\n",
        "<head>\n",
        "    <meta charset=\"UTF-8\">\n",
        "    <meta name=\"viewport\" content=\"width=device-width, initial-scale=1.0\">\n",
        "    <title>Python Web</title>\n",
        "</head>\n",
        "<body>\n",
        "    <h1>Bienvenido a mi sitio web con Python</h1>\n",
        "    <h2>Esto es una página</h2>\n",
        "    <p>Esta es una página web simple creada con Flask.</p>\n",
        "</body>\n",
        "</html>"
      ],
      "metadata": {
        "id": "7yaiG-CqndX7"
      },
      "execution_count": null,
      "outputs": []
    }
  ]
}