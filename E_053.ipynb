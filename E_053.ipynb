{
  "nbformat": 4,
  "nbformat_minor": 0,
  "metadata": {
    "colab": {
      "provenance": [],
      "authorship_tag": "ABX9TyMxg8mBZ7o+n+YAwuqBeaE1",
      "include_colab_link": true
    },
    "kernelspec": {
      "name": "python3",
      "display_name": "Python 3"
    },
    "language_info": {
      "name": "python"
    }
  },
  "cells": [
    {
      "cell_type": "markdown",
      "metadata": {
        "id": "view-in-github",
        "colab_type": "text"
      },
      "source": [
        "<a href=\"https://colab.research.google.com/github/carolina-crisos/Code-100/blob/main/E_053.ipynb\" target=\"_parent\"><img src=\"https://colab.research.google.com/assets/colab-badge.svg\" alt=\"Open In Colab\"/></a>"
      ]
    },
    {
      "cell_type": "markdown",
      "source": [
        "**Adivina el número secreto.\n",
        "Se genera un número aleatorio entero entre 1 y 100. El usuario debe adivinar el número secreto, diciendo en cada tirada si es mayor o menor.**"
      ],
      "metadata": {
        "id": "9M6E-79GKNj6"
      }
    },
    {
      "cell_type": "code",
      "execution_count": null,
      "metadata": {
        "colab": {
          "base_uri": "https://localhost:8080/"
        },
        "id": "WMwLC3VMKK8A",
        "outputId": "ba901e1c-cd7d-4e8f-9933-a72b5e570305"
      },
      "outputs": [
        {
          "output_type": "stream",
          "name": "stdout",
          "text": [
            "Adivina el número secreto, entre 1 y 100.\n",
            "\n",
            "Ingresa un número: 10\n",
            "El número secreto es mayor ⬆️.\n",
            "\n",
            "Ingresa un número: 20\n",
            "El número secreto es mayor ⬆️.\n",
            "\n",
            "Ingresa un número: 60\n",
            "El número secreto es menor.⬇️\n",
            "\n",
            "Ingresa un número: 50\n",
            "El número secreto es menor.⬇️\n",
            "\n",
            "Ingresa un número: 40\n",
            "El número secreto es menor.⬇️\n",
            "\n",
            "Ingresa un número: 30\n",
            "El número secreto es menor.⬇️\n",
            "\n",
            "Ingresa un número: 22\n",
            "El número secreto es mayor ⬆️.\n",
            "\n",
            "Ingresa un número: 29\n",
            "El número secreto es menor.⬇️\n",
            "\n",
            "Ingresa un número: 25\n",
            "El número secreto es menor.⬇️\n",
            "\n",
            "Ingresa un número: 23\n",
            "Correcto! El número secreto es: 23✅\n",
            "Y lo has adivinado en 10 intentos.\n"
          ]
        }
      ],
      "source": [
        "# Importa el módulo para generar un número aleatorio.\n",
        "import random\n",
        "\n",
        "# Imprime mensaje de bienvenida.\n",
        "print('Adivina el número secreto, entre 1 y 100.')\n",
        "\n",
        "# Genera un número aleatorio y lo guarda en la variable 'num'.\n",
        "num = random.randint(1, 100)\n",
        "\n",
        "# Inicializa el contador de intentos en 1.\n",
        "c = 1\n",
        "\n",
        "# Inicia un bucle infinito para permitir al usuario adivinar el número.\n",
        "while True:\n",
        "  # Solicita al usuario.\n",
        "  usuario = int(input('\\nIngresa un número: '))\n",
        "\n",
        "  # Compara el número ingresado con el número secreto.\n",
        "  if usuario < num:\n",
        "    print('El número secreto es mayor ⬆️.')\n",
        "    c += 1\n",
        "    continue\n",
        "  elif usuario > num:\n",
        "    print('El número secreto es menor.⬇️')\n",
        "    c += 1\n",
        "    continue\n",
        "  else:\n",
        "    # Si el número coincide, imprime un mensaje y termina el bucle.\n",
        "    print(f'Correcto! El número secreto es: {num}✅')\n",
        "    break\n",
        "\n",
        "# Imprime el número de intentos que le tomó al usuario adivinar.\n",
        "print(f'Y lo has adivinado en {c} intentos.')\n"
      ]
    }
  ]
}