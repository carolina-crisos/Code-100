{
  "nbformat": 4,
  "nbformat_minor": 0,
  "metadata": {
    "colab": {
      "provenance": [],
      "authorship_tag": "ABX9TyMM12QA4kvQpQ82kTzcSuyT",
      "include_colab_link": true
    },
    "kernelspec": {
      "name": "python3",
      "display_name": "Python 3"
    },
    "language_info": {
      "name": "python"
    }
  },
  "cells": [
    {
      "cell_type": "markdown",
      "metadata": {
        "id": "view-in-github",
        "colab_type": "text"
      },
      "source": [
        "<a href=\"https://colab.research.google.com/github/carolina-crisos/Code-100/blob/main/E_003.ipynb\" target=\"_parent\"><img src=\"https://colab.research.google.com/assets/colab-badge.svg\" alt=\"Open In Colab\"/></a>"
      ]
    },
    {
      "cell_type": "markdown",
      "source": [
        "**Obtener una representacion inversa de una cadena de caracteres.**"
      ],
      "metadata": {
        "id": "ZCplmugmB66G"
      }
    },
    {
      "cell_type": "code",
      "execution_count": null,
      "metadata": {
        "colab": {
          "base_uri": "https://localhost:8080/"
        },
        "id": "izJ-lmlzBu-W",
        "outputId": "71f2aa42-6510-44ed-e460-30d6d2a87963"
      },
      "outputs": [
        {
          "output_type": "stream",
          "name": "stdout",
          "text": [
            "!odnuM aloH\n"
          ]
        }
      ],
      "source": [
        "# Asignemos a una variable una cadena de texto (str)\n",
        "palabra = \"Hola Mundo!\"\n",
        "\n",
        "# Usamos slice, slicing: se extraen elementos de una secuencia, tal como una lista o una cadena de caracteres\n",
        "print(palabra[::-1])\n",
        "\n",
        "# Sintaxis general de este iterable \"iterable[inicio:fin:paso]\"\""
      ]
    }
  ]
}