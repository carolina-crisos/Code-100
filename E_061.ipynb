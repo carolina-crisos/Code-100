{
  "nbformat": 4,
  "nbformat_minor": 0,
  "metadata": {
    "colab": {
      "provenance": [],
      "authorship_tag": "ABX9TyNZ34121vCjLUEGegHBAeki",
      "include_colab_link": true
    },
    "kernelspec": {
      "name": "python3",
      "display_name": "Python 3"
    },
    "language_info": {
      "name": "python"
    }
  },
  "cells": [
    {
      "cell_type": "markdown",
      "metadata": {
        "id": "view-in-github",
        "colab_type": "text"
      },
      "source": [
        "<a href=\"https://colab.research.google.com/github/carolina-crisos/Code-100/blob/main/E_061.ipynb\" target=\"_parent\"><img src=\"https://colab.research.google.com/assets/colab-badge.svg\" alt=\"Open In Colab\"/></a>"
      ]
    },
    {
      "cell_type": "markdown",
      "source": [
        "**Desafío: Números felices: Un número feliz es un número que, en una secuencia de sumas de cuadrados de sus dígitos, eventualmente llega a 1. Por ejemplo, 19 es un número feliz porque**\n",
        "\n",
        "![image.png](data:image/png;base64,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)\n"
      ],
      "metadata": {
        "id": "92c6-U6gqJ-M"
      }
    },
    {
      "cell_type": "code",
      "execution_count": null,
      "metadata": {
        "id": "1ZNrZgCApvou",
        "colab": {
          "base_uri": "https://localhost:8080/"
        },
        "outputId": "a81b67d0-5924-4210-e23d-d8eadf289138"
      },
      "outputs": [
        {
          "output_type": "stream",
          "name": "stdout",
          "text": [
            "Números felices (entre 1 y 100): \n",
            "- 1\n",
            "- 7\n",
            "- 10\n",
            "- 13\n",
            "- 19\n",
            "- 23\n",
            "- 28\n",
            "- 31\n",
            "- 32\n",
            "- 44\n",
            "- 49\n",
            "- 68\n",
            "- 70\n",
            "- 79\n",
            "- 82\n",
            "- 86\n",
            "- 91\n",
            "- 94\n",
            "- 97\n",
            "- 100\n"
          ]
        }
      ],
      "source": [
        "def suma_cuadrados(num):\n",
        "  # Convierte el número en una lista de dígitos y eleva cada dígito al cuadrado\n",
        "  digitos = [int(d) for d in str(num)]\n",
        "  suma = sum(d ** 2 for d in digitos)\n",
        "\n",
        "  return suma\n",
        "\n",
        "def es_feliz(num):\n",
        "  # Conjunto para almacenar los números en la secuencia y evitar bucles infinitos\n",
        "  conjunto = set()\n",
        "\n",
        "  # Itera mientras el número no sea 1 (indicando que es feliz) y no esté en el conjunto\n",
        "  while num != 1 and num not in conjunto:\n",
        "    conjunto.add(num)\n",
        "    # Calcula la suma de los cuadrados de los dígitos del número\n",
        "    num = suma_cuadrados(num)\n",
        "\n",
        "  # Devuelve True si el número es feliz, False en caso contrario\n",
        "  return num == 1\n",
        "\n",
        "# Imprime los números felices en el rango de 1 a 100\n",
        "print('Números felices (entre 1 y 100): ')\n",
        "for num in range(101):\n",
        "  if es_feliz(num):\n",
        "    print('-', num)\n",
        "\n"
      ]
    }
  ]
}