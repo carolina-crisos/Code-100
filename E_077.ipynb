{
  "nbformat": 4,
  "nbformat_minor": 0,
  "metadata": {
    "colab": {
      "provenance": [],
      "authorship_tag": "ABX9TyMVrevFrz5eLSV4gOkBEuBi",
      "include_colab_link": true
    },
    "kernelspec": {
      "name": "python3",
      "display_name": "Python 3"
    },
    "language_info": {
      "name": "python"
    }
  },
  "cells": [
    {
      "cell_type": "markdown",
      "metadata": {
        "id": "view-in-github",
        "colab_type": "text"
      },
      "source": [
        "<a href=\"https://colab.research.google.com/github/carolina-crisos/Code-100/blob/main/E_077.ipynb\" target=\"_parent\"><img src=\"https://colab.research.google.com/assets/colab-badge.svg\" alt=\"Open In Colab\"/></a>"
      ]
    },
    {
      "cell_type": "markdown",
      "source": [
        "**Comprobar si Múltiples Variables Contienen el Mismo Valor**"
      ],
      "metadata": {
        "id": "4DolBj1foKnG"
      }
    },
    {
      "cell_type": "code",
      "execution_count": null,
      "metadata": {
        "id": "nIqeLFEpILqG",
        "colab": {
          "base_uri": "https://localhost:8080/"
        },
        "outputId": "6c212bc6-e72f-4154-aa3c-e0367aedf7ac"
      },
      "outputs": [
        {
          "output_type": "stream",
          "name": "stdout",
          "text": [
            "20 20 20\n",
            "Todas las variables tienen el mismo valor.\n"
          ]
        }
      ],
      "source": [
        "# Asignación de valores a las variables x, y, y z\n",
        "x = 20\n",
        "y = 20\n",
        "z = 20\n",
        "\n",
        "# Imprime los valores de x, y, y z\n",
        "print(x, y, z)\n",
        "\n",
        "# Verifica si todas las variables tienen el mismo valor\n",
        "if x == y == z:\n",
        "    print(\"Todas las variables tienen el mismo valor.\")\n",
        "else:\n",
        "    print(\"Las variables no tienen el mismo valor.\")\n"
      ]
    }
  ]
}