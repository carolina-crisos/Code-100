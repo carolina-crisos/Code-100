{
  "nbformat": 4,
  "nbformat_minor": 0,
  "metadata": {
    "colab": {
      "provenance": [],
      "authorship_tag": "ABX9TyOfZ/9fo+Vhb6n7ikCvHOLm",
      "include_colab_link": true
    },
    "kernelspec": {
      "name": "python3",
      "display_name": "Python 3"
    },
    "language_info": {
      "name": "python"
    }
  },
  "cells": [
    {
      "cell_type": "markdown",
      "metadata": {
        "id": "view-in-github",
        "colab_type": "text"
      },
      "source": [
        "<a href=\"https://colab.research.google.com/github/carolina-crisos/Code-100/blob/main/E_031.ipynb\" target=\"_parent\"><img src=\"https://colab.research.google.com/assets/colab-badge.svg\" alt=\"Open In Colab\"/></a>"
      ]
    },
    {
      "cell_type": "markdown",
      "source": [
        "**Sumar dos números. Si la suma se halla entre 10 y 30, retornar 30**"
      ],
      "metadata": {
        "id": "l5_c0cgpDZjD"
      }
    },
    {
      "cell_type": "code",
      "source": [
        "# Bucle que se ejecuta infinitamente hasta que se rompe explícitamente.\n",
        "while True:\n",
        "    try:\n",
        "        # Convertir la entrada del usuario en números enteros.\n",
        "        num_uno = int(input(\"Ingrese un número entero: \"))\n",
        "        num_dos = int(input(\"Ingrese otro número entero: \"))\n",
        "\n",
        "        # Calculo de la suma de los números ingresados.\n",
        "        suma = num_uno + num_dos\n",
        "\n",
        "        # Comprueba si la suma está en el rango de 10 a 30 (inclusive).\n",
        "        if suma >= 10 and suma <= 30:\n",
        "            # Si la suma está en el rango, establece la suma en 30 y muestra el resultado.\n",
        "            suma = 30\n",
        "            print(suma)\n",
        "        else:\n",
        "            # Si la suma no está en el rango, muestra la suma calculada.\n",
        "            print(f'La suma entre {num_uno} y {num_dos} es: {suma}')\n",
        "\n",
        "        # Pregunta al usuario si desea ingresar nuevos números.\n",
        "        ciclo = input(\"¿Deseas ingresar nuevos números? s/n: \")\n",
        "\n",
        "        # Si la respuesta del usuario es 's' (sí), el bucle continúa ejecutándose.\n",
        "        if ciclo.lower() == 's':\n",
        "            continue\n",
        "        else:\n",
        "            # Si la respuesta del usuario no es 's', imprime un mensaje y rompe el bucle.\n",
        "            print(\"Fin del programa.\")\n",
        "            break\n",
        "    except ValueError:\n",
        "        # Si se produce un error al intentar convertir la entrada en números enteros, imprime un mensaje de error.\n",
        "        print(\"Error: Ingresa números enteros válidos.\")\n"
      ],
      "metadata": {
        "id": "6gwnsIR5Fe1s",
        "colab": {
          "base_uri": "https://localhost:8080/"
        },
        "outputId": "5f0ff93c-74e3-4214-ab45-dd1b79a7e8be"
      },
      "execution_count": null,
      "outputs": [
        {
          "output_type": "stream",
          "name": "stdout",
          "text": [
            "Ingrese un número entero: 5\n",
            "Ingrese otro número entero: 1\n",
            "La suma entre 5 y 1 es: 6\n",
            "¿Deseas ingresar nuevos números? s/n: s\n",
            "Ingrese un número entero: ab\n",
            "Error: Ingresa números enteros válidos.\n",
            "Ingrese un número entero: 10\n",
            "Ingrese otro número entero: 18\n",
            "30\n",
            "¿Deseas ingresar nuevos números? s/n: n\n",
            "Fin del programa.\n"
          ]
        }
      ]
    }
  ]
}