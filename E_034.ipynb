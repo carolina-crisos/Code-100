{
  "nbformat": 4,
  "nbformat_minor": 0,
  "metadata": {
    "colab": {
      "provenance": [],
      "authorship_tag": "ABX9TyOwTY9bWCaStjWeBIVVP7il",
      "include_colab_link": true
    },
    "kernelspec": {
      "name": "python3",
      "display_name": "Python 3"
    },
    "language_info": {
      "name": "python"
    }
  },
  "cells": [
    {
      "cell_type": "markdown",
      "metadata": {
        "id": "view-in-github",
        "colab_type": "text"
      },
      "source": [
        "<a href=\"https://colab.research.google.com/github/carolina-crisos/Code-100/blob/main/E_034.ipynb\" target=\"_parent\"><img src=\"https://colab.research.google.com/assets/colab-badge.svg\" alt=\"Open In Colab\"/></a>"
      ]
    },
    {
      "cell_type": "markdown",
      "source": [
        "EL \"LENGUAJE HACKER\""
      ],
      "metadata": {
        "id": "sZDZSn7QKGi9"
      }
    },
    {
      "cell_type": "markdown",
      "source": [
        " Escribe un programa que reciba un texto y transforme lenguaje natural a \"lenguaje hacker\" (conocido realmente como \"leet\" o \"1337\"). Este lenguaje se caracteriza por sustituir caracteres alfanuméricos.\n",
        " - Utiliza esta tabla (https://www.gamehouse.com/blog/leet-speak-cheat-sheet/) con el alfabeto y los números en \"leet\".\n",
        "(Usa la primera opción de cada transformación. Por ejemplo \"4\" para la \"a\")"
      ],
      "metadata": {
        "id": "bVwj8J5ZKLnR"
      }
    },
    {
      "cell_type": "code",
      "execution_count": null,
      "metadata": {
        "colab": {
          "base_uri": "https://localhost:8080/"
        },
        "id": "LfETJ03gKFyJ",
        "outputId": "c79aa581-14e2-422c-dce7-1d5abcf134ec"
      },
      "outputs": [
        {
          "output_type": "stream",
          "name": "stdout",
          "text": [
            "Bienvenido al conversor a lenguaje hacker.\n",
            "Ingresa una frase: Recuerda, el aprendizaje es acumulativo.\n",
            "I23[(_)3I2)4, 3£ 4|*I23^/)124,_|3 35 4[(_)JVI(_)£471\\/0."
          ]
        }
      ],
      "source": [
        "leet = {\n",
        "    'A': '4', 'B': 'I3', 'C': '[', 'D': ')', 'E': '3',\n",
        "    'F': '|=', 'G': '&', 'H': '#', 'I': '1', 'J': ',_|',\n",
        "    'K': '>|', 'L': '£', 'M': 'JVI', 'N': '^/', 'O': '0',\n",
        "    'P': '|*', 'Q': '(_,)', 'R': 'I2', 'S': '5', 'T': '7',\n",
        "    'U': '(_)', 'V': '\\/', 'W': '\\/\\/', 'X': '><', 'Y': 'j',\n",
        "    'Z': '2', ' ': ' ', ',': ',', '.': '.'\n",
        "}\n",
        "\n",
        "print('Bienvenido al conversor a lenguaje hacker.')\n",
        "frase_usuario = input('Ingresa una frase: ')\n",
        "\n",
        "\n",
        "for i in frase_usuario:\n",
        "  for letra, valor in leet.items():\n",
        "    if i.upper() == letra:\n",
        "      print(valor, end=\"\")\n",
        "\n",
        "\n",
        "\n",
        "\n"
      ]
    }
  ]
}