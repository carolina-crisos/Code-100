{
  "nbformat": 4,
  "nbformat_minor": 0,
  "metadata": {
    "colab": {
      "provenance": [],
      "authorship_tag": "ABX9TyMfjUPD/olpGvoD+uWAiXQC",
      "include_colab_link": true
    },
    "kernelspec": {
      "name": "python3",
      "display_name": "Python 3"
    },
    "language_info": {
      "name": "python"
    }
  },
  "cells": [
    {
      "cell_type": "markdown",
      "metadata": {
        "id": "view-in-github",
        "colab_type": "text"
      },
      "source": [
        "<a href=\"https://colab.research.google.com/github/carolina-crisos/Code-100/blob/main/E_050.ipynb\" target=\"_parent\"><img src=\"https://colab.research.google.com/assets/colab-badge.svg\" alt=\"Open In Colab\"/></a>"
      ]
    },
    {
      "cell_type": "markdown",
      "source": [
        "**Escribir un pequeño programa donde:**\n",
        "- Se ingresa el año en curso\n",
        "- Se ingresa el nombre y el año de nacimiento de tres personas.\n",
        "- Se calcula cuántos años cumplirán durante el año en curso.\n",
        "- Se imprime en pantalla."
      ],
      "metadata": {
        "id": "NfKsEpt_NhQ_"
      }
    },
    {
      "cell_type": "code",
      "source": [
        "from datetime import datetime, date\n",
        "\n",
        "while True:\n",
        "  person = input('Ingresa tu fecha de nacimiento (dd/mm/aaaa): ')\n",
        "  try:\n",
        "    fecha_user = datetime.strptime(person, '%d/%m/%Y').date()\n",
        "    break\n",
        "  except ValueError:\n",
        "    print('Formato de fecha no valido. Intentalo de nuevo.')\n",
        "    continue\n",
        "\n",
        "edad = date.today().year - fecha_user.year\n",
        "\n",
        "print(f'Este año cumples {edad} años.')"
      ],
      "metadata": {
        "colab": {
          "base_uri": "https://localhost:8080/"
        },
        "id": "31f0-ENwOzHF",
        "outputId": "528787d1-0314-4ea3-d534-51b063d485ec"
      },
      "execution_count": null,
      "outputs": [
        {
          "output_type": "stream",
          "name": "stdout",
          "text": [
            "Ingresa tu fecha de nacimiento (dd/mm/aaaa): 13/10/1999\n",
            "Este año cumples 24 años.\n"
          ]
        }
      ]
    }
  ]
}