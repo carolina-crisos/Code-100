{
  "nbformat": 4,
  "nbformat_minor": 0,
  "metadata": {
    "colab": {
      "provenance": [],
      "authorship_tag": "ABX9TyMRykzijj15P2bxwjhwLAFf",
      "include_colab_link": true
    },
    "kernelspec": {
      "name": "python3",
      "display_name": "Python 3"
    },
    "language_info": {
      "name": "python"
    }
  },
  "cells": [
    {
      "cell_type": "markdown",
      "metadata": {
        "id": "view-in-github",
        "colab_type": "text"
      },
      "source": [
        "<a href=\"https://colab.research.google.com/github/carolina-crisos/Code-100/blob/main/E_076.ipynb\" target=\"_parent\"><img src=\"https://colab.research.google.com/assets/colab-badge.svg\" alt=\"Open In Colab\"/></a>"
      ]
    },
    {
      "cell_type": "markdown",
      "source": [
        "**Calcular el Producto de los Elementos de una Lista sin Usar un Ciclo for**"
      ],
      "metadata": {
        "id": "AHlpThSB6vLo"
      }
    },
    {
      "cell_type": "code",
      "execution_count": null,
      "metadata": {
        "colab": {
          "base_uri": "https://localhost:8080/"
        },
        "id": "2qmDt81T6ocH",
        "outputId": "138fb427-156e-45ae-81f8-0751251f8bae"
      },
      "outputs": [
        {
          "output_type": "stream",
          "name": "stdout",
          "text": [
            "12000000\n"
          ]
        }
      ],
      "source": [
        "# Importa módulo 'functools'\n",
        "import functools\n",
        "\n",
        "# Lista de números\n",
        "num = [10, 20, 30, 40, 50]\n",
        "\n",
        "# Utiliza la función 'reduce' para multiplicar todos los elementos de la lista\n",
        "resultado = functools.reduce(lambda x, y: x * y, num)\n",
        "\n",
        "# Imprime el resultado de la multiplicación\n",
        "print(resultado)\n"
      ]
    }
  ]
}