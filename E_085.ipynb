{
  "nbformat": 4,
  "nbformat_minor": 0,
  "metadata": {
    "colab": {
      "provenance": [],
      "authorship_tag": "ABX9TyM641Agfwv4luO3fTCYypqf",
      "include_colab_link": true
    },
    "kernelspec": {
      "name": "python3",
      "display_name": "Python 3"
    },
    "language_info": {
      "name": "python"
    }
  },
  "cells": [
    {
      "cell_type": "markdown",
      "metadata": {
        "id": "view-in-github",
        "colab_type": "text"
      },
      "source": [
        "<a href=\"https://colab.research.google.com/github/carolina-crisos/Code-100/blob/main/E_085.ipynb\" target=\"_parent\"><img src=\"https://colab.research.google.com/assets/colab-badge.svg\" alt=\"Open In Colab\"/></a>"
      ]
    },
    {
      "cell_type": "markdown",
      "source": [
        "**Mi primer red neuronal - Ringa Tech**"
      ],
      "metadata": {
        "id": "4LQROCKGAGtV"
      }
    },
    {
      "cell_type": "code",
      "execution_count": null,
      "metadata": {
        "colab": {
          "base_uri": "https://localhost:8080/"
        },
        "id": "SRGW_mrSAEuC",
        "outputId": "b2d5ede0-e2a0-4897-b319-2540af7acac4"
      },
      "outputs": [
        {
          "output_type": "stream",
          "name": "stdout",
          "text": [
            "Comenzando entrenamiento...\n",
            "Modelo entrenado!\n"
          ]
        }
      ],
      "source": [
        "# Conversor Celsius - Fahrenheit\n",
        "# Importar las bibliotecas necesarias\n",
        "import tensorflow as tf\n",
        "import numpy as np\n",
        "\n",
        "# Datos de entrada y salida\n",
        "celsius = np.array([-40, -10, 0, 8, 15, 22, 38], dtype = float)\n",
        "fahrenheit = np.array([-40, 14, 32, 46, 59, 72, 100], dtype = float)\n",
        "\n",
        "# Definir una capa densa (una neurona) para el modelo\n",
        "capa = tf.keras.layers.Dense(units = 1, input_shape = [1])\n",
        "\n",
        "# Crear un modelo secuencial con la capa definida anteriormente\n",
        "modelo = tf.keras.Sequential([capa])\n",
        "\n",
        "# Compilar el modelo\n",
        "modelo.compile(\n",
        "    optimizer = tf.keras.optimizers.Adam(0.1),  # Optimizador: Descenso de Gradiente Adam\n",
        "    loss = 'mean_squared_error'  # Función de pérdida: Error cuadrático medio\n",
        ")\n",
        "\n",
        "# Imprimir mensaje de inicio de entrenamiento\n",
        "print('Comenzando entrenamiento...')\n",
        "\n",
        "# Entrenar el modelo con los datos de entrada y salida\n",
        "historial = modelo.fit(celsius, fahrenheit, epochs=1000, verbose=False)\n",
        "\n",
        "# Imprimir mensaje de fin de entrenamiento\n",
        "print('Modelo entrenado!')\n"
      ]
    },
    {
      "cell_type": "code",
      "source": [
        "# Importar la biblioteca Matplotlib\n",
        "import matplotlib.pyplot as plt\n",
        "\n",
        "# Configurar etiquetas del gráfico\n",
        "plt.xlabel('# Epoca')  # Etiqueta del eje x\n",
        "plt.ylabel('Magnitud de pérdida')  # Etiqueta del eje y\n",
        "\n",
        "# Graficar la magnitud de pérdida a lo largo de las épocas\n",
        "plt.plot(historial.history['loss'])\n",
        "\n",
        "# Mostrar el gráfico\n",
        "plt.show()\n"
      ],
      "metadata": {
        "colab": {
          "base_uri": "https://localhost:8080/",
          "height": 449
        },
        "id": "Wa_69UvrF9Ls",
        "outputId": "e70789f9-c59e-4043-8c00-e4d8727c5dd1"
      },
      "execution_count": null,
      "outputs": [
        {
          "output_type": "display_data",
          "data": {
            "text/plain": [
              "<Figure size 640x480 with 1 Axes>"
            ],
            "image/png": "[encoded data removed]"
          },
          "metadata": {}
        }
      ]
    },
    {
      "cell_type": "code",
      "source": [
        "# Imprimir mensaje de predicción\n",
        "print('Predicción:')\n",
        "\n",
        "# Realizar la predicción utilizando el modelo para el valor 100.0 en Celsius\n",
        "resultado = modelo.predict([100.0])\n",
        "\n",
        "# Imprimir el resultado de la predicción\n",
        "print(f'El resultado es: {str(resultado)} fahrenheit!')"
      ],
      "metadata": {
        "colab": {
          "base_uri": "https://localhost:8080/"
        },
        "id": "hELPleAkGg7b",
        "outputId": "e946c91e-1403-41a1-98b2-25f2a39f7507"
      },
      "execution_count": null,
      "outputs": [
        {
          "output_type": "stream",
          "name": "stdout",
          "text": [
            "Predicción:\n",
            "1/1 [==============================] - 0s 57ms/step\n",
            "El resultado es: [[211.74153]] fahrenheit!\n"
          ]
        }
      ]
    },
    {
      "cell_type": "code",
      "source": [
        "# Imprimir mensaje\n",
        "print('Variables internas del modelo')\n",
        "\n",
        "# Obtener y mostrar los pesos y sesgos de la capa\n",
        "print(capa.get_weights())\n"
      ],
      "metadata": {
        "colab": {
          "base_uri": "https://localhost:8080/"
        },
        "id": "mXtzGwPmIIxw",
        "outputId": "d1745f16-3609-45e7-f2a0-c2199ae7db0b"
      },
      "execution_count": null,
      "outputs": [
        {
          "output_type": "stream",
          "name": "stdout",
          "text": [
            "Variables internas del modelo\n",
            "[array([[1.79832]], dtype=float32), array([31.909527], dtype=float32)]\n"
          ]
        }
      ]
    },
    {
      "cell_type": "markdown",
      "source": [
        "**Peso (array([[1.79832]], dtype=float32)): Representa el peso de la conexión entre la entrada y la neurona de salida. En este modelo, es un solo peso y tiene un valor aproximado de 1.79832.**\n",
        "\n",
        "**Sesgo (array([31.909527], dtype=float32)): Representa el sesgo de la neurona de salida. Es un término adicional que se suma al resultado ponderado de las características de entrada. En este caso, el sesgo tiene un valor aproximado de 31.909527.**"
      ],
      "metadata": {
        "id": "BWhR600sLtT_"
      }
    }
  ]
}