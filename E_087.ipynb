{
  "nbformat": 4,
  "nbformat_minor": 0,
  "metadata": {
    "colab": {
      "provenance": [],
      "authorship_tag": "ABX9TyO3oZtzb76GXy58lITModHe",
      "include_colab_link": true
    },
    "kernelspec": {
      "name": "python3",
      "display_name": "Python 3"
    },
    "language_info": {
      "name": "python"
    }
  },
  "cells": [
    {
      "cell_type": "markdown",
      "metadata": {
        "id": "view-in-github",
        "colab_type": "text"
      },
      "source": [
        "<a href=\"https://colab.research.google.com/github/carolina-crisos/Code-100/blob/main/E_087.ipynb\" target=\"_parent\"><img src=\"https://colab.research.google.com/assets/colab-badge.svg\" alt=\"Open In Colab\"/></a>"
      ]
    },
    {
      "cell_type": "markdown",
      "source": [
        "**Extraer datos de tablas en páginas web**"
      ],
      "metadata": {
        "id": "_0wK8ZiEOD-X"
      }
    },
    {
      "cell_type": "code",
      "execution_count": null,
      "metadata": {
        "id": "q_y0LSkYhSJW",
        "colab": {
          "base_uri": "https://localhost:8080/"
        },
        "outputId": "88347912-5e08-43af-c4af-386e4038efa7"
      },
      "outputs": [
        {
          "output_type": "stream",
          "name": "stdout",
          "text": [
            "Requirement already satisfied: pandas in /usr/local/lib/python3.10/dist-packages (1.5.3)\n",
            "Requirement already satisfied: python-dateutil>=2.8.1 in /usr/local/lib/python3.10/dist-packages (from pandas) (2.8.2)\n",
            "Requirement already satisfied: pytz>=2020.1 in /usr/local/lib/python3.10/dist-packages (from pandas) (2023.3.post1)\n",
            "Requirement already satisfied: numpy>=1.21.0 in /usr/local/lib/python3.10/dist-packages (from pandas) (1.23.5)\n",
            "Requirement already satisfied: six>=1.5 in /usr/local/lib/python3.10/dist-packages (from python-dateutil>=2.8.1->pandas) (1.16.0)\n",
            "                                   Economía de México  ...                               Economía de México.2\n",
            "0                                             Bandera  ...                                            Bandera\n",
            "1   Ciudad de México. Vista de uno de los distrito...  ...  Ciudad de México. Vista de uno de los distrito...\n",
            "2                                              Moneda  ...                          peso mexicano (MXN, Mex$)\n",
            "3                                       Banco central  ...                                    Banco de México\n",
            "4                                      Organizaciones  ...   USMCA, Alianza del Pacífico, G20, FMI, OMC, OCDE\n",
            "5                                  Mercado de valores  ...  Bolsa Mexicana de Valores Bolsa Institucional ...\n",
            "6                                               Grupo  ...  Desarrollando/Emergente[1]​ Ingreso mediano al...\n",
            "7                                        Estadísticas  ...                                       Estadísticas\n",
            "8                                       PIB (nominal)  ...         $1,810,000 millones (2023 est.)[3]​ (13.º)\n",
            "9                                           PIB (PPA)  ...         $3.280.000 millones (2023 est.)[4]​ (11.º)\n",
            "10                                  Variación del PIB  ...  +2,2% (2018) −0,1% (2019) -8,2 (2020) +5,8% (2...\n",
            "11                           PIB per cápita (nominal)  ...                     $13,800 (2023 est.)[7]​ (67.º)\n",
            "12                               PIB per cápita (PPA)  ...                     $24 980 (2023 est.)[8]​ (63.º)\n",
            "13                                   PIB por sectores  ...  Primario: 4,1% Secundario: 34,2% Terciario: 61...\n",
            "14                                     Tasa de cambio  ...          1 dólar (USD) = 17.08 peso mexicano (MXN)\n",
            "15                                    Inflación (IPC)  ...                                3% (2021 est.)[10]​\n",
            "16                                                IDH  ...  0,779 alto (2019)[11]​ (76.°)  0,613 medio IDH...\n",
            "17                 Población bajo la línea de pobreza  ...  36,3% en pobreza (2022 est.)[13]​  7,1% en pob...\n",
            "18                                      Coef. de Gini  ...                          0.415 (2020)[15]​ - Medio\n",
            "19                                     Fuerza Laboral  ...  60,216,432 de personas (2023 2T)[16]​[17]​  60...\n",
            "20                                          Desempleo  ...  2,8% (2023 2T)[20]​[21]​  3,5% (septiembre 201...\n",
            "21            Índice de facilidad para hacer negocios  ...                                 60.º (fácil, 2020)\n",
            "22                                           Comercio  ...                                           Comercio\n",
            "23                                      Exportaciones  ...                      $574 mil millones (2022)[22]​\n",
            "24                               Productos exportados  ...  (Cifras de 2021)[23]​  Máquinas y electrónica ...\n",
            "25                           Destino de exportaciones  ...  (Cifras de 2021)[23]​  Estados Unidos 76.2% Ca...\n",
            "26                                      Importaciones  ...                      $600 mil millones (2022)[24]​\n",
            "27                               Productos importados  ...  (Cifras de 2021)[25]​ Máquinas y electrónica 3...\n",
            "28                            Origen de importaciones  ...  (Cifras de 2021)[25]​  Estados Unidos 53.8% Ch...\n",
            "29                                  Finanzas Públicas  ...                                  Finanzas Públicas\n",
            "30                  Deuda externa (pública y privada)  ...          412.3 mil millones de dólares (2016)[26]​\n",
            "31                              Deuda externa privada  ...          132.6 mil millones de dólares (2016)[26]​\n",
            "32                              Deuda externa pública  ...          172.8 mil millones de dólares (2016)[26]​\n",
            "33                           Reservas internacionales  ...              196,146 millones (junio de 2020)[27]​\n",
            "34  Salvo que se indique lo contrario, los valores...  ...  Salvo que se indique lo contrario, los valores...\n",
            "35                         [editar datos en Wikidata]  ...                         [editar datos en Wikidata]\n",
            "\n",
            "[36 rows x 3 columns]\n",
            "                  Crecimiento promedio anual del PIB  ... Crecimiento promedio anual del PIB.2\n",
            "0                                                NaN  ...                                  NaN\n",
            "1  Gobernadora del Banco de México, Victoria Rodr...  ...                                  NaN\n",
            "2                                          1900-1929  ...                                  NaN\n",
            "3                                          1929-1945  ...                                  NaN\n",
            "4                                          1945-1972  ...                                  NaN\n",
            "5                                          1972-1981  ...                                  NaN\n",
            "6                                          1981-1996  ...                                  NaN\n",
            "7                                          1995-2000  ...                                  NaN\n",
            "8  Fuentes:IMEF[40]​ y Mexico's Domestic Economy[...  ...                                  NaN\n",
            "9                                                NaN  ...                                  NaN\n",
            "\n",
            "[10 rows x 3 columns]\n"
          ]
        }
      ],
      "source": [
        "# Instalar la biblioteca Pandas\n",
        "!pip install pandas\n",
        "\n",
        "# Importar la biblioteca Pandas\n",
        "import pandas as pd\n",
        "import requests\n",
        "\n",
        "# Definir la URL de la página de Wikipedia\n",
        "url = \"https://es.wikipedia.org/wiki/Econom%C3%ADa_de_M%C3%A9xico\"\n",
        "\n",
        "# Realizar una solicitud GET a la URL\n",
        "respuesta = requests.get(url)\n",
        "\n",
        "# Utilizar la función read_html para extraer las tablas de la página\n",
        "tablas = pd.read_html(respuesta.text)\n",
        "\n",
        "# Supongamos que estás interesado en la primera tabla en la página\n",
        "primera_tabla = tablas[0]\n",
        "segunda_tabla = tablas[1]\n",
        "\n",
        "# Imprimir el DataFrame de la primera tabla\n",
        "print(primera_tabla)\n",
        "print(segunda_tabla)\n"
      ]
    }
  ]
}