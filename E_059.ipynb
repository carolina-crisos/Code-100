{
  "nbformat": 4,
  "nbformat_minor": 0,
  "metadata": {
    "colab": {
      "provenance": [],
      "authorship_tag": "ABX9TyMd+i5y795CbpMddpyhq1Qn",
      "include_colab_link": true
    },
    "kernelspec": {
      "name": "python3",
      "display_name": "Python 3"
    },
    "language_info": {
      "name": "python"
    }
  },
  "cells": [
    {
      "cell_type": "markdown",
      "metadata": {
        "id": "view-in-github",
        "colab_type": "text"
      },
      "source": [
        "<a href=\"https://colab.research.google.com/github/carolina-crisos/Code-100/blob/main/E_059.ipynb\" target=\"_parent\"><img src=\"https://colab.research.google.com/assets/colab-badge.svg\" alt=\"Open In Colab\"/></a>"
      ]
    },
    {
      "cell_type": "markdown",
      "source": [
        "Crea una función que dibuje una escalera según su número de escalones.\n",
        "- Si el número es positivo, será ascendente de izquiera a derecha.\n",
        "- Si el número es negativo, será descendente de izquiera a derecha.\n",
        "- Si el número es cero, se dibujarán dos guiones bajos (__).\n",
        "\n",
        "Ejemplo: 4\n",
        "\n",
        "![image.png](data:image/png;base64,iVBORw0KGgoAAAANSUhEUgAAANEAAACbCAYAAAD8+X7lAAAAAXNSR0IArs4c6QAAAARnQU1BAACxjwv8YQUAAAAJcEhZcwAAEnQAABJ0Ad5mH3gAAAI7SURBVHhe7d2xbcJQFEBRJ6Oxh5dhDtZiAyZwR+XEiotE0IQLignnSE/Ixu2Vf4Eeb8MwzJ8D3Oh9/QRuJCKIRASRiCASEUQigkhEEIkIIhFBJCKIRASRiCASEUQigkhEEIkIIhFBJCKIRASRiCASEUQigkhEEIkIIhFBJCKIRASRiCASEUQigkhEEIkIIhFBJKKNOh6PwzzPP+ZwOKzfsiX+bhIibyKIRASRiCASEUQigkhEEIkIIhFBJCKIRASRiCASEUQi+gPLr7GnaRrGcVzv8MxEBJGIIBIRRCKCSEQQiQgiEUEkIohEBJGIIBIR3MGyvNHE2e/38/l8nr87nU7zbre7+rz5P2MDKkSOcxCJCCIRQSQiiEQEkYggEhFEIoJIRBCJCCIRQSSiX7B0kWtEBJGIIBIRRCKCSEQQiQgiEUEkIohEBJGIIBIR3MHFMrpXGksXTR3LGyFynINIRBCJCCIRQSQiiEQEkYggEhFEIoJIRBCJCCIRQfQSEdlcyiN5E0EkIohEBJGIIBIRRCKCSEQQiQgiEUEkIohEBHdwsdHxGcbmUrOVsQEVIsc5iEQEkYggEhFEIoJIRBCJCCIRQSQiiEQEkYggEhFEm47I5lKegTcRRCKCSEQQiQgiEUEkIohEBJGIIBIRRCKCSERwBxcbHR854zjO0zStO0u/LNfL/WvPG7P1sQEVIsc5iEQEkYggEhFEIoJIRBCJCCIRQSQiiEQEkYggEhFEIoJIRBCJCCIRQTIMHyahsrbFE3CmAAAAAElFTkSuQmCC)\n"
      ],
      "metadata": {
        "id": "tghE2CEcRUnf"
      }
    },
    {
      "cell_type": "code",
      "execution_count": null,
      "metadata": {
        "id": "PprhjLD_JNK2",
        "colab": {
          "base_uri": "https://localhost:8080/"
        },
        "outputId": "f3322f91-13a9-4fd5-8018-7fb043f61584"
      },
      "outputs": [
        {
          "output_type": "stream",
          "name": "stdout",
          "text": [
            "|....._\n",
            "|...._|\n",
            "|..._|\n",
            "|.._|\n",
            "|._|\n",
            "|_|\n",
            "\n",
            "|._\n",
            "|..|_\n",
            "|...|_\n",
            "\n",
            "|.__\n"
          ]
        }
      ],
      "source": [
        "def escalera(escalones):\n",
        "    # Verificar si hay escalones hacia arriba (escalones mayor que 0)\n",
        "    if escalones > 0:\n",
        "        # Iterar desde 0 hasta el número de escalones\n",
        "        for n in range(escalones + 1):\n",
        "            # Crear la cadena que representa los espacios y el escalón actual\n",
        "            espacio = \"|\" + \".\" * (escalones - n)\n",
        "            # Operadores ternarios: valor_si_true if condicion else valor_si_false\n",
        "            escalon = \"_\" if n == 0 else \"_|\"\n",
        "            # Imprimir la línea actual de la escalera\n",
        "            print(f'{espacio}{escalon}')\n",
        "\n",
        "    # Verificar si hay escalones hacia abajo (escalones menor que 0)\n",
        "    elif escalones < 0:\n",
        "        # Convertir escalones negativos a positivos\n",
        "        escalones = escalones * -1\n",
        "        # Iterar desde 0 hasta el número de escalones\n",
        "        for n in range(escalones + 1):\n",
        "            # Crear la cadena que representa los espacios y el escalón actual\n",
        "            espacio = \"|\" + '.' * (n + 1)\n",
        "            escalon = \"_\" if n == 0 else \"|_\"\n",
        "            # Imprimir la línea actual de la escalera\n",
        "            print(f'{espacio}{escalon}')\n",
        "\n",
        "    # Manejar el caso en que no hay escalones (escalones == 0)\n",
        "    else:\n",
        "        print('|.__')\n",
        "\n",
        "# Ejemplos de uso\n",
        "escalera(5)  # Mostrar escalera hacia arriba con 5 escalones\n",
        "print()\n",
        "escalera(-2)  # Mostrar escalera hacia abajo con -2 escalones\n",
        "print()\n",
        "escalera(0)   # Mostrar una línea horizontal sin escalones\n"
      ]
    }
  ]
}