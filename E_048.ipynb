{
  "nbformat": 4,
  "nbformat_minor": 0,
  "metadata": {
    "colab": {
      "provenance": [],
      "authorship_tag": "ABX9TyPuiSSPYe6JWCYfaZh03au6",
      "include_colab_link": true
    },
    "kernelspec": {
      "name": "python3",
      "display_name": "Python 3"
    },
    "language_info": {
      "name": "python"
    }
  },
  "cells": [
    {
      "cell_type": "markdown",
      "metadata": {
        "id": "view-in-github",
        "colab_type": "text"
      },
      "source": [
        "<a href=\"https://colab.research.google.com/github/carolina-crisos/Code-100/blob/main/E_048.ipynb\" target=\"_parent\"><img src=\"https://colab.research.google.com/assets/colab-badge.svg\" alt=\"Open In Colab\"/></a>"
      ]
    },
    {
      "cell_type": "markdown",
      "source": [
        "Crea una función que reciba dos parámetros para crear una cuenta atrás.\n",
        "- El primero, representa el número en el que comienza la cuenta.\n",
        "- El segundo, los segundos que tienen que transcurrir entre cada cuenta.\n",
        "- Sólo se aceptan números enteros positivos.\n",
        "- El programa finaliza al llegar a cero.\n",
        "- Debes imprimir cada número de la cuenta atrás."
      ],
      "metadata": {
        "id": "WsShCAw0V3nK"
      }
    },
    {
      "cell_type": "code",
      "execution_count": null,
      "metadata": {
        "colab": {
          "base_uri": "https://localhost:8080/"
        },
        "id": "-otTqL3LV09P",
        "outputId": "5c88093a-4bae-432c-fb7a-57828f06b55d"
      },
      "outputs": [
        {
          "output_type": "stream",
          "name": "stdout",
          "text": [
            "10\n",
            "9\n",
            "8\n",
            "7\n",
            "6\n",
            "5\n",
            "4\n",
            "3\n",
            "2\n",
            "1\n",
            "0\n"
          ]
        }
      ],
      "source": [
        "import time\n",
        "\n",
        "def countdown(duration, interval):\n",
        "    \"\"\"\n",
        "    Realiza una cuenta regresiva desde el valor especificado hasta cero.\n",
        "    \"\"\"\n",
        "    for i in range(duration, -1, -1):\n",
        "        # Pausa el programa durante el intervalo de tiempo especificado\n",
        "        time.sleep(interval)\n",
        "\n",
        "        # Imprime el valor actual de la cuenta regresiva\n",
        "        print(i)\n",
        "\n",
        "# Inicia una cuenta regresiva con un valor inicial de 10 con intervalo de 1 seg\n",
        "countdown(10, 1)\n"
      ]
    }
  ]
}