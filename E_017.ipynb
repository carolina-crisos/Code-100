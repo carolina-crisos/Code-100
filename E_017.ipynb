{
  "nbformat": 4,
  "nbformat_minor": 0,
  "metadata": {
    "colab": {
      "provenance": [],
      "authorship_tag": "ABX9TyOuLeA29TAmKbsJibXBXdsq",
      "include_colab_link": true
    },
    "kernelspec": {
      "name": "python3",
      "display_name": "Python 3"
    },
    "language_info": {
      "name": "python"
    }
  },
  "cells": [
    {
      "cell_type": "markdown",
      "metadata": {
        "id": "view-in-github",
        "colab_type": "text"
      },
      "source": [
        "<a href=\"https://colab.research.google.com/github/carolina-crisos/Code-100/blob/main/E_017.ipynb\" target=\"_parent\"><img src=\"https://colab.research.google.com/assets/colab-badge.svg\" alt=\"Open In Colab\"/></a>"
      ]
    },
    {
      "cell_type": "markdown",
      "source": [
        "**Emular el funcionamiento del producto de cadenas de caracteres**"
      ],
      "metadata": {
        "id": "S3KVexOnK5eb"
      }
    },
    {
      "cell_type": "code",
      "execution_count": null,
      "metadata": {
        "colab": {
          "base_uri": "https://localhost:8080/"
        },
        "id": "tHyyoPZyK3FU",
        "outputId": "6d49122c-7f41-4711-f4e8-e452d8cf6e80"
      },
      "outputs": [
        {
          "output_type": "stream",
          "name": "stdout",
          "text": [
            "MuestraMuestraMuestra\n",
            "\n",
            "ReplicaReplicaReplica"
          ]
        }
      ],
      "source": [
        " # Replicaremos el funcionamiento del resultado de multiplicar una cadena\n",
        "print(\"Muestra\" * 3)\n",
        "\n",
        "# Definimos una función para emular la operación de multiplicación de cadenas\n",
        "def producto_cadena(texto, repeticiones):\n",
        "    # Iteramos a través del rango de repeticiones\n",
        "    for i in range(repeticiones):\n",
        "        # Imprimimos el texto sin cambiar de línea\n",
        "        print(texto, end=\"\")\n",
        "\n",
        "print()\n",
        "producto_cadena(\"Replica\", 3)\n"
      ]
    }
  ]
}