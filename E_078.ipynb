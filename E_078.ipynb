{
  "nbformat": 4,
  "nbformat_minor": 0,
  "metadata": {
    "colab": {
      "provenance": [],
      "authorship_tag": "ABX9TyNAKZTj5FGS99/vd6d1izCr",
      "include_colab_link": true
    },
    "kernelspec": {
      "name": "python3",
      "display_name": "Python 3"
    },
    "language_info": {
      "name": "python"
    }
  },
  "cells": [
    {
      "cell_type": "markdown",
      "metadata": {
        "id": "view-in-github",
        "colab_type": "text"
      },
      "source": [
        "<a href=\"https://colab.research.google.com/github/carolina-crisos/Code-100/blob/main/E_078.ipynb\" target=\"_parent\"><img src=\"https://colab.research.google.com/assets/colab-badge.svg\" alt=\"Open In Colab\"/></a>"
      ]
    },
    {
      "cell_type": "markdown",
      "source": [
        "**Aspect ratio de una imagen**"
      ],
      "metadata": {
        "id": "VQcrfFDDti6n"
      }
    },
    {
      "cell_type": "code",
      "execution_count": null,
      "metadata": {
        "id": "QLfjZTuGsit0",
        "colab": {
          "base_uri": "https://localhost:8080/"
        },
        "outputId": "82f15d4b-f41e-440c-f904-70d443d910cf"
      },
      "outputs": [
        {
          "output_type": "stream",
          "name": "stdout",
          "text": [
            "Altura: 1024, Ancho: 1024.\n"
          ]
        }
      ],
      "source": [
        "# Importa la biblioteca OpenCV\n",
        "import cv2\n",
        "\n",
        "# Ruta de la imagen\n",
        "ruta = \"/content/_e6ccc917-1b15-423e-945b-88cff1f43784.jpeg\"\n",
        "\n",
        "# Lee la imagen utilizando OpenCV\n",
        "img = cv2.imread(ruta)\n",
        "\n",
        "# Obtiene las dimensiones de la imagen (altura, ancho, canales)\n",
        "w, h, _ = img.shape\n",
        "\n",
        "# Imprime las dimensiones de la imagen\n",
        "print(f'Altura: {w}, Ancho: {h}.')\n"
      ]
    }
  ]
}