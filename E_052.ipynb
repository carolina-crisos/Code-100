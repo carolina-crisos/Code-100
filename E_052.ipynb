{
  "nbformat": 4,
  "nbformat_minor": 0,
  "metadata": {
    "colab": {
      "provenance": [],
      "authorship_tag": "ABX9TyMy8Xuy7YClzXAkngDEdekg",
      "include_colab_link": true
    },
    "kernelspec": {
      "name": "python3",
      "display_name": "Python 3"
    },
    "language_info": {
      "name": "python"
    }
  },
  "cells": [
    {
      "cell_type": "markdown",
      "metadata": {
        "id": "view-in-github",
        "colab_type": "text"
      },
      "source": [
        "<a href=\"https://colab.research.google.com/github/carolina-crisos/Code-100/blob/main/E_052.ipynb\" target=\"_parent\"><img src=\"https://colab.research.google.com/assets/colab-badge.svg\" alt=\"Open In Colab\"/></a>"
      ]
    },
    {
      "cell_type": "markdown",
      "source": [
        "Escriba una función es_bisiesto() que determine si un año determinado es un año\n",
        "bisiesto.Un año bisiesto es divisible por 4, pero no por 100. También es divisible por 400"
      ],
      "metadata": {
        "id": "al6cu2lbSZR-"
      }
    },
    {
      "cell_type": "code",
      "execution_count": null,
      "metadata": {
        "id": "P34y9DJZN3Ed",
        "colab": {
          "base_uri": "https://localhost:8080/"
        },
        "outputId": "19214d50-5f86-4cab-84ab-c3e71669505f"
      },
      "outputs": [
        {
          "output_type": "stream",
          "name": "stdout",
          "text": [
            "Ingresa un año: 2024\n",
            "El año 2024 es bisiesto.\n",
            "2027 no es bisiesto.\n",
            "El año 2028 es bisiesto.\n"
          ]
        }
      ],
      "source": [
        "# Función que verifica si un año es bisiesto.\n",
        "def es_bisiesto(anio):\n",
        "  # Un año es bisiesto si es divisible por 4 y no es divisible por 100, o si es divisible por 400.\n",
        "  if (anio % 4 == 0 and anio % 100 != 0) or anio % 400 == 0:\n",
        "    print(f'El año {anio} es bisiesto.')\n",
        "  else:\n",
        "    print(f'{anio} no es bisiesto.')\n",
        "\n",
        "# Solicitar al usuario que ingrese un año.\n",
        "anio_ingresado = int(input('Ingresa un año: '))\n",
        "anio = 2027\n",
        "anio_dos = 2028\n",
        "\n",
        "# Llamar a la función con el año ingresado como argumento.\n",
        "es_bisiesto(anio_ingresado)\n",
        "es_bisiesto(anio)\n",
        "es_bisiesto(anio_dos)\n"
      ]
    }
  ]
}