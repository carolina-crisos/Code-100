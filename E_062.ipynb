{
  "nbformat": 4,
  "nbformat_minor": 0,
  "metadata": {
    "colab": {
      "provenance": [],
      "authorship_tag": "ABX9TyPfNXbnoJ0swCuxOlaOKrl0",
      "include_colab_link": true
    },
    "kernelspec": {
      "name": "python3",
      "display_name": "Python 3"
    },
    "language_info": {
      "name": "python"
    }
  },
  "cells": [
    {
      "cell_type": "markdown",
      "metadata": {
        "id": "view-in-github",
        "colab_type": "text"
      },
      "source": [
        "<a href=\"https://colab.research.google.com/github/carolina-crisos/Code-100/blob/main/E_062.ipynb\" target=\"_parent\"><img src=\"https://colab.research.google.com/assets/colab-badge.svg\" alt=\"Open In Colab\"/></a>"
      ]
    },
    {
      "cell_type": "markdown",
      "source": [
        "**Problema: Palíndromo Mágico**\n",
        "\n",
        "**Un palíndromo es una palabra, frase, número o cualquier otra secuencia de caracteres que se lee igual hacia adelante que hacia atrás. Un palíndromo mágico es un número que permanece igual cuando se invierten sus dígitos**"
      ],
      "metadata": {
        "id": "Ocv7ormLeAX2"
      }
    },
    {
      "cell_type": "code",
      "source": [
        "# Definición de la función es_palindromo_magico\n",
        "def es_palindromo_magico(num):\n",
        "  # Convierte el número en una cadena para facilitar la inversión de caracteres\n",
        "  num = str(num)\n",
        "\n",
        "  # Invierte la cadena utilizando la técnica de \"slicing\"\n",
        "  invertido = num[::-1]\n",
        "\n",
        "  # Compara la cadena original con la cadena invertida para determinar si es un palíndromo\n",
        "  if num == invertido:\n",
        "    # Si son iguales, el número es un palíndromo, retorna True\n",
        "    return True\n",
        "  else:\n",
        "    # Si no son iguales, el número no es un palíndromo, retorna False\n",
        "    return False\n",
        "\n",
        "# Imprime los palíndromos mágicos en el rango de 10 a 300\n",
        "print('Son palíndromos mágicos:')\n",
        "for num in range(10, 301):\n",
        "  # Llama a la función es_palindromo_magico para verificar si el número es un palíndromo\n",
        "  if es_palindromo_magico(num):\n",
        "    # Si es un palíndromo, imprímelo en la misma línea\n",
        "    print(num, end=\" \")\n"
      ],
      "metadata": {
        "colab": {
          "base_uri": "https://localhost:8080/"
        },
        "id": "RJSgwZqYiaZK",
        "outputId": "d91f1033-efbc-47bc-ef7d-59a1deb0dffa"
      },
      "execution_count": null,
      "outputs": [
        {
          "output_type": "stream",
          "name": "stdout",
          "text": [
            "Son palíndromos mágicos:\n",
            "11 22 33 44 55 66 77 88 99 101 111 121 131 141 151 161 171 181 191 202 212 222 232 242 252 262 272 282 292 "
          ]
        }
      ]
    }
  ]
}