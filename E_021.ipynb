{
  "nbformat": 4,
  "nbformat_minor": 0,
  "metadata": {
    "colab": {
      "provenance": [],
      "authorship_tag": "ABX9TyO2dLq8oSRjeEh2iS/C9dTG",
      "include_colab_link": true
    },
    "kernelspec": {
      "name": "python3",
      "display_name": "Python 3"
    },
    "language_info": {
      "name": "python"
    }
  },
  "cells": [
    {
      "cell_type": "markdown",
      "metadata": {
        "id": "view-in-github",
        "colab_type": "text"
      },
      "source": [
        "<a href=\"https://colab.research.google.com/github/carolina-crisos/Code-100/blob/main/E_021.ipynb\" target=\"_parent\"><img src=\"https://colab.research.google.com/assets/colab-badge.svg\" alt=\"Open In Colab\"/></a>"
      ]
    },
    {
      "cell_type": "markdown",
      "source": [
        "**Comprobar si un carácter dado es una vocal**"
      ],
      "metadata": {
        "id": "48pbLSKGBO14"
      }
    },
    {
      "cell_type": "code",
      "execution_count": null,
      "metadata": {
        "id": "3sTQBJU-6Kyx",
        "colab": {
          "base_uri": "https://localhost:8080/"
        },
        "outputId": "0803a5ef-0ec8-4c62-f93e-f8d3746dd252"
      },
      "outputs": [
        {
          "output_type": "stream",
          "name": "stdout",
          "text": [
            "Ingresa un carácter: as\n",
            "None\n"
          ]
        }
      ],
      "source": [
        "def comprobar_vocal(letra):\n",
        "\n",
        "    # Verificamos si el input tiene solo un carácter\n",
        "    if len(letra) == 1:\n",
        "\n",
        "        # Convertimos el carácter a minúsculas\n",
        "        letra_minuscula = letra.lower()\n",
        "\n",
        "        # Comprobamos si el carácter es una vocal ('a', 'e', 'i', 'o', 'u')\n",
        "        if letra_minuscula in ['a', 'e', 'i', 'o', 'u']:\n",
        "\n",
        "            # Si es una vocal, devolver un mensaje\n",
        "            return f'El carácter {letra} es una vocal.'\n",
        "        else:\n",
        "\n",
        "            # Si no es una vocal, devolver un mensaje indicando que no es una vocal\n",
        "            return f'El carácter {letra} no es vocal.'\n",
        "    else:\n",
        "\n",
        "        # Si el input no tiene un solo carácter, indicamos un valor nulo\n",
        "        return None\n",
        "\n",
        "# Solicitamos al usuario ingresar un carácter\n",
        "letra = input(\"Ingresa un carácter: \")\n",
        "\n",
        "# Llamamos a la función y mostramos el resultado\n",
        "print(comprobar_vocal(letra))\n",
        "\n"
      ]
    }
  ]
}