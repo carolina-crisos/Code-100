{
  "nbformat": 4,
  "nbformat_minor": 0,
  "metadata": {
    "colab": {
      "provenance": [],
      "authorship_tag": "ABX9TyOGjy2vPIgyBmG1nwBRlt5A",
      "include_colab_link": true
    },
    "kernelspec": {
      "name": "python3",
      "display_name": "Python 3"
    },
    "language_info": {
      "name": "python"
    }
  },
  "cells": [
    {
      "cell_type": "markdown",
      "metadata": {
        "id": "view-in-github",
        "colab_type": "text"
      },
      "source": [
        "<a href=\"https://colab.research.google.com/github/carolina-crisos/Code-100/blob/main/E_066.ipynb\" target=\"_parent\"><img src=\"https://colab.research.google.com/assets/colab-badge.svg\" alt=\"Open In Colab\"/></a>"
      ]
    },
    {
      "cell_type": "markdown",
      "source": [
        "**Calcular el Punto Medio de un Segmento de Recta**"
      ],
      "metadata": {
        "id": "z273wUktwG6e"
      }
    },
    {
      "cell_type": "code",
      "execution_count": null,
      "metadata": {
        "colab": {
          "base_uri": "https://localhost:8080/"
        },
        "id": "XJH7ssvov7Oz",
        "outputId": "cdcaf9cf-9b47-441b-ace3-73c5e2c75088"
      },
      "outputs": [
        {
          "output_type": "stream",
          "name": "stdout",
          "text": [
            "Ingresa primer coordenada X(1), Y(1): 2,6\n",
            "Ahora, la segunda coordenada X(2), Y(2): 8,12\n",
            "\n",
            "Fórmula: \n",
            "M(2 + 8 / 2 , 6 + 12 / 2) \n",
            "\n",
            "Resultado = M(5, 9)\n"
          ]
        }
      ],
      "source": [
        "# Solicita al usuario que ingrese las coordenadas de los puntos (x, y)\n",
        "a = input(\"Ingresa primer coordenada X(1), Y(1): \")\n",
        "b = input(\"Ahora, la segunda coordenada X(2), Y(2): \")\n",
        "\n",
        "# Convierte las coordenadas ingresadas en tuplas de enteros\n",
        "a = tuple(int(i) for i in a.split(','))\n",
        "b = tuple(int(j) for j in b.split(','))\n",
        "\n",
        "# Calcula las coordenadas del punto medio entre a y b\n",
        "m_x = (a[0] + b[0]) // 2  # Calcula el promedio de las coordenadas x\n",
        "m_y = (a[1] + b[1]) // 2  # Calcula el promedio de las coordenadas y\n",
        "\n",
        "# Crea una tupla que representa el punto medio\n",
        "punto_medio = (m_x, m_y)\n",
        "\n",
        "# Imprime la fórmula del punto medio y el resultado\n",
        "print('\\nFórmula: ')\n",
        "print(f'M({a[0]} + {b[0]} / 2 , {a[1]} + {b[1]} / 2) ')\n",
        "print(f'\\nResultado = M{punto_medio}')\n"
      ]
    }
  ]
}