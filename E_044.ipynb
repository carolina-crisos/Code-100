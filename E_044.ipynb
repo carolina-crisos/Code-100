{
  "nbformat": 4,
  "nbformat_minor": 0,
  "metadata": {
    "colab": {
      "provenance": [],
      "authorship_tag": "ABX9TyPKdpaAdz0imkRYLlYtQTUX",
      "include_colab_link": true
    },
    "kernelspec": {
      "name": "python3",
      "display_name": "Python 3"
    },
    "language_info": {
      "name": "python"
    }
  },
  "cells": [
    {
      "cell_type": "markdown",
      "metadata": {
        "id": "view-in-github",
        "colab_type": "text"
      },
      "source": [
        "<a href=\"https://colab.research.google.com/github/carolina-crisos/Code-100/blob/main/E_044.ipynb\" target=\"_parent\"><img src=\"https://colab.research.google.com/assets/colab-badge.svg\" alt=\"Open In Colab\"/></a>"
      ]
    },
    {
      "cell_type": "markdown",
      "source": [
        "Crea cuadrado"
      ],
      "metadata": {
        "id": "OTC18meknGAx"
      }
    },
    {
      "cell_type": "code",
      "execution_count": null,
      "metadata": {
        "colab": {
          "base_uri": "https://localhost:8080/"
        },
        "id": "G64loapwiB3u",
        "outputId": "622aafe5-37bd-48fd-e864-e2c23135e697"
      },
      "outputs": [
        {
          "output_type": "stream",
          "name": "stdout",
          "text": [
            "✅✅✅✅✅✅\n",
            "✅✅✅✅✅✅\n",
            "✅✅✅✅✅✅\n",
            "✅✅✅✅✅✅\n",
            "✅✅✅✅✅✅\n",
            "✅✅✅✅✅✅\n",
            "\n",
            "✅✅✅\n",
            "✅✅✅\n",
            "✅✅✅\n",
            "\n",
            "El número no es válido.\n",
            "\n",
            "Sin valor. 🟥\n",
            "\n",
            "Ingresa un valor: 5\n",
            "✅✅✅✅✅\n",
            "✅✅✅✅✅\n",
            "✅✅✅✅✅\n",
            "✅✅✅✅✅\n",
            "✅✅✅✅✅\n"
          ]
        }
      ],
      "source": [
        "\"\"\"\n",
        "La función cuadrado(n) toma un número entero n como argumento\n",
        "y crea un cuadrado de n x n con el número n.\n",
        "\"\"\"\n",
        "\n",
        "def cuadrado(n):\n",
        "    # Verifica si el número es positivo\n",
        "    if n > 0:\n",
        "        # Itera sobre el rango de 0 a n (exclusivo)\n",
        "        for i in range(n):\n",
        "            # Imprime el carácter '✅' repetido n veces en cada fila\n",
        "            print('✅' * n)\n",
        "    # Verifica si el número es igual a 0\n",
        "    elif n == 0:\n",
        "        # Imprime un mensaje si el número es 0\n",
        "        print('Sin valor. 🟥')\n",
        "    # Si el número es negativo\n",
        "    else:\n",
        "        # Imprime un mensaje si el número no es válido\n",
        "        print('El número no es válido.')\n",
        "\n",
        "# Ejemplo de uso con n=6\n",
        "cuadrado(6)\n",
        "print()\n",
        "\n",
        "# Ejemplo de uso con n=3\n",
        "cuadrado(3)\n",
        "print()\n",
        "\n",
        "# Ejemplo de uso con n=-1\n",
        "cuadrado(-1)\n",
        "print()\n",
        "\n",
        "# Ejemplo de uso sin argumento\n",
        "cuadrado(0)\n",
        "\n",
        "# Ejemplo si el usuario ingresa un valor\n",
        "cuadrado(int(input('\\nIngresa un valor: ')))\n"
      ]
    },
    {
      "cell_type": "markdown",
      "source": [],
      "metadata": {
        "id": "7WkrovDjkeOK"
      }
    }
  ]
}