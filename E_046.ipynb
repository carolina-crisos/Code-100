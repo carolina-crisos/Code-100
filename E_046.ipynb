{
  "nbformat": 4,
  "nbformat_minor": 0,
  "metadata": {
    "colab": {
      "provenance": [],
      "authorship_tag": "ABX9TyPQM2PSOHotDd8pDfmFekbU",
      "include_colab_link": true
    },
    "kernelspec": {
      "name": "python3",
      "display_name": "Python 3"
    },
    "language_info": {
      "name": "python"
    }
  },
  "cells": [
    {
      "cell_type": "markdown",
      "metadata": {
        "id": "view-in-github",
        "colab_type": "text"
      },
      "source": [
        "<a href=\"https://colab.research.google.com/github/carolina-crisos/Code-100/blob/main/E_046.ipynb\" target=\"_parent\"><img src=\"https://colab.research.google.com/assets/colab-badge.svg\" alt=\"Open In Colab\"/></a>"
      ]
    },
    {
      "cell_type": "markdown",
      "source": [
        "**Escribir un programa que pida al usuario un número entero positivo y muestre por pantalla todos los números impares desde 1 hasta ese número separados por comas.**"
      ],
      "metadata": {
        "id": "tb0pFT9k0Bv7"
      }
    },
    {
      "cell_type": "code",
      "execution_count": null,
      "metadata": {
        "colab": {
          "base_uri": "https://localhost:8080/"
        },
        "id": "OFqLmdV3zxTg",
        "outputId": "b612c9b5-343b-4046-d6cc-1a7661266c41"
      },
      "outputs": [
        {
          "output_type": "stream",
          "name": "stdout",
          "text": [
            "Enter a whole number: hey\n",
            "Invalid entry. Please enter a whole number.\n",
            "Enter a whole number: 10\n",
            "Odd numbers from 1 to 10: \n",
            "1 3 5 7 9 \n",
            "Even numbers from 1 to 10: \n",
            "2 4 6 8 10 "
          ]
        }
      ],
      "source": [
        "# Función para obtener entrada de usuario como número entero\n",
        "def get_integer_input(prompt):\n",
        "    while True:\n",
        "        try:\n",
        "            # Convierte la entrada del usuario a entero\n",
        "            return int(input(prompt))\n",
        "        except ValueError:\n",
        "            # Maneja error si la entrada no es un número entero válido\n",
        "            print(\"Invalid entry. Please enter a whole number.\")\n",
        "\n",
        "# Función para imprimir números impares\n",
        "def print_odd_numbers(n):\n",
        "    print(f'Odd numbers from 1 to {n}: ')\n",
        "    # Itera a través de los números del *1* a n con un paso de 2\n",
        "    for num in range(1, n + 1, 2):\n",
        "        print(num, end=\" \")\n",
        "\n",
        "# Función para imprimir números pares\n",
        "def print_even_numbers(n):\n",
        "    print(f'\\nEven numbers from 1 to {n}: ')\n",
        "    # Itera a través de los números del *2* a n con un paso de 2\n",
        "    for num in range(2, n + 1, 2):\n",
        "        print(num, end=\" \")\n",
        "\n",
        "# Función principal para ejecutar el programa\n",
        "def main():\n",
        "    # Obtener la entrada del usuario para la función superior\n",
        "    n = get_integer_input('Enter a whole number: ')\n",
        "    # Llama a las funciones para imprimir números impares y pares\n",
        "    print_odd_numbers(n)\n",
        "    print_even_numbers(n)\n",
        "\n",
        "# Verifica si el script se está ejecutando directamente\n",
        "if __name__ == \"__main__\":\n",
        "    # Llama a la función principal para iniciar el programa\n",
        "    main()\n",
        "\n",
        "\n",
        "\n",
        "\n"
      ]
    }
  ]
}