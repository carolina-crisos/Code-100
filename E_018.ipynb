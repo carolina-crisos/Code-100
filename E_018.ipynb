{
  "nbformat": 4,
  "nbformat_minor": 0,
  "metadata": {
    "colab": {
      "provenance": [],
      "authorship_tag": "ABX9TyOVQ2aHJYPM9ju4qwdpHAAL",
      "include_colab_link": true
    },
    "kernelspec": {
      "name": "python3",
      "display_name": "Python 3"
    },
    "language_info": {
      "name": "python"
    }
  },
  "cells": [
    {
      "cell_type": "markdown",
      "metadata": {
        "id": "view-in-github",
        "colab_type": "text"
      },
      "source": [
        "<a href=\"https://colab.research.google.com/github/carolina-crisos/Code-100/blob/main/E_018.ipynb\" target=\"_parent\"><img src=\"https://colab.research.google.com/assets/colab-badge.svg\" alt=\"Open In Colab\"/></a>"
      ]
    },
    {
      "cell_type": "markdown",
      "source": [
        "**Calcular la suma de tres números e incluir una condición de igualdad**"
      ],
      "metadata": {
        "id": "RnBpPGpR_YFk"
      }
    },
    {
      "cell_type": "code",
      "execution_count": null,
      "metadata": {
        "colab": {
          "base_uri": "https://localhost:8080/"
        },
        "id": "DsOhRP_0_Srm",
        "outputId": "509b9636-06a1-4967-d645-fd4511ba0cbf"
      },
      "outputs": [
        {
          "output_type": "stream",
          "name": "stdout",
          "text": [
            "6\n",
            "27\n",
            "11\n",
            "36\n"
          ]
        }
      ],
      "source": [
        "# Si los tres numeros ingresados son iguales, su suma total se multiplicara por tres\n",
        "def suma_tres_num(a, b, c):\n",
        "  suma = a + b + c\n",
        "  if a == b and b == c:\n",
        "    suma = suma * 3\n",
        "  return suma\n",
        "\n",
        "print(suma_tres_num(1, 2, 3))\n",
        "print(suma_tres_num(3, 3, 3))\n",
        "print(suma_tres_num(3, 3, 5))\n",
        "print(suma_tres_num(4, 4, 4))"
      ]
    }
  ]
}