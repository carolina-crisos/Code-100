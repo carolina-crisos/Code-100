{
  "nbformat": 4,
  "nbformat_minor": 0,
  "metadata": {
    "colab": {
      "provenance": [],
      "authorship_tag": "ABX9TyOc1Zb21B9pATGdKcSmYnp9",
      "include_colab_link": true
    },
    "kernelspec": {
      "name": "python3",
      "display_name": "Python 3"
    },
    "language_info": {
      "name": "python"
    }
  },
  "cells": [
    {
      "cell_type": "markdown",
      "metadata": {
        "id": "view-in-github",
        "colab_type": "text"
      },
      "source": [
        "<a href=\"https://colab.research.google.com/github/carolina-crisos/Code-100/blob/main/E_039.ipynb\" target=\"_parent\"><img src=\"https://colab.research.google.com/assets/colab-badge.svg\" alt=\"Open In Colab\"/></a>"
      ]
    },
    {
      "cell_type": "markdown",
      "source": [
        "Crea un programa que realize el cifrado César de un texto y lo imprima.\n"
      ],
      "metadata": {
        "id": "symKUqP3VImH"
      }
    },
    {
      "cell_type": "code",
      "execution_count": null,
      "metadata": {
        "colab": {
          "base_uri": "https://localhost:8080/"
        },
        "id": "-VdK3FVtVFzy",
        "outputId": "03121612-1d41-42ae-faef-76bcffc95ede"
      },
      "outputs": [
        {
          "output_type": "stream",
          "name": "stdout",
          "text": [
            "Bienvenido al Conversor a Cifrado César. \n",
            "\n",
            "Ingresa una frase: Nada es tan dificil que no se pueda conseguir con fortaleza\n",
            "\n",
            "La transformación se denomina ROTN, donde N es el valor de cambio de posiciones.\n",
            "Ingresa el valor de N: 1\n",
            "obeb ft ubo ejgjdjm rvf op tf qvfeb dpotfhvjs dpo gpsubmfab"
          ]
        }
      ],
      "source": [
        "# Importamos el módulo 'string' para acceder a las letras del alfabeto.\n",
        "import string\n",
        "\n",
        "print('Bienvenido al Conversor a Cifrado César. \\n')\n",
        "\n",
        "# Cadena de texto con todas las letras del alfabeto en minúsculas.\n",
        "alphabet_string = string.ascii_lowercase\n",
        "\n",
        "# Convertimos la cadena en una lista.\n",
        "alphabet = list(alphabet_string)\n",
        "\n",
        "# Solicitamos al usuario y convertimos a minúsculas.\n",
        "user_message = input('Ingresa una frase: ').lower()\n",
        "\n",
        "# Concepto de la transformación.\n",
        "print('\\nLa transformación se denomina ROTN, donde N es el valor de cambio de posiciones.')\n",
        "\n",
        "# Solicitamos al usuario que ingrese el valor de cambio 'N'\n",
        "rot_n = int(input('Ingresa el valor de N: '))\n",
        "\n",
        "# Itera a través de cada carácter en el mensaje proporcionado por el usuario.\n",
        "for character in user_message:\n",
        "    # Verifica si el carácter es una letra del alfabeto.\n",
        "    if character.isalpha():\n",
        "        # Calcula el índice del carácter en el alfabeto, aplica el cifrado César y toma el módulo 26 para manejar los desbordamientos.\n",
        "        cesar = (alphabet.index(character) + rot_n) % 26\n",
        "        # Imprime el carácter cifrado en el cifrado César sin cambiar de línea.\n",
        "        print(alphabet[cesar], end=\"\")\n",
        "    else:\n",
        "        # Si el carácter no es una letra del alfabeto, imprime sin cambios.\n",
        "        print(character, end=\"\")\n",
        "\n",
        "\n",
        "\n"
      ]
    },
    {
      "cell_type": "code",
      "source": [],
      "metadata": {
        "id": "5daG6mTJdvBp"
      },
      "execution_count": null,
      "outputs": []
    }
  ]
}