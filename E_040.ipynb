{
  "nbformat": 4,
  "nbformat_minor": 0,
  "metadata": {
    "colab": {
      "provenance": [],
      "authorship_tag": "ABX9TyPx7bKJFU4JNv/RAEe8/03O",
      "include_colab_link": true
    },
    "kernelspec": {
      "name": "python3",
      "display_name": "Python 3"
    },
    "language_info": {
      "name": "python"
    }
  },
  "cells": [
    {
      "cell_type": "markdown",
      "metadata": {
        "id": "view-in-github",
        "colab_type": "text"
      },
      "source": [
        "<a href=\"https://colab.research.google.com/github/carolina-crisos/Code-100/blob/main/E_040.ipynb\" target=\"_parent\"><img src=\"https://colab.research.google.com/assets/colab-badge.svg\" alt=\"Open In Colab\"/></a>"
      ]
    },
    {
      "cell_type": "markdown",
      "source": [
        "Crea un programa que sea capaz de solicitarte un número y se encargue de imprimir su tabla de multiplicar entre el 1 y el 10. Debe visualizarse qué operación se realiza y su resultado.\n",
        "\n",
        "Ej:\n",
        "\n",
        "1 x 1 = 1\n",
        "\n",
        "1 x 2 = 2\n",
        "\n",
        "1 x 3 = 3"
      ],
      "metadata": {
        "id": "OShPs4GGfVmA"
      }
    },
    {
      "cell_type": "code",
      "source": [
        "print('Tablas de multiplicar. Visualiza los múltiplos del 1 al 10.')\n",
        "\n",
        "# Bucle infinito que se ejecuta hasta que el usuario decida salir.\n",
        "while True:\n",
        "    try:\n",
        "        # Solicitamos un número y lo convertimos a entero.\n",
        "        n = int(input('Ingresa un número: '))\n",
        "\n",
        "        # Recorre los números del 1 al 10.\n",
        "        for i in range(1, 11):\n",
        "          # n se repite 10 veces junto con la operacion aritmetica.\n",
        "            print(f'{n} x {i} = {n * i}')\n",
        "\n",
        "        # Otro bucle para verificar si el usuario desea continuar.\n",
        "        while True:\n",
        "            # Pregunta al usuario.\n",
        "            ciclo = input('¿Deseas ingresar otro número? s/n: ').lower()\n",
        "            # Comprueba si la entrada del usuario es válida.\n",
        "            if ciclo in ['s', 'n']:\n",
        "                break\n",
        "            else:\n",
        "                # Imprime un mensaje de error.\n",
        "                print('Por favor, ingresa \"s\" para continuar o \"n\" para salir.')\n",
        "\n",
        "        # Comprueba la respuesta.\n",
        "        if ciclo == 's':\n",
        "            continue\n",
        "        else:\n",
        "            print('Fin del programa.')\n",
        "            break\n",
        "\n",
        "    except ValueError:\n",
        "        # Captura la excepción si se ingresa algo que no es un número entero.\n",
        "        print('Por favor, ingresa un número entero.')\n",
        "\n",
        "\n"
      ],
      "metadata": {
        "colab": {
          "base_uri": "https://localhost:8080/"
        },
        "id": "3INybRTnfMxY",
        "outputId": "d8312cb2-3497-41b0-a81e-846570b8659d"
      },
      "execution_count": null,
      "outputs": [
        {
          "output_type": "stream",
          "name": "stdout",
          "text": [
            "Tablas de multiplicar. Visualiza los múltiplos del 1 al 10.\n",
            "Ingresa un número: 5\n",
            "5 x 1 = 5\n",
            "5 x 2 = 10\n",
            "5 x 3 = 15\n",
            "5 x 4 = 20\n",
            "5 x 5 = 25\n",
            "5 x 6 = 30\n",
            "5 x 7 = 35\n",
            "5 x 8 = 40\n",
            "5 x 9 = 45\n",
            "5 x 10 = 50\n",
            "¿Deseas ingresar otro número? s/n: a\n",
            "Por favor, ingresa \"s\" para continuar o \"n\" para salir.\n",
            "¿Deseas ingresar otro número? s/n: s\n",
            "Ingresa un número: b\n",
            "Por favor, ingresa un número entero.\n",
            "Ingresa un número: 8\n",
            "8 x 1 = 8\n",
            "8 x 2 = 16\n",
            "8 x 3 = 24\n",
            "8 x 4 = 32\n",
            "8 x 5 = 40\n",
            "8 x 6 = 48\n",
            "8 x 7 = 56\n",
            "8 x 8 = 64\n",
            "8 x 9 = 72\n",
            "8 x 10 = 80\n",
            "¿Deseas ingresar otro número? s/n: n\n",
            "Fin del programa.\n"
          ]
        }
      ]
    }
  ]
}