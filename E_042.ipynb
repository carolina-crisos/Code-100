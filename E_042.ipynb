{
  "nbformat": 4,
  "nbformat_minor": 0,
  "metadata": {
    "colab": {
      "provenance": [],
      "authorship_tag": "ABX9TyM9OHcd+LRyBRoHF1Bbdcjl",
      "include_colab_link": true
    },
    "kernelspec": {
      "name": "python3",
      "display_name": "Python 3"
    },
    "language_info": {
      "name": "python"
    }
  },
  "cells": [
    {
      "cell_type": "markdown",
      "metadata": {
        "id": "view-in-github",
        "colab_type": "text"
      },
      "source": [
        "<a href=\"https://colab.research.google.com/github/carolina-crisos/Code-100/blob/main/E_042.ipynb\" target=\"_parent\"><img src=\"https://colab.research.google.com/assets/colab-badge.svg\" alt=\"Open In Colab\"/></a>"
      ]
    },
    {
      "cell_type": "markdown",
      "source": [
        "**Imprimir en la salida estandar de errores**\n"
      ],
      "metadata": {
        "id": "8EjSOTKXp8Du"
      }
    },
    {
      "cell_type": "code",
      "execution_count": null,
      "metadata": {
        "colab": {
          "base_uri": "https://localhost:8080/"
        },
        "id": "YtoTjo_MprlQ",
        "outputId": "93cd0772-1a69-4369-ff7b-59cdfdb89d8d"
      },
      "outputs": [
        {
          "output_type": "stream",
          "name": "stderr",
          "text": [
            "Error: division by zero"
          ]
        }
      ],
      "source": [
        "# Importar el módulo sys para tener acceso a la salida estándar de errores\n",
        "import sys\n",
        "\n",
        "try:\n",
        "    # Intentar con una operación que generará un error\n",
        "    resultado = 10 / 0\n",
        "except ZeroDivisionError as e:\n",
        "    # Manejar la excepción ZeroDivisionError y capturar el mensaje de error en la variable 'e'\n",
        "    # Imprimir un mensaje de error\n",
        "    sys.stderr.write(f'Error: {e}')\n",
        "    # Este mensaje se imprime en la consola como un mensaje de error\n",
        "\n"
      ]
    }
  ]
}