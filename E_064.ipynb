{
  "nbformat": 4,
  "nbformat_minor": 0,
  "metadata": {
    "colab": {
      "provenance": [],
      "authorship_tag": "ABX9TyOOwSmv6quIpPxOE0wDQpQw",
      "include_colab_link": true
    },
    "kernelspec": {
      "name": "python3",
      "display_name": "Python 3"
    },
    "language_info": {
      "name": "python"
    }
  },
  "cells": [
    {
      "cell_type": "markdown",
      "metadata": {
        "id": "view-in-github",
        "colab_type": "text"
      },
      "source": [
        "<a href=\"https://colab.research.google.com/github/carolina-crisos/Code-100/blob/main/E_064.ipynb\" target=\"_parent\"><img src=\"https://colab.research.google.com/assets/colab-badge.svg\" alt=\"Open In Colab\"/></a>"
      ]
    },
    {
      "cell_type": "markdown",
      "source": [
        "**Diferencia de conjuntos**\n",
        "\n",
        "Escribe una función en Python llamada diferencia_de_conjuntos que tome dos listas y devuelva una lista que contenga los elementos que son exclusivos de ambas listas, es decir, aquellos que solo aparecen en una de las listas pero no en ambas."
      ],
      "metadata": {
        "id": "wupj__63l4IS"
      }
    },
    {
      "cell_type": "code",
      "execution_count": 61,
      "metadata": {
        "colab": {
          "base_uri": "https://localhost:8080/"
        },
        "id": "Vo6cJWjkjgui",
        "outputId": "5c984ad9-0833-46cb-d4f8-d3e2432b3859"
      },
      "outputs": [
        {
          "output_type": "stream",
          "name": "stdout",
          "text": [
            "[1, 2, 5, 6]\n",
            "['a', 'j', 'd', 'e']\n",
            "[5]\n"
          ]
        }
      ],
      "source": [
        "def diferencia_de_conjuntos(lista1, lista2):\n",
        "    \"\"\"\n",
        "    Encuentra la diferencia de conjuntos entre dos listas.\n",
        "\n",
        "    Parameters:\n",
        "    - lista1 (list): La primera lista de elementos.\n",
        "    - lista2 (list): La segunda lista de elementos.\n",
        "\n",
        "    Returns:\n",
        "    - list: Una lista que contiene los elementos exclusivos de ambas listas.\n",
        "    \"\"\"\n",
        "\n",
        "    # Inicializa una lista para almacenar los elementos exclusivos\n",
        "    exclusivos = []\n",
        "\n",
        "    # Concatena ambas listas para asegurar que todos los elementos estén presentes\n",
        "    for elemento in lista1 + lista2:\n",
        "        # Verifica si el elemento no está en una de las listas (no es común)\n",
        "        if elemento not in lista1 or elemento not in lista2:\n",
        "            # Agregar el elemento a la lista de exclusivos\n",
        "            exclusivos.append(elemento)\n",
        "\n",
        "    # Devolver la lista de elementos exclusivos\n",
        "    return exclusivos\n",
        "\n",
        "\n",
        "print(diferencia_de_conjuntos([1, 2, 3, 4], [3, 4, 5, 6]))\n",
        "# Debería imprimir [1, 2, 5, 6], ya que 1 y 2 están solo en la primera lista, y 5 y 6 están solo en la segunda lista.\n",
        "\n",
        "print(diferencia_de_conjuntos(['a', 'b', 'c', 'j'], ['b', 'c', 'd', 'e']))\n",
        "# Debería imprimir ['a', 'd', 'e'], ya que 'a' está solo en la primera lista, y 'd' y 'e' están solo en la segunda lista.\n",
        "\n",
        "print(diferencia_de_conjuntos([1, 2, 3], [1, 2, 3, 5]))\n",
        "# Debería imprimir [], ya que las listas son iguales y no hay elementos exclusivos.\n"
      ]
    }
  ]
}