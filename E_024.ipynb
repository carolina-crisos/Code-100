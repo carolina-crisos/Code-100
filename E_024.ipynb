{
  "nbformat": 4,
  "nbformat_minor": 0,
  "metadata": {
    "colab": {
      "provenance": [],
      "authorship_tag": "ABX9TyPgwQ3rfSRK9R+9nESqgX7L",
      "include_colab_link": true
    },
    "kernelspec": {
      "name": "python3",
      "display_name": "Python 3"
    },
    "language_info": {
      "name": "python"
    }
  },
  "cells": [
    {
      "cell_type": "markdown",
      "metadata": {
        "id": "view-in-github",
        "colab_type": "text"
      },
      "source": [
        "<a href=\"https://colab.research.google.com/github/carolina-crisos/Code-100/blob/main/E_024.ipynb\" target=\"_parent\"><img src=\"https://colab.research.google.com/assets/colab-badge.svg\" alt=\"Open In Colab\"/></a>"
      ]
    },
    {
      "cell_type": "markdown",
      "source": [
        "**Emular el funcionamiento de la función join para concatenar una lista**"
      ],
      "metadata": {
        "id": "MPoYi-fCUnlc"
      }
    },
    {
      "cell_type": "code",
      "execution_count": null,
      "metadata": {
        "colab": {
          "base_uri": "https://localhost:8080/"
        },
        "id": "4fJThvHCUegL",
        "outputId": "bcfc3952-e51a-4787-8828-73d931ef86e0"
      },
      "outputs": [
        {
          "output_type": "stream",
          "name": "stdout",
          "text": [
            "sollunaeclipse2023\n",
            "sollunaeclipse2023"
          ]
        }
      ],
      "source": [
        "# Definimos una lista de palabras\n",
        "palabras = ['sol', 'luna', 'eclipse', '2023']\n",
        "\n",
        "# Se imprime la lista de palabras concatenadas usando la función join\n",
        "print(''.join(palabras))\n",
        "\n",
        "# Alternativamente, concatenar las palabras usando un bucle for y el argumento end=\"\"\n",
        "# Inicializamos un bucle que recorre índices de 0 a la longitud de la lista palabras - 1\n",
        "for i in range(len(palabras)):\n",
        "\n",
        "    # Se imprime la palabra en la posición i del bucle sin un salto de línea (end=\"\")\n",
        "    print(palabras[i], end=\"\")\n",
        "\n"
      ]
    }
  ]
}