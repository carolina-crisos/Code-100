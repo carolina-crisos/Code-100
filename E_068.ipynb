{
  "nbformat": 4,
  "nbformat_minor": 0,
  "metadata": {
    "colab": {
      "provenance": [],
      "authorship_tag": "ABX9TyOqWQ4aar6PiymQJZGDhICf",
      "include_colab_link": true
    },
    "kernelspec": {
      "name": "python3",
      "display_name": "Python 3"
    },
    "language_info": {
      "name": "python"
    }
  },
  "cells": [
    {
      "cell_type": "markdown",
      "metadata": {
        "id": "view-in-github",
        "colab_type": "text"
      },
      "source": [
        "<a href=\"https://colab.research.google.com/github/carolina-crisos/Code-100/blob/main/E_068.ipynb\" target=\"_parent\"><img src=\"https://colab.research.google.com/assets/colab-badge.svg\" alt=\"Open In Colab\"/></a>"
      ]
    },
    {
      "cell_type": "markdown",
      "source": [
        "1.-**Determinar el Orden de los Bytes en la Arquitectura de Ejecución Actual**\n",
        "\n",
        "2.- **Obtener el Listado de los Módulos Incorporados Disponibles**\n",
        "\n",
        "3.- **Obtener le Tamaño en Bytes de un Objeto**"
      ],
      "metadata": {
        "id": "bRaUkA2DgdND"
      }
    },
    {
      "cell_type": "code",
      "source": [
        "# 1.- Determinar el Orden de los Bytes en la Arquitectura de Ejecución Actual\n",
        "import sys\n",
        "\n",
        "# Verifica si la plataforma es Little-endian o Big-endian y muestra el resultado\n",
        "if sys.byteorder == 'little':\n",
        "  print('Plataforma: Little-endian.')\n",
        "else:\n",
        "  print('Plataforma: Big-endian.')\n"
      ],
      "metadata": {
        "colab": {
          "base_uri": "https://localhost:8080/"
        },
        "id": "pb3CbHj9fQoM",
        "outputId": "a27c98c1-62dc-48ad-eb6c-4e73b56150c6"
      },
      "execution_count": null,
      "outputs": [
        {
          "output_type": "stream",
          "name": "stdout",
          "text": [
            "Plataforma: Little-endian.\n"
          ]
        }
      ]
    },
    {
      "cell_type": "code",
      "source": [
        "# 2.- Obtener el Listado de los Módulos Incorporados Disponibles\n",
        "import sys\n",
        "\n",
        "# Obtiene la lista de los módulos incorporados y los ordena alfabéticamente\n",
        "modulos = sorted(sys.builtin_module_names)\n",
        "\n",
        "# Convierte la lista de módulos en una cadena separada por comas y la imprime\n",
        "modulos = ',' .join(modulos)\n",
        "print(modulos)"
      ],
      "metadata": {
        "colab": {
          "base_uri": "https://localhost:8080/"
        },
        "id": "XJ8rNjN4i-Mn",
        "outputId": "f15b4818-b498-4487-ff88-23800ba46c73"
      },
      "execution_count": null,
      "outputs": [
        {
          "output_type": "stream",
          "name": "stdout",
          "text": [
            "_abc,_ast,_bisect,_blake2,_codecs,_collections,_csv,_datetime,_elementtree,_functools,_heapq,_imp,_io,_locale,_md5,_operator,_pickle,_posixsubprocess,_random,_sha1,_sha256,_sha3,_sha512,_signal,_socket,_sre,_stat,_statistics,_string,_struct,_symtable,_thread,_tracemalloc,_warnings,_weakref,array,atexit,binascii,builtins,cmath,errno,faulthandler,fcntl,gc,grp,itertools,marshal,math,posix,pwd,pyexpat,select,spwd,sys,syslog,time,unicodedata,xxsubtype,zlib\n"
          ]
        }
      ]
    },
    {
      "cell_type": "code",
      "source": [
        "# 3.- Obtener el Tamaño en Bytes de un Objeto\n",
        "import sys\n",
        "\n",
        "# Definición de tres cadenas de texto\n",
        "cadena_uno = 'Lenguaje'\n",
        "cadena_dos = 'Python'\n",
        "cadena_tres = 'Datos'\n",
        "\n",
        "# Muestra el tamaño en bytes de cada cadena utilizando sys.getsizeof()\n",
        "print(f'{cadena_uno} ocupa {sys.getsizeof(cadena_uno)} bytes.')\n",
        "print(f'{cadena_dos} ocupa {sys.getsizeof(cadena_dos)} bytes.')\n",
        "print(f'{cadena_tres} ocupa {sys.getsizeof(cadena_tres)} bytes.')"
      ],
      "metadata": {
        "colab": {
          "base_uri": "https://localhost:8080/"
        },
        "id": "LyQmNTmnjD6L",
        "outputId": "4832ef56-3c51-47f3-b3f4-0de49ac561bb"
      },
      "execution_count": null,
      "outputs": [
        {
          "output_type": "stream",
          "name": "stdout",
          "text": [
            "Lenguaje ocupa 57 bytes.\n",
            "Python ocupa 55 bytes.\n",
            "Datos ocupa 54 bytes.\n"
          ]
        }
      ]
    }
  ]
}